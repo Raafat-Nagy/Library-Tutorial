{
 "cells": [
  {
   "cell_type": "markdown",
   "metadata": {},
   "source": [
    "# **NumPy Sorting**\n",
    "**(`np.sort`, In-Place Sorting `array.sort()`, Inverse Sorting, and `np.argsort`)**"
   ]
  },
  {
   "cell_type": "code",
   "execution_count": 84,
   "metadata": {},
   "outputs": [],
   "source": [
    "import numpy as np"
   ]
  },
  {
   "cell_type": "markdown",
   "metadata": {},
   "source": [
    "---\n"
   ]
  },
  {
   "cell_type": "markdown",
   "metadata": {},
   "source": [
    "## **Table of Contents**\n",
    "1. **Functions for Sorting**\n",
    "   - **2.1 `np.sort()`**\n",
    "     - Examples for `np.sort()`\n",
    "   - **2.2 In-Place Sorting `array.sort()`**\n",
    "     - Examples for In-Place Sorting\n",
    "   - **2.3 Inverse Sorting (Descending Order)**\n",
    "     - Examples for Inverse Sorting\n",
    "   - **2.4 `np.argsort()`**\n",
    "     - Examples for `np.argsort()`\n",
    "2. **Advanced Examples**\n",
    "   - Sorting Structured Arrays\n",
    "\n",
    "---"
   ]
  },
  {
   "cell_type": "markdown",
   "metadata": {},
   "source": [
    "## **2. Functions for Sorting**"
   ]
  },
  {
   "cell_type": "markdown",
   "metadata": {},
   "source": [
    "### **2.1 `np.sort()`**"
   ]
  },
  {
   "cell_type": "markdown",
   "metadata": {},
   "source": [
    "The [`np.sort()`](https://numpy.org/doc/stable/reference/generated/numpy.sort.html) function returns a sorted copy of the input array. By default, it sorts along the last axis.\n",
    "\n",
    "**Syntax:**\n",
    "```python\n",
    "np.sort(array, axis=-1, kind=None, order=None)\n",
    "```\n",
    "\n",
    "- **`array`**: Input array to be sorted.\n",
    "- **`axis`**: Axis along which to sort. Default is `-1` (last axis).\n",
    "- **`kind`**: Sorting algorithm (e.g., `'quicksort'`, `'mergesort'`, `'heapsort'`). Default is `'quicksort'`.\n",
    "- **`order`**: For structured arrays, specifies the field to sort by.\n"
   ]
  },
  {
   "cell_type": "code",
   "execution_count": 85,
   "metadata": {},
   "outputs": [],
   "source": [
    "# help(np.sort)"
   ]
  },
  {
   "cell_type": "markdown",
   "metadata": {},
   "source": [
    "---"
   ]
  },
  {
   "cell_type": "markdown",
   "metadata": {},
   "source": [
    "#### **Examples for `np.sort()`**"
   ]
  },
  {
   "cell_type": "markdown",
   "metadata": {},
   "source": [
    "\n",
    "##### **Example 1: Sorting a 1D Array**\n"
   ]
  },
  {
   "cell_type": "code",
   "execution_count": 86,
   "metadata": {},
   "outputs": [
    {
     "name": "stdout",
     "output_type": "stream",
     "text": [
      "Original 1D Array: [3 1 4 1 5 9 2 6 5]\n"
     ]
    }
   ],
   "source": [
    "# Create a 1D array\n",
    "array_1d = np.array([3, 1, 4, 1, 5, 9, 2, 6, 5])\n",
    "print(\"Original 1D Array:\", array_1d)"
   ]
  },
  {
   "cell_type": "code",
   "execution_count": null,
   "metadata": {},
   "outputs": [
    {
     "name": "stdout",
     "output_type": "stream",
     "text": [
      "Sorted 1D Array: [1 1 2 3 4 5 5 6 9]\n",
      "Original 1D Array After Sorting: [3 1 4 1 5 9 2 6 5]\n"
     ]
    }
   ],
   "source": [
    "# Sort the array\n",
    "sorted_array = np.sort(array_1d)\n",
    "print(\"Sorted 1D Array:\", sorted_array)\n",
    "print(\"Original 1D Array After Sorting:\", array_1d)"
   ]
  },
  {
   "cell_type": "markdown",
   "metadata": {},
   "source": [
    "\n",
    "##### **Example 2: Sorting a 2D Array Along Rows**\n"
   ]
  },
  {
   "cell_type": "code",
   "execution_count": 88,
   "metadata": {},
   "outputs": [
    {
     "name": "stdout",
     "output_type": "stream",
     "text": [
      "Original 2D Array:\n",
      " [[3 1 4]\n",
      " [7 5 9]\n",
      " [2 6 8]]\n"
     ]
    }
   ],
   "source": [
    "# Create a 2D array\n",
    "array_2d = np.array([[3, 1, 4], [7, 5, 9], [2, 6, 8]])\n",
    "print(\"Original 2D Array:\\n\", array_2d)"
   ]
  },
  {
   "cell_type": "code",
   "execution_count": 89,
   "metadata": {},
   "outputs": [
    {
     "name": "stdout",
     "output_type": "stream",
     "text": [
      "Sorted along rows:\n",
      " [[2 1 4]\n",
      " [3 5 8]\n",
      " [7 6 9]]\n"
     ]
    }
   ],
   "source": [
    "# Sort along rows (axis=0)\n",
    "sorted_rows = np.sort(array_2d, axis=0)\n",
    "print(\"Sorted along rows:\\n\", sorted_rows)"
   ]
  },
  {
   "cell_type": "markdown",
   "metadata": {},
   "source": [
    "##### **Example 3: Sorting a 2D Array Along Columns**\n"
   ]
  },
  {
   "cell_type": "code",
   "execution_count": 90,
   "metadata": {},
   "outputs": [
    {
     "name": "stdout",
     "output_type": "stream",
     "text": [
      "Original 2D Array:\n",
      " [[3 1 4]\n",
      " [7 5 9]\n",
      " [2 6 8]]\n"
     ]
    }
   ],
   "source": [
    "# Create a 2D array\n",
    "array_2d = np.array([[3, 1, 4], [7, 5, 9], [2, 6, 8]])\n",
    "print(\"Original 2D Array:\\n\", array_2d)"
   ]
  },
  {
   "cell_type": "code",
   "execution_count": 91,
   "metadata": {},
   "outputs": [
    {
     "name": "stdout",
     "output_type": "stream",
     "text": [
      "Sorted along columns:\n",
      " [[1 3 4]\n",
      " [5 7 9]\n",
      " [2 6 8]]\n"
     ]
    }
   ],
   "source": [
    "# Sort along columns (axis=1)\n",
    "sorted_columns = np.sort(array_2d, axis=1)\n",
    "print(\"Sorted along columns:\\n\", sorted_columns)"
   ]
  },
  {
   "cell_type": "markdown",
   "metadata": {},
   "source": [
    "---"
   ]
  },
  {
   "cell_type": "markdown",
   "metadata": {},
   "source": [
    "### **2.2 In-Place Sorting**"
   ]
  },
  {
   "cell_type": "markdown",
   "metadata": {},
   "source": [
    "\n",
    "In-place sorting modifies the original array directly instead of returning a new sorted array. This is useful when you want to save memory by avoiding the creation of a new array.\n",
    "\n",
    "---\n"
   ]
  },
  {
   "cell_type": "markdown",
   "metadata": {},
   "source": [
    "#### **Examples for In-Place Sorting**"
   ]
  },
  {
   "cell_type": "markdown",
   "metadata": {},
   "source": [
    "##### **Example 1: In-Place Sorting of a 1D Array**"
   ]
  },
  {
   "cell_type": "code",
   "execution_count": 92,
   "metadata": {},
   "outputs": [
    {
     "name": "stdout",
     "output_type": "stream",
     "text": [
      "Original 1D Array: [3 1 4 1 5 9 2 6 5]\n"
     ]
    }
   ],
   "source": [
    "# Create a 1D array\n",
    "array_1d = np.array([3, 1, 4, 1, 5, 9, 2, 6, 5])\n",
    "print(\"Original 1D Array:\", array_1d)"
   ]
  },
  {
   "cell_type": "code",
   "execution_count": 93,
   "metadata": {},
   "outputs": [
    {
     "name": "stdout",
     "output_type": "stream",
     "text": [
      "Sorted 1D Array (in-place): [1 1 2 3 4 5 5 6 9]\n"
     ]
    }
   ],
   "source": [
    "# Sort the array in-place\n",
    "array_1d.sort()\n",
    "print(\"Sorted 1D Array (in-place):\", array_1d)"
   ]
  },
  {
   "cell_type": "markdown",
   "metadata": {},
   "source": [
    "##### **Example 2: In-Place Sorting of a 2D Array Along Rows**"
   ]
  },
  {
   "cell_type": "code",
   "execution_count": 94,
   "metadata": {},
   "outputs": [
    {
     "name": "stdout",
     "output_type": "stream",
     "text": [
      "Original 2D Array:\n",
      " [[3 1 4]\n",
      " [7 5 9]\n",
      " [2 6 8]]\n"
     ]
    }
   ],
   "source": [
    "# Create a 2D array\n",
    "array_2d = np.array([[3, 1, 4], [7, 5, 9], [2, 6, 8]])\n",
    "print(\"Original 2D Array:\\n\", array_2d)"
   ]
  },
  {
   "cell_type": "code",
   "execution_count": 95,
   "metadata": {},
   "outputs": [
    {
     "name": "stdout",
     "output_type": "stream",
     "text": [
      "Sorted along rows (in-place):\n",
      " [[2 1 4]\n",
      " [3 5 8]\n",
      " [7 6 9]]\n"
     ]
    }
   ],
   "source": [
    "# Sort along rows (axis=0) in-place\n",
    "array_2d.sort(axis=0)\n",
    "print(\"Sorted along rows (in-place):\\n\", array_2d)"
   ]
  },
  {
   "cell_type": "markdown",
   "metadata": {},
   "source": [
    "---"
   ]
  },
  {
   "cell_type": "markdown",
   "metadata": {},
   "source": [
    "### **2.3 Inverse Sorting (Descending Order)**"
   ]
  },
  {
   "cell_type": "markdown",
   "metadata": {},
   "source": [
    "\n",
    "To sort an array in **descending order**, you can use slicing with `[::-1]` after sorting in ascending order.\n",
    "\n",
    "---\n"
   ]
  },
  {
   "cell_type": "markdown",
   "metadata": {},
   "source": [
    "#### **Examples for Inverse Sorting**"
   ]
  },
  {
   "cell_type": "markdown",
   "metadata": {},
   "source": [
    "##### **Example 1: Sorting a 1D Array in Descending Order**"
   ]
  },
  {
   "cell_type": "code",
   "execution_count": 96,
   "metadata": {},
   "outputs": [
    {
     "name": "stdout",
     "output_type": "stream",
     "text": [
      "Original 1D Array: [3 1 4 1 5 9 2 6 5]\n"
     ]
    }
   ],
   "source": [
    "# Create a 1D array\n",
    "array_1d = np.array([3, 1, 4, 1, 5, 9, 2, 6, 5])\n",
    "print(\"Original 1D Array:\", array_1d)"
   ]
  },
  {
   "cell_type": "code",
   "execution_count": 97,
   "metadata": {},
   "outputs": [
    {
     "name": "stdout",
     "output_type": "stream",
     "text": [
      "Sorted in Descending Order: [9 6 5 5 4 3 2 1 1]\n"
     ]
    }
   ],
   "source": [
    "# Sort in ascending order, then reverse for descending\n",
    "sorted_descending = np.sort(array_1d)[::-1]\n",
    "print(\"Sorted in Descending Order:\", sorted_descending)"
   ]
  },
  {
   "cell_type": "markdown",
   "metadata": {},
   "source": [
    "##### **Example 2: Sorting a 2D Array in Descending Order Along Columns**"
   ]
  },
  {
   "cell_type": "code",
   "execution_count": 98,
   "metadata": {},
   "outputs": [
    {
     "name": "stdout",
     "output_type": "stream",
     "text": [
      "Original 2D Array:\n",
      " [[3 1 4]\n",
      " [7 5 9]\n",
      " [2 6 8]]\n"
     ]
    }
   ],
   "source": [
    "# Create a 2D array\n",
    "array_2d = np.array([[3, 1, 4], [7, 5, 9], [2, 6, 8]])\n",
    "print(\"Original 2D Array:\\n\", array_2d)"
   ]
  },
  {
   "cell_type": "code",
   "execution_count": 99,
   "metadata": {},
   "outputs": [
    {
     "name": "stdout",
     "output_type": "stream",
     "text": [
      "Sorted along columns (descending):\n",
      " [[7 6 9]\n",
      " [3 5 8]\n",
      " [2 1 4]]\n"
     ]
    }
   ],
   "source": [
    "# Sort along columns in descending order\n",
    "sorted_descending_columns = np.sort(array_2d, axis=0)[::-1]\n",
    "print(\"Sorted along columns (descending):\\n\", sorted_descending_columns)"
   ]
  },
  {
   "cell_type": "markdown",
   "metadata": {},
   "source": [
    "\n",
    "---\n"
   ]
  },
  {
   "cell_type": "markdown",
   "metadata": {},
   "source": [
    "### **2.4 `np.argsort()`**"
   ]
  },
  {
   "cell_type": "markdown",
   "metadata": {},
   "source": [
    "The [`np.argsort()`](https://numpy.org/doc/stable/reference/generated/numpy.argsort.html) function returns the indices that would sort the array. This is useful for rearranging other arrays based on the sorted order.\n",
    "\n",
    "**Syntax:**\n",
    "```python\n",
    "np.argsort(array, axis=-1, kind=None, order=None)\n",
    "```\n",
    "\n",
    "- **`array`**: Input array.\n",
    "- **`axis`**: Axis along which to sort. Default is `-1` (last axis).\n",
    "- **`kind`**: Sorting algorithm. Default is `'quicksort'`.\n",
    "- **`order`**: For structured arrays, specifies the field to sort by.\n"
   ]
  },
  {
   "cell_type": "code",
   "execution_count": 100,
   "metadata": {},
   "outputs": [],
   "source": [
    "# help(np.argsort)"
   ]
  },
  {
   "cell_type": "markdown",
   "metadata": {},
   "source": [
    "---"
   ]
  },
  {
   "cell_type": "markdown",
   "metadata": {},
   "source": [
    "#### **Examples for `np.argsort()`**"
   ]
  },
  {
   "cell_type": "markdown",
   "metadata": {},
   "source": [
    "##### **Example 1: Getting Indices for Sorting a 1D Array**"
   ]
  },
  {
   "cell_type": "code",
   "execution_count": 101,
   "metadata": {},
   "outputs": [
    {
     "name": "stdout",
     "output_type": "stream",
     "text": [
      "Original 1D Array: [13 21 44 11 15 19 12 16 15]\n"
     ]
    }
   ],
   "source": [
    "# Create a 1D array\n",
    "array_1d = np.array([13, 21, 44, 11, 15, 19, 12, 16, 15])\n",
    "print(\"Original 1D Array:\", array_1d)"
   ]
  },
  {
   "cell_type": "code",
   "execution_count": 102,
   "metadata": {},
   "outputs": [
    {
     "name": "stdout",
     "output_type": "stream",
     "text": [
      "Indices that would sort the array: [3 6 0 4 8 7 5 1 2]\n"
     ]
    }
   ],
   "source": [
    "# Get the indices that would sort the array\n",
    "sorted_indices = np.argsort(array_1d)\n",
    "print(\"Indices that would sort the array:\", sorted_indices)"
   ]
  },
  {
   "cell_type": "code",
   "execution_count": 103,
   "metadata": {},
   "outputs": [
    {
     "name": "stdout",
     "output_type": "stream",
     "text": [
      "Rearranged array using indices: [11 12 13 15 15 16 19 21 44]\n"
     ]
    }
   ],
   "source": [
    "# Use the indices to rearrange the original array\n",
    "print(\"Rearranged array using indices:\", array_1d[sorted_indices])"
   ]
  },
  {
   "cell_type": "markdown",
   "metadata": {},
   "source": [
    "---"
   ]
  },
  {
   "cell_type": "markdown",
   "metadata": {},
   "source": [
    "## **3. Advanced Examples**"
   ]
  },
  {
   "cell_type": "markdown",
   "metadata": {},
   "source": [
    "\n",
    "### **3.1 Sorting Structured Arrays**\n",
    "**Example: Sorting by a Specific Field**\n"
   ]
  },
  {
   "cell_type": "code",
   "execution_count": 104,
   "metadata": {},
   "outputs": [
    {
     "name": "stdout",
     "output_type": "stream",
     "text": [
      "dtype:\n",
      " [('name', 'S10'), ('age', <class 'int'>), ('height', <class 'float'>)]\n",
      "\n",
      "Original Structured Array:\n",
      " [(b'Alice', 25, 5.5) (b'Bob', 30, 5.8) (b'Charlie', 20, 5.7)]\n"
     ]
    }
   ],
   "source": [
    "# Create a structured array\n",
    "dtype = [(\"name\", \"S10\"), (\"age\", int), (\"height\", float)]\n",
    "data = np.array(\n",
    "    [(\"Alice\", 25, 5.5), (\"Bob\", 30, 5.8), (\"Charlie\", 20, 5.7)], dtype=dtype\n",
    ")\n",
    "print(\"dtype:\\n\", dtype)\n",
    "print(\"\\nOriginal Structured Array:\\n\", data)"
   ]
  },
  {
   "cell_type": "code",
   "execution_count": 105,
   "metadata": {},
   "outputs": [
    {
     "name": "stdout",
     "output_type": "stream",
     "text": [
      "Sorted by age:\n",
      " [(b'Charlie', 20, 5.7) (b'Alice', 25, 5.5) (b'Bob', 30, 5.8)]\n"
     ]
    }
   ],
   "source": [
    "# Sort by age\n",
    "sorted_by_age = np.sort(data, order=\"age\")\n",
    "print(\"Sorted by age:\\n\", sorted_by_age)"
   ]
  },
  {
   "cell_type": "code",
   "execution_count": 106,
   "metadata": {},
   "outputs": [
    {
     "name": "stdout",
     "output_type": "stream",
     "text": [
      "Sorted by height (descending):\n",
      " [(b'Bob', 30, 5.8) (b'Charlie', 20, 5.7) (b'Alice', 25, 5.5)]\n"
     ]
    }
   ],
   "source": [
    "# Sort by height in descending order\n",
    "sorted_by_height_descending = np.sort(data, order=\"height\")[::-1]\n",
    "print(\"Sorted by height (descending):\\n\", sorted_by_height_descending)"
   ]
  },
  {
   "cell_type": "markdown",
   "metadata": {},
   "source": [
    "---"
   ]
  }
 ],
 "metadata": {
  "kernelspec": {
   "display_name": "Python 3",
   "language": "python",
   "name": "python3"
  },
  "language_info": {
   "codemirror_mode": {
    "name": "ipython",
    "version": 3
   },
   "file_extension": ".py",
   "mimetype": "text/x-python",
   "name": "python",
   "nbconvert_exporter": "python",
   "pygments_lexer": "ipython3",
   "version": "3.12.4"
  }
 },
 "nbformat": 4,
 "nbformat_minor": 2
}
