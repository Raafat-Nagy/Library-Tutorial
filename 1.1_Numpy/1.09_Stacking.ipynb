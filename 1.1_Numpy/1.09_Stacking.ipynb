{
 "cells": [
  {
   "cell_type": "markdown",
   "id": "4050c99d",
   "metadata": {},
   "source": [
    "### **Stacking in NumPy**\n"
   ]
  },
  {
   "cell_type": "code",
   "execution_count": 39,
   "id": "c1851995",
   "metadata": {},
   "outputs": [],
   "source": [
    "import numpy as np"
   ]
  },
  {
   "cell_type": "markdown",
   "id": "bb2b1582",
   "metadata": {},
   "source": [
    "\n",
    "### **Table of Contents**\n",
    "1. **Introduction to Stacking**\n",
    "2. **Vertical Stacking (`np.vstack()`)**\n",
    "3. **Horizontal Stacking (`np.hstack()`)**\n",
    "\n",
    "---"
   ]
  },
  {
   "cell_type": "markdown",
   "id": "057d0880",
   "metadata": {},
   "source": [
    "### **Introduction to Stacking**\n"
   ]
  },
  {
   "cell_type": "markdown",
   "id": "235f3661",
   "metadata": {},
   "source": [
    "Stacking is a powerful feature in NumPy that allows you to combine two or more arrays either **vertically** or **horizontally**. This is done along a new axis, providing increased flexibility in array manipulation."
   ]
  },
  {
   "cell_type": "markdown",
   "id": "38ed7536",
   "metadata": {},
   "source": [
    "---"
   ]
  },
  {
   "cell_type": "markdown",
   "id": "6bbbb7d3",
   "metadata": {},
   "source": [
    "### **Vertical Stacking (`np.vstack()`)**\n",
    "\n",
    "- Vertical stacking combines arrays row-wise. \n",
    "- The arrays must have the same number of columns."
   ]
  },
  {
   "cell_type": "code",
   "execution_count": 40,
   "id": "56203333",
   "metadata": {},
   "outputs": [
    {
     "name": "stdout",
     "output_type": "stream",
     "text": [
      "Vertical Stack (1D arrays):\n",
      " [[1 2 3]\n",
      " [4 5 6]]\n"
     ]
    }
   ],
   "source": [
    "# Example 1: Stacking 1D arrays vertically\n",
    "vert_stack_1d = np.vstack((np.array([1, 2, 3]), np.array([4, 5, 6])))\n",
    "print(\"Vertical Stack (1D arrays):\\n\", vert_stack_1d)"
   ]
  },
  {
   "cell_type": "code",
   "execution_count": 41,
   "id": "c669ec0d",
   "metadata": {},
   "outputs": [
    {
     "name": "stdout",
     "output_type": "stream",
     "text": [
      "Array 1:\n",
      " [[1 1]\n",
      " [2 2]]\n",
      "\n",
      "Array 2:\n",
      " [[3 3]\n",
      " [4 4]]\n"
     ]
    }
   ],
   "source": [
    "# Example 2: Stacking 2D arrays vertically\n",
    "a1 = np.array([[1, 1], [2, 2]])\n",
    "a2 = np.array([[3, 3], [4, 4]])\n",
    "\n",
    "print(\"Array 1:\\n\", a1)\n",
    "print(\"\\nArray 2:\\n\", a2)"
   ]
  },
  {
   "cell_type": "code",
   "execution_count": 42,
   "id": "ab46bdf1",
   "metadata": {},
   "outputs": [
    {
     "name": "stdout",
     "output_type": "stream",
     "text": [
      "Vertical Stack (2D arrays):\n",
      " [[1 1]\n",
      " [2 2]\n",
      " [3 3]\n",
      " [4 4]]\n"
     ]
    }
   ],
   "source": [
    "vert_stack_2d = np.vstack((a1, a2))\n",
    "print(\"Vertical Stack (2D arrays):\\n\", vert_stack_2d)"
   ]
  },
  {
   "cell_type": "markdown",
   "id": "da637650",
   "metadata": {},
   "source": [
    "---"
   ]
  },
  {
   "cell_type": "markdown",
   "id": "05d09263",
   "metadata": {},
   "source": [
    "### **Horizontal Stacking (`np.hstack()`)**\n",
    "- Horizontal stacking combines arrays column-wise. \n",
    "- The arrays must have the same number of rows."
   ]
  },
  {
   "cell_type": "code",
   "execution_count": 43,
   "id": "2df4a78a",
   "metadata": {},
   "outputs": [
    {
     "name": "stdout",
     "output_type": "stream",
     "text": [
      "Horizontal Stack (1D arrays):\n",
      " [1 2 3 4 5 6]\n"
     ]
    }
   ],
   "source": [
    "# Example 1: Stacking 1D arrays horizontally\n",
    "horz_stack_1d = np.hstack((np.array([1, 2, 3]), np.array([4, 5, 6])))\n",
    "print(\"Horizontal Stack (1D arrays):\\n\", horz_stack_1d)"
   ]
  },
  {
   "cell_type": "code",
   "execution_count": 44,
   "id": "0d49cf65",
   "metadata": {},
   "outputs": [
    {
     "name": "stdout",
     "output_type": "stream",
     "text": [
      "Array 1:\n",
      " [[1 1]\n",
      " [2 2]]\n",
      "\n",
      "Array 2:\n",
      " [[3 3]\n",
      " [4 4]]\n"
     ]
    }
   ],
   "source": [
    "# Example 2: Stacking 2D arrays horizontally\n",
    "a1 = np.array([[1, 1], [2, 2]])\n",
    "a2 = np.array([[3, 3], [4, 4]])\n",
    "\n",
    "print(\"Array 1:\\n\", a1)\n",
    "print(\"\\nArray 2:\\n\", a2)"
   ]
  },
  {
   "cell_type": "code",
   "execution_count": 45,
   "id": "98132a50",
   "metadata": {},
   "outputs": [
    {
     "name": "stdout",
     "output_type": "stream",
     "text": [
      "Horizontal Stack (2D arrays):\n",
      " [[1 1 3 3]\n",
      " [2 2 4 4]]\n"
     ]
    }
   ],
   "source": [
    "horz_stack_2d = np.hstack((a1, a2))\n",
    "print(\"Horizontal Stack (2D arrays):\\n\", horz_stack_2d)"
   ]
  }
 ],
 "metadata": {
  "kernelspec": {
   "display_name": "Python 3",
   "language": "python",
   "name": "python3"
  },
  "language_info": {
   "codemirror_mode": {
    "name": "ipython",
    "version": 3
   },
   "file_extension": ".py",
   "mimetype": "text/x-python",
   "name": "python",
   "nbconvert_exporter": "python",
   "pygments_lexer": "ipython3",
   "version": "3.12.4"
  }
 },
 "nbformat": 4,
 "nbformat_minor": 5
}
