{
 "cells": [
  {
   "cell_type": "markdown",
   "metadata": {},
   "source": [
    "## **Vector Norms**"
   ]
  },
  {
   "cell_type": "markdown",
   "metadata": {},
   "source": [
    "### **Table of Contents**\n",
    "\n",
    "- L1 Norm (Manhattan Norm)\n",
    "- L2 Norm (Euclidean Norm)\n",
    "- L`n` Norm (Generalized Norm)\n",
    "- Max Norm (Infinity Norm)"
   ]
  },
  {
   "cell_type": "code",
   "execution_count": null,
   "metadata": {},
   "outputs": [],
   "source": [
    "import numpy as np"
   ]
  },
  {
   "cell_type": "markdown",
   "metadata": {},
   "source": [
    "### **Defining Vector**"
   ]
  },
  {
   "cell_type": "code",
   "execution_count": null,
   "metadata": {},
   "outputs": [
    {
     "name": "stdout",
     "output_type": "stream",
     "text": [
      "[1 2 3]\n"
     ]
    }
   ],
   "source": [
    "vector = np.array([1, 2, 3])\n",
    "print(vector)"
   ]
  },
  {
   "cell_type": "markdown",
   "metadata": {},
   "source": [
    "### **L1 Norm (Manhattan Norm)**"
   ]
  },
  {
   "cell_type": "markdown",
   "metadata": {},
   "source": [
    "- **Formula**:\n",
    "  $$\n",
    "  \\|X\\|_1 = \\sum_{i=1}^n |x_i|\n",
    "  $$\n",
    "- **Description**: Sum of the absolute values of the vector components.\n",
    "- **Use Case**: Used in regularization (Lasso regression) and sparse feature selection."
   ]
  },
  {
   "cell_type": "code",
   "execution_count": null,
   "metadata": {},
   "outputs": [
    {
     "name": "stdout",
     "output_type": "stream",
     "text": [
      "L1 Norm (Manhattan norm) of Vector: 6.0\n"
     ]
    }
   ],
   "source": [
    "# L1 Norm (Manhattan norm)\n",
    "l1_norm = np.linalg.norm(vector, ord=1)\n",
    "print(f\"L1 Norm (Manhattan norm) of Vector: {l1_norm}\")"
   ]
  },
  {
   "cell_type": "markdown",
   "metadata": {},
   "source": [
    "---"
   ]
  },
  {
   "cell_type": "markdown",
   "metadata": {},
   "source": [
    "\n",
    "### **L2 Norm (Euclidean Norm)**"
   ]
  },
  {
   "cell_type": "markdown",
   "metadata": {},
   "source": [
    "- **Formula**:\n",
    "  $$\n",
    "  \\|X\\|_2 = \\sqrt{\\sum_{i=1}^n x_i^2}\n",
    "  $$\n",
    "- **Description**: Square root of the sum of squared vector components. Represents the Euclidean distance.\n",
    "- **Use Case**: Used in regularization (Ridge regression), distance metrics, and normalization."
   ]
  },
  {
   "cell_type": "code",
   "execution_count": null,
   "metadata": {},
   "outputs": [
    {
     "name": "stdout",
     "output_type": "stream",
     "text": [
      "L2 Norm (Euclidean norm) of Vector: 3.7416573867739413\n"
     ]
    }
   ],
   "source": [
    "# L2 Norm (Euclidean norm)\n",
    "l2_norm = np.linalg.norm(vector)\n",
    "print(f\"L2 Norm (Euclidean norm) of Vector: {l2_norm}\")"
   ]
  },
  {
   "cell_type": "markdown",
   "metadata": {},
   "source": [
    "---"
   ]
  },
  {
   "cell_type": "markdown",
   "metadata": {},
   "source": [
    "\n",
    "### **L`n` Norm (Generalized Norm)**\n"
   ]
  },
  {
   "cell_type": "markdown",
   "metadata": {},
   "source": [
    "- **Formula**:\n",
    "  $$\n",
    "  \\|X\\|_n = \\left( \\sum_{i=1}^n |x_i|^n \\right)^{1/n}\n",
    "  $$\n",
    "- **Description**: Generalization of L1 and L2 norms for any positive integer `n`.\n",
    "- **Use Case**: Used in specialized optimization problems and distance metrics."
   ]
  },
  {
   "cell_type": "code",
   "execution_count": null,
   "metadata": {},
   "outputs": [
    {
     "name": "stdout",
     "output_type": "stream",
     "text": [
      "L5 Norm of Vector: 3.077384885394063\n"
     ]
    }
   ],
   "source": [
    "n = 5\n",
    "ln_norm = np.linalg.norm(vector, ord=n)\n",
    "print(f\"L{n} Norm of Vector: {ln_norm}\")"
   ]
  },
  {
   "cell_type": "markdown",
   "metadata": {},
   "source": [
    "---"
   ]
  },
  {
   "cell_type": "markdown",
   "metadata": {},
   "source": [
    "\n",
    "### **Max Norm (Infinity Norm)**\n"
   ]
  },
  {
   "cell_type": "markdown",
   "metadata": {},
   "source": [
    "\n",
    "- **Formula**:\n",
    "  $$\n",
    "  \\|X\\|_\\infty = \\max(|x_1|, |x_2|, \\dots, |x_n|)\n",
    "  $$\n",
    "- **Description**: Maximum absolute value among the vector components.\n",
    "- **Use Case**: Used in optimization and to bound the magnitude of vectors.\n"
   ]
  },
  {
   "cell_type": "code",
   "execution_count": null,
   "metadata": {},
   "outputs": [
    {
     "name": "stdout",
     "output_type": "stream",
     "text": [
      "Infinity Norm (Maximum absolute value) of Vector: 3.0\n"
     ]
    }
   ],
   "source": [
    "# Infinity Norm (Maximum absolute value)\n",
    "inf_norm = np.linalg.norm(vector, ord=np.inf)\n",
    "print(f\"Infinity Norm (Maximum absolute value) of Vector: {inf_norm}\")"
   ]
  },
  {
   "cell_type": "markdown",
   "metadata": {},
   "source": [
    "---"
   ]
  }
 ],
 "metadata": {
  "kernelspec": {
   "display_name": "Python 3",
   "language": "python",
   "name": "python3"
  },
  "language_info": {
   "codemirror_mode": {
    "name": "ipython",
    "version": 3
   },
   "file_extension": ".py",
   "mimetype": "text/x-python",
   "name": "python",
   "nbconvert_exporter": "python",
   "pygments_lexer": "ipython3",
   "version": "3.12.4"
  },
  "pycharm": {
   "stem_cell": {
    "cell_type": "raw",
    "metadata": {
     "collapsed": false
    },
    "source": []
   }
  }
 },
 "nbformat": 4,
 "nbformat_minor": 0
}
