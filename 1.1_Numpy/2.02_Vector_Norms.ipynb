{
 "cells": [
  {
   "cell_type": "markdown",
   "metadata": {
    "collapsed": true,
    "pycharm": {
     "is_executing": false,
     "name": "#%% md\n"
    }
   },
   "source": [
    "## **Vector Norms**"
   ]
  },
  {
   "cell_type": "markdown",
   "metadata": {},
   "source": [
    "### **Table of Contents**\n",
    "\n",
    "- L1 Norm\n",
    "- L2 Norm\n",
    "- L`n` Norm\n",
    "- Max Norm"
   ]
  },
  {
   "cell_type": "code",
   "execution_count": 24,
   "metadata": {},
   "outputs": [],
   "source": [
    "import numpy as np"
   ]
  },
  {
   "cell_type": "markdown",
   "metadata": {},
   "source": [
    "### **Defining Vector**"
   ]
  },
  {
   "cell_type": "code",
   "execution_count": 25,
   "metadata": {},
   "outputs": [
    {
     "name": "stdout",
     "output_type": "stream",
     "text": [
      "[1 2 3]\n"
     ]
    }
   ],
   "source": [
    "vector = np.array([1, 2, 3])\n",
    "print(vector)"
   ]
  },
  {
   "cell_type": "markdown",
   "metadata": {},
   "source": [
    "### **L1 Norm**\n",
    "Also known as **Manhattan** or **Taxicab** norm"
   ]
  },
  {
   "cell_type": "code",
   "execution_count": 26,
   "metadata": {},
   "outputs": [
    {
     "name": "stdout",
     "output_type": "stream",
     "text": [
      "L1 Norm (Manhattan norm) of Vector: 6.0\n"
     ]
    }
   ],
   "source": [
    "# L1 Norm (Manhattan norm)\n",
    "l1_norm = np.linalg.norm(vector, ord=1)\n",
    "print(f\"L1 Norm (Manhattan norm) of Vector: {l1_norm}\")"
   ]
  },
  {
   "cell_type": "markdown",
   "metadata": {},
   "source": [
    "### **L2 Norm**\n",
    "Also known as **Euclidean** norm"
   ]
  },
  {
   "cell_type": "code",
   "execution_count": 27,
   "metadata": {},
   "outputs": [
    {
     "name": "stdout",
     "output_type": "stream",
     "text": [
      "L2 Norm (Euclidean norm) of Vector: 3.7416573867739413\n"
     ]
    }
   ],
   "source": [
    "# L2 Norm (Euclidean norm)\n",
    "l2_norm = np.linalg.norm(vector)\n",
    "print(f\"L2 Norm (Euclidean norm) of Vector: {l2_norm}\")"
   ]
  },
  {
   "cell_type": "markdown",
   "metadata": {},
   "source": [
    "### **L`n` Norm**"
   ]
  },
  {
   "cell_type": "code",
   "execution_count": 45,
   "metadata": {},
   "outputs": [
    {
     "name": "stdout",
     "output_type": "stream",
     "text": [
      "L5 Norm of Vector: 3.077384885394063\n"
     ]
    }
   ],
   "source": [
    "n = 5\n",
    "ln_norm = np.linalg.norm(vector, ord=n)\n",
    "print(f\"L{n} Norm of Vector: {ln_norm}\")"
   ]
  },
  {
   "cell_type": "markdown",
   "metadata": {},
   "source": [
    "### **Max Norm**\n",
    "The **Infinity norm**, which is the maximum absolute value in the vector"
   ]
  },
  {
   "cell_type": "code",
   "execution_count": 28,
   "metadata": {},
   "outputs": [
    {
     "name": "stdout",
     "output_type": "stream",
     "text": [
      "Infinity Norm (Maximum absolute value) of Vector: 3.0\n"
     ]
    }
   ],
   "source": [
    "# Infinity Norm (Maximum absolute value)\n",
    "inf_norm = np.linalg.norm(vector, ord=np.inf)\n",
    "print(f\"Infinity Norm (Maximum absolute value) of Vector: {inf_norm}\")"
   ]
  }
 ],
 "metadata": {
  "kernelspec": {
   "display_name": "Python 3",
   "language": "python",
   "name": "python3"
  },
  "language_info": {
   "codemirror_mode": {
    "name": "ipython",
    "version": 3
   },
   "file_extension": ".py",
   "mimetype": "text/x-python",
   "name": "python",
   "nbconvert_exporter": "python",
   "pygments_lexer": "ipython3",
   "version": "3.12.4"
  },
  "pycharm": {
   "stem_cell": {
    "cell_type": "raw",
    "metadata": {
     "collapsed": false
    },
    "source": []
   }
  }
 },
 "nbformat": 4,
 "nbformat_minor": 0
}
