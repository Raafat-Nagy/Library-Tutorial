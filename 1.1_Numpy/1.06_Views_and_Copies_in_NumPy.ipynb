{
 "cells": [
  {
   "cell_type": "markdown",
   "metadata": {},
   "source": [
    "## **Views and Copies in NumPy**"
   ]
  },
  {
   "cell_type": "code",
   "execution_count": 21,
   "metadata": {},
   "outputs": [],
   "source": [
    "import numpy as np"
   ]
  },
  {
   "cell_type": "markdown",
   "metadata": {},
   "source": [
    "### **Table of Contents**\n",
    "1. **View (Shallow Copy)**\n",
    "2. **Practical Example: Modifying a Subarray**\n",
    "3. **Deep Copy**\n",
    "\n",
    "---"
   ]
  },
  {
   "cell_type": "markdown",
   "metadata": {},
   "source": [
    "### **View (Shallow Copy)**\n",
    "\n",
    "A **view** is a shallow copy of an array. It creates a new array object that shares the same data as the original array. This means that modifying the view will also modify the original array."
   ]
  },
  {
   "cell_type": "code",
   "execution_count": 22,
   "metadata": {},
   "outputs": [
    {
     "name": "stdout",
     "output_type": "stream",
     "text": [
      "Original Array: [1 2 3 4 5]\n",
      "View Array: [1 2 3 4 5]\n"
     ]
    }
   ],
   "source": [
    "# Create an array\n",
    "original_array = np.array([1, 2, 3, 4, 5])\n",
    "\n",
    "# Create a view of the array\n",
    "view_array = original_array.view()\n",
    "\n",
    "print(\"Original Array:\", original_array)\n",
    "print(\"View Array:\", view_array)"
   ]
  },
  {
   "cell_type": "code",
   "execution_count": 31,
   "metadata": {},
   "outputs": [
    {
     "name": "stdout",
     "output_type": "stream",
     "text": [
      "After modifying the view and original array:\n",
      "\n",
      "Original Array: [100   2   3   4 200]\n",
      "View Array: [100   2   3   4 200]\n"
     ]
    }
   ],
   "source": [
    "# Modify the view and original array\n",
    "original_array[0] = 100\n",
    "view_array[-1] = 200\n",
    "\n",
    "print(\"After modifying the view and original array:\")\n",
    "print(\"\\nOriginal Array:\", original_array)\n",
    "print(\"View Array:\", view_array)"
   ]
  },
  {
   "cell_type": "markdown",
   "metadata": {},
   "source": [
    "---"
   ]
  },
  {
   "cell_type": "markdown",
   "metadata": {},
   "source": [
    "### **Practical Example: Modifying a Subarray**\n",
    "\n",
    "When working with subarrays, it’s important to understand whether you’re creating a view or a copy. By default, slicing an array creates a **view**, which means modifying the subarray will also modify the original array."
   ]
  },
  {
   "cell_type": "code",
   "execution_count": 24,
   "metadata": {},
   "outputs": [
    {
     "name": "stdout",
     "output_type": "stream",
     "text": [
      "Original Array:\n",
      " [[12  5  2  4]\n",
      " [ 7  6  8  8]\n",
      " [ 1  6  7  7]]\n"
     ]
    }
   ],
   "source": [
    "# Create a 2D array\n",
    "array_2d = np.array([[12, 5, 2, 4], [7, 6, 8, 8], [1, 6, 7, 7]])\n",
    "print(\"Original Array:\\n\", array_2d)"
   ]
  },
  {
   "cell_type": "code",
   "execution_count": 25,
   "metadata": {},
   "outputs": [
    {
     "name": "stdout",
     "output_type": "stream",
     "text": [
      "Subarray (View):\n",
      " [[12  5]\n",
      " [ 7  6]]\n"
     ]
    }
   ],
   "source": [
    "# Create a subarray (this is a view)\n",
    "sub_array = array_2d[:2, :2]\n",
    "print(\"Subarray (View):\\n\", sub_array)"
   ]
  },
  {
   "cell_type": "code",
   "execution_count": 34,
   "metadata": {},
   "outputs": [
    {
     "name": "stdout",
     "output_type": "stream",
     "text": [
      "After modifying the subarray and original array:\n",
      "\n",
      "Original Array:\n",
      " [[100 200   2   4]\n",
      " [  7   6   8   8]\n",
      " [  1   6   7   7]]\n",
      "\n",
      "Subarray (View):\n",
      " [[100 200]\n",
      " [  7   6]]\n"
     ]
    }
   ],
   "source": [
    "# Modify the subarray and original array\n",
    "array_2d[0, 0] = 100\n",
    "sub_array[0, 1] = 200\n",
    "\n",
    "print(\"After modifying the subarray and original array:\\n\")\n",
    "print(\"Original Array:\\n\", array_2d)\n",
    "print(\"\\nSubarray (View):\\n\", sub_array)"
   ]
  },
  {
   "cell_type": "markdown",
   "metadata": {},
   "source": [
    "---"
   ]
  },
  {
   "cell_type": "markdown",
   "metadata": {},
   "source": [
    "### **Deep Copy**\n",
    "\n",
    "A **deep copy** creates a completely independent copy of the array. Changes made to the deep copy do not affect the original array, and vice versa."
   ]
  },
  {
   "cell_type": "code",
   "execution_count": 27,
   "metadata": {},
   "outputs": [
    {
     "name": "stdout",
     "output_type": "stream",
     "text": [
      "Original Array: [1 2 3 4 5]\n",
      "Deep Copy Array: [1 2 3 4 5]\n"
     ]
    }
   ],
   "source": [
    "# Create an array\n",
    "original_array = np.array([1, 2, 3, 4, 5])\n",
    "\n",
    "# Create a deep copy of the array\n",
    "deep_copy_array = original_array.copy()\n",
    "\n",
    "print(\"Original Array:\", original_array)\n",
    "print(\"Deep Copy Array:\", deep_copy_array)"
   ]
  },
  {
   "cell_type": "code",
   "execution_count": 36,
   "metadata": {},
   "outputs": [
    {
     "name": "stdout",
     "output_type": "stream",
     "text": [
      "After modifying the deep copy and original array:\n",
      "\n",
      "Original Array: [100   2   3   4 200]\n",
      "Deep Copy Array: [100   2   3   4   5]\n"
     ]
    }
   ],
   "source": [
    "# Modify the deep copy and original array\n",
    "original_array[-1] = 200\n",
    "deep_copy_array[0] = 100\n",
    "\n",
    "print(\"After modifying the deep copy and original array:\\n\")\n",
    "print(\"Original Array:\", original_array)\n",
    "print(\"Deep Copy Array:\", deep_copy_array)"
   ]
  }
 ],
 "metadata": {
  "kernelspec": {
   "display_name": "Python 3",
   "language": "python",
   "name": "python3"
  },
  "language_info": {
   "codemirror_mode": {
    "name": "ipython",
    "version": 3
   },
   "file_extension": ".py",
   "mimetype": "text/x-python",
   "name": "python",
   "nbconvert_exporter": "python",
   "pygments_lexer": "ipython3",
   "version": "3.12.4"
  }
 },
 "nbformat": 4,
 "nbformat_minor": 2
}
