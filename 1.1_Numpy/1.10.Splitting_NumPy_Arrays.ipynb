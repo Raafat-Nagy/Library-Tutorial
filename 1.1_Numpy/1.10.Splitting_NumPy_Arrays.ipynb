{
 "cells": [
  {
   "cell_type": "markdown",
   "metadata": {},
   "source": [
    "## **Splitting NumPy Arrays**"
   ]
  },
  {
   "cell_type": "markdown",
   "metadata": {},
   "source": [
    "**Reference:** https://numpy.org/doc/stable/reference/generated/numpy.split.html"
   ]
  },
  {
   "cell_type": "code",
   "execution_count": 79,
   "metadata": {},
   "outputs": [],
   "source": [
    "import numpy as np"
   ]
  },
  {
   "cell_type": "markdown",
   "metadata": {},
   "source": [
    "### **Table of Contents**\n",
    "1. **Introduction to Splitting**\n",
    "2. **Functions for Splitting**\n",
    "   - `np.split()`\n",
    "   - `np.hsplit()`\n",
    "   - `np.vsplit()`\n",
    "\n",
    "---"
   ]
  },
  {
   "cell_type": "markdown",
   "metadata": {},
   "source": [
    "### **1. Introduction to Splitting**\n",
    "\n",
    "Splitting is the process of dividing a NumPy array into multiple subarrays. This is useful for tasks like data preprocessing, cross-validation, or dividing data into training and testing sets.\n",
    "\n",
    "NumPy provides several functions for splitting arrays:\n",
    "- `np.split()`: Splits an array into multiple subarrays along a specified axis.\n",
    "- `np.hsplit()`: Splits an array horizontally (column-wise).\n",
    "- `np.vsplit()`: Splits an array vertically (row-wise).\n",
    "\n",
    "---"
   ]
  },
  {
   "cell_type": "markdown",
   "metadata": {},
   "source": [
    "### **2. Functions for Splitting**\n"
   ]
  },
  {
   "cell_type": "markdown",
   "metadata": {},
   "source": [
    "#### **2.1 `np.split()`**\n",
    "\n",
    "The `np.split()` function splits an array into multiple subarrays along a specified axis. You can specify the indices where the splits should occur."
   ]
  },
  {
   "cell_type": "code",
   "execution_count": 48,
   "metadata": {},
   "outputs": [
    {
     "name": "stdout",
     "output_type": "stream",
     "text": [
      "1D Array: [0 1 2 3 4 5 6 7 8 9]\n"
     ]
    }
   ],
   "source": [
    "# Create a 1D array\n",
    "array_1d = np.arange(10)\n",
    "print(\"1D Array:\", array_1d)"
   ]
  },
  {
   "cell_type": "code",
   "execution_count": 68,
   "metadata": {},
   "outputs": [
    {
     "name": "stdout",
     "output_type": "stream",
     "text": [
      "Split Arrays:\n",
      "Part 1: [0 1]\n",
      "Part 2: [2]\n",
      "Part 3: [3 4 5 6]\n",
      "Part 4: [7 8 9]\n"
     ]
    }
   ],
   "source": [
    "# Split the array at indices [2, 3, 7]\n",
    "split_arrays = np.split(array_1d, indices_or_sections=[2, 3, 7])\n",
    "\n",
    "print(\"Split Arrays:\")\n",
    "for i, arr in enumerate(split_arrays):\n",
    "    print(f\"Part {i+1}:\", arr)"
   ]
  },
  {
   "cell_type": "code",
   "execution_count": 69,
   "metadata": {},
   "outputs": [
    {
     "name": "stdout",
     "output_type": "stream",
     "text": [
      "Unpacked Split Arrays:\n",
      "Part 1: [0 1]\n",
      "Part 2: [2]\n",
      "Part 3: [3 4 5 6]\n",
      "Part 4: [7 8 9]\n"
     ]
    }
   ],
   "source": [
    "# N split points lead to N + 1 subarrays\n",
    "s1, s2, s3, s4 = np.split(array_1d, [2, 3, 7])\n",
    "print(\"Unpacked Split Arrays:\")\n",
    "print(\"Part 1:\", s1)\n",
    "print(\"Part 2:\", s2)\n",
    "print(\"Part 3:\", s3)\n",
    "print(\"Part 4:\", s4)"
   ]
  },
  {
   "cell_type": "markdown",
   "metadata": {},
   "source": [
    "---"
   ]
  },
  {
   "cell_type": "markdown",
   "metadata": {},
   "source": [
    "#### **2.2 `np.hsplit()`**\n",
    "The `np.hsplit()` function splits an array horizontally (column-wise). You can specify the number of sections or the column indices where the splits should occur."
   ]
  },
  {
   "cell_type": "code",
   "execution_count": 51,
   "metadata": {},
   "outputs": [
    {
     "name": "stdout",
     "output_type": "stream",
     "text": [
      "2D Array:\n",
      " [[ 0  1  2  3]\n",
      " [ 4  5  6  7]\n",
      " [ 8  9 10 11]\n",
      " [12 13 14 15]]\n"
     ]
    }
   ],
   "source": [
    "# Create a 2D array\n",
    "array_2d = np.arange(16).reshape((4, 4))\n",
    "print(\"2D Array:\\n\", array_2d)"
   ]
  },
  {
   "cell_type": "code",
   "execution_count": 71,
   "metadata": {},
   "outputs": [
    {
     "name": "stdout",
     "output_type": "stream",
     "text": [
      "Horizontally Split Arrays (2 equal parts):\n",
      "Part 1:\n",
      " [[ 0  1]\n",
      " [ 4  5]\n",
      " [ 8  9]\n",
      " [12 13]]\n",
      "Part 2:\n",
      " [[ 2  3]\n",
      " [ 6  7]\n",
      " [10 11]\n",
      " [14 15]]\n"
     ]
    }
   ],
   "source": [
    "# Split the array horizontally into 2 equal parts\n",
    "hsplit_arrays = np.hsplit(array_2d, indices_or_sections=2)\n",
    "print(\"Horizontally Split Arrays (2 equal parts):\")\n",
    "for i, arr in enumerate(hsplit_arrays):\n",
    "    print(f\"Part {i+1}:\\n\", arr)"
   ]
  },
  {
   "cell_type": "code",
   "execution_count": 73,
   "metadata": {},
   "outputs": [
    {
     "name": "stdout",
     "output_type": "stream",
     "text": [
      "Horizontally Split Arrays (at columns 1 and 3):\n",
      "Part 1:\n",
      " [[ 0]\n",
      " [ 4]\n",
      " [ 8]\n",
      " [12]]\n",
      "Part 2:\n",
      " [[ 1  2]\n",
      " [ 5  6]\n",
      " [ 9 10]\n",
      " [13 14]]\n",
      "Part 3:\n",
      " [[ 3]\n",
      " [ 7]\n",
      " [11]\n",
      " [15]]\n"
     ]
    }
   ],
   "source": [
    "# Split the array at columns 1 and 3\n",
    "hsplit_arrays = np.hsplit(array_2d, indices_or_sections=[1, 3])\n",
    "print(\"Horizontally Split Arrays (at columns 1 and 3):\")\n",
    "for i, arr in enumerate(hsplit_arrays):\n",
    "    print(f\"Part {i+1}:\\n\", arr)"
   ]
  },
  {
   "cell_type": "markdown",
   "metadata": {},
   "source": [
    "---"
   ]
  },
  {
   "cell_type": "markdown",
   "metadata": {},
   "source": [
    "#### **2.3 `np.vsplit()`**\n",
    "The `np.vsplit()` function splits an array vertically (row-wise). You can specify the number of sections or the row indices where the splits should occur."
   ]
  },
  {
   "cell_type": "code",
   "execution_count": 74,
   "metadata": {},
   "outputs": [
    {
     "name": "stdout",
     "output_type": "stream",
     "text": [
      "2D Array:\n",
      " [[ 0  1  2  3]\n",
      " [ 4  5  6  7]\n",
      " [ 8  9 10 11]\n",
      " [12 13 14 15]]\n"
     ]
    }
   ],
   "source": [
    "# Create a 2D array\n",
    "array_2d = np.arange(16).reshape((4, 4))\n",
    "print(\"2D Array:\\n\", array_2d)"
   ]
  },
  {
   "cell_type": "code",
   "execution_count": 76,
   "metadata": {},
   "outputs": [
    {
     "name": "stdout",
     "output_type": "stream",
     "text": [
      "Vertically Split Arrays (2 equal parts):\n",
      "Part 1:\n",
      " [[0 1 2 3]\n",
      " [4 5 6 7]]\n",
      "Part 2:\n",
      " [[ 8  9 10 11]\n",
      " [12 13 14 15]]\n"
     ]
    }
   ],
   "source": [
    "# Split the array vertically into 2 equal parts\n",
    "vsplit_arrays = np.vsplit(array_2d, indices_or_sections=2)\n",
    "print(\"Vertically Split Arrays (2 equal parts):\")\n",
    "for i, arr in enumerate(vsplit_arrays):\n",
    "    print(f\"Part {i+1}:\\n\", arr)"
   ]
  },
  {
   "cell_type": "code",
   "execution_count": 78,
   "metadata": {},
   "outputs": [
    {
     "name": "stdout",
     "output_type": "stream",
     "text": [
      "Vertically Split Arrays (at rows 1 and 3):\n",
      "Part 1:\n",
      " [[0 1 2 3]]\n",
      "Part 2:\n",
      " [[ 4  5  6  7]\n",
      " [ 8  9 10 11]]\n",
      "Part 3:\n",
      " [[12 13 14 15]]\n"
     ]
    }
   ],
   "source": [
    "# Split the array at rows 1 and 3\n",
    "vsplit_arrays = np.vsplit(array_2d, indices_or_sections=[1, 3])\n",
    "print(\"Vertically Split Arrays (at rows 1 and 3):\")\n",
    "for i, arr in enumerate(vsplit_arrays):\n",
    "    print(f\"Part {i+1}:\\n\", arr)"
   ]
  }
 ],
 "metadata": {
  "kernelspec": {
   "display_name": "Python 3",
   "language": "python",
   "name": "python3"
  },
  "language_info": {
   "codemirror_mode": {
    "name": "ipython",
    "version": 3
   },
   "file_extension": ".py",
   "mimetype": "text/x-python",
   "name": "python",
   "nbconvert_exporter": "python",
   "pygments_lexer": "ipython3",
   "version": "3.12.4"
  }
 },
 "nbformat": 4,
 "nbformat_minor": 2
}
