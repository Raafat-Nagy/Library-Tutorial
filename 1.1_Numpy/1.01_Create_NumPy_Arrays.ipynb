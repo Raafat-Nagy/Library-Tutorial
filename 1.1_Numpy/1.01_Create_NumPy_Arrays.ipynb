{
 "cells": [
  {
   "cell_type": "markdown",
   "id": "6dad5195",
   "metadata": {},
   "source": [
    "## **Create NumPy Arrays**"
   ]
  },
  {
   "cell_type": "markdown",
   "id": "dcacdb48",
   "metadata": {},
   "source": [
    "### **Table of Contents** ###\n",
    "\n",
    "- **Install and Import Numpy**\n",
    "- **Create NumPy Arrays**\n",
    "  - `np.array()`\n",
    "  - `np.arange()`\n",
    "  - `np.linspace()`"
   ]
  },
  {
   "cell_type": "markdown",
   "id": "neutral-concern",
   "metadata": {},
   "source": [
    "### **Install and Import Numpy**"
   ]
  },
  {
   "cell_type": "code",
   "execution_count": 68,
   "id": "2597c52f",
   "metadata": {},
   "outputs": [],
   "source": [
    "# !pip install numpy"
   ]
  },
  {
   "cell_type": "code",
   "execution_count": 69,
   "id": "under-hardware",
   "metadata": {},
   "outputs": [],
   "source": [
    "import numpy as np"
   ]
  },
  {
   "cell_type": "markdown",
   "id": "planned-billy",
   "metadata": {},
   "source": [
    "### **Create NumPy Arrays**"
   ]
  },
  {
   "cell_type": "markdown",
   "id": "207e2888",
   "metadata": {},
   "source": [
    "##### **`np.array()`**"
   ]
  },
  {
   "cell_type": "code",
   "execution_count": 5,
   "id": "single-amplifier",
   "metadata": {},
   "outputs": [
    {
     "name": "stdout",
     "output_type": "stream",
     "text": [
      "[1 2 3]\n"
     ]
    }
   ],
   "source": [
    "# Create and print a NumPy array 'a' containing the elements 1, 2, 3.\n",
    "a = np.array([1, 2, 3])\n",
    "print(a)"
   ]
  },
  {
   "cell_type": "markdown",
   "id": "e6030279",
   "metadata": {},
   "source": [
    "##### **`np.arange()`**"
   ]
  },
  {
   "cell_type": "markdown",
   "id": "flexible-palace",
   "metadata": {},
   "source": [
    "Another way to implement an array is using `np.arange()`. This function will return an array of evenly spaced values within a given interval."
   ]
  },
  {
   "cell_type": "code",
   "execution_count": 3,
   "id": "aggressive-beginning",
   "metadata": {},
   "outputs": [
    {
     "name": "stdout",
     "output_type": "stream",
     "text": [
      "[0 1 2]\n"
     ]
    }
   ],
   "source": [
    "# Create an array with 3 integers, starting from the default integer 0.\n",
    "b = np.arange(3)\n",
    "print(b)"
   ]
  },
  {
   "cell_type": "code",
   "execution_count": 6,
   "id": "mineral-assets",
   "metadata": {},
   "outputs": [
    {
     "name": "stdout",
     "output_type": "stream",
     "text": [
      "[ 1  4  7 10 13 16 19]\n"
     ]
    }
   ],
   "source": [
    "# Create an array that starts from the integer 1, ends at 20, incremented by 3.\n",
    "c = np.arange(1, 20, 3)\n",
    "print(c)"
   ]
  },
  {
   "cell_type": "markdown",
   "id": "d0c9096b",
   "metadata": {},
   "source": [
    "##### **`np.linspace()`**"
   ]
  },
  {
   "cell_type": "markdown",
   "id": "little-entrance",
   "metadata": {},
   "source": [
    "Create an array with five evenly spaced values in the interval from 0 to 100?"
   ]
  },
  {
   "cell_type": "code",
   "execution_count": 33,
   "id": "hispanic-offset",
   "metadata": {},
   "outputs": [
    {
     "name": "stdout",
     "output_type": "stream",
     "text": [
      "[  0  25  50  75 100]\n"
     ]
    }
   ],
   "source": [
    "lin_spaced_arr = np.linspace(0, 100, 5, dtype=int)\n",
    "print(lin_spaced_arr)"
   ]
  }
 ],
 "metadata": {
  "kernelspec": {
   "display_name": "Python 3",
   "language": "python",
   "name": "python3"
  },
  "language_info": {
   "codemirror_mode": {
    "name": "ipython",
    "version": 3
   },
   "file_extension": ".py",
   "mimetype": "text/x-python",
   "name": "python",
   "nbconvert_exporter": "python",
   "pygments_lexer": "ipython3",
   "version": "3.12.4"
  },
  "widgets": {
   "application/vnd.jupyter.widget-state+json": {
    "state": {},
    "version_major": 2,
    "version_minor": 0
   }
  }
 },
 "nbformat": 4,
 "nbformat_minor": 5
}
