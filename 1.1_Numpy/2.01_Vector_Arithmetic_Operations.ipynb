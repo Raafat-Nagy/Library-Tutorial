{
 "cells": [
  {
   "cell_type": "markdown",
   "metadata": {
    "collapsed": false
   },
   "source": [
    "### **Vector Arithmetic Operations in NumPy**"
   ]
  },
  {
   "cell_type": "markdown",
   "metadata": {},
   "source": [
    "### **Table of Contents** ###\n",
    "\n",
    "- Defining A Vector\n",
    "- Vector Addition\n",
    "- Vector Subtraction\n",
    "- Vector-Vector Multiplication\n",
    "- Vector Division\n",
    "- Vector .dot() Product\n",
    "- Vector-Scalar Multiplication"
   ]
  },
  {
   "cell_type": "code",
   "execution_count": 35,
   "metadata": {},
   "outputs": [],
   "source": [
    "import numpy as np"
   ]
  },
  {
   "cell_type": "markdown",
   "metadata": {},
   "source": [
    "### **Defining Vectors**"
   ]
  },
  {
   "cell_type": "code",
   "execution_count": 36,
   "metadata": {
    "collapsed": false,
    "pycharm": {
     "is_executing": false,
     "name": "#%%\n"
    }
   },
   "outputs": [
    {
     "name": "stdout",
     "output_type": "stream",
     "text": [
      "Vector_1: [1 2 3]\n",
      "Vector_2: [1 2 3]\n"
     ]
    }
   ],
   "source": [
    "vector1 = np.array([1, 2, 3])\n",
    "vector2 = np.array([1, 2, 3])\n",
    "print(f\"Vector_1: {vector1}\")\n",
    "print(f\"Vector_2: {vector2}\")"
   ]
  },
  {
   "cell_type": "markdown",
   "metadata": {
    "collapsed": false
   },
   "source": [
    "### **Vector Addition**"
   ]
  },
  {
   "cell_type": "code",
   "execution_count": 37,
   "metadata": {
    "collapsed": false,
    "pycharm": {
     "is_executing": false,
     "name": "#%%\n"
    }
   },
   "outputs": [
    {
     "name": "stdout",
     "output_type": "stream",
     "text": [
      "Vector_1 + Vector_2: [2 4 6]\n"
     ]
    }
   ],
   "source": [
    "add_result = vector1 + vector2\n",
    "print(f\"Vector_1 + Vector_2: {add_result}\")"
   ]
  },
  {
   "cell_type": "markdown",
   "metadata": {
    "collapsed": false
   },
   "source": [
    "### **Vector Subtraction**"
   ]
  },
  {
   "cell_type": "code",
   "execution_count": 38,
   "metadata": {
    "collapsed": false,
    "pycharm": {
     "is_executing": false,
     "name": "#%%\n"
    }
   },
   "outputs": [
    {
     "name": "stdout",
     "output_type": "stream",
     "text": [
      "Vector 3: [0.5 0.5 0.5]\n",
      "\n",
      "Vector_1 - Vector_3: [0.5 1.5 2.5]\n"
     ]
    }
   ],
   "source": [
    "vector3 = np.array([0.5, 0.5, 0.5])\n",
    "print(f\"Vector 3: {vector3}\\n\")\n",
    "\n",
    "sub_result = vector1 - vector3\n",
    "print(f\"Vector_1 - Vector_3: {sub_result}\")"
   ]
  },
  {
   "cell_type": "markdown",
   "metadata": {
    "collapsed": false,
    "pycharm": {
     "name": "#%% md\n"
    }
   },
   "source": [
    "### **Vector Multiplication (Element-wise)**\n"
   ]
  },
  {
   "cell_type": "code",
   "execution_count": 39,
   "metadata": {
    "collapsed": false,
    "pycharm": {
     "is_executing": false,
     "name": "#%%\n"
    }
   },
   "outputs": [
    {
     "name": "stdout",
     "output_type": "stream",
     "text": [
      "Vector_1 * Vector_2: [1 4 9]\n"
     ]
    }
   ],
   "source": [
    "multiplication_result = vector1 * vector2\n",
    "print(f\"Vector_1 * Vector_2: {multiplication_result}\")"
   ]
  },
  {
   "cell_type": "markdown",
   "metadata": {
    "collapsed": false
   },
   "source": [
    "### **Vector Division (Element-wise)**\n"
   ]
  },
  {
   "cell_type": "code",
   "execution_count": 40,
   "metadata": {
    "collapsed": false,
    "pycharm": {
     "is_executing": false,
     "name": "#%%\n"
    }
   },
   "outputs": [
    {
     "name": "stdout",
     "output_type": "stream",
     "text": [
      "Vector_1 / Vector_2: [1. 1. 1.]\n"
     ]
    }
   ],
   "source": [
    "division_result = vector1 / vector2\n",
    "print(f\"Vector_1 / Vector_2: {division_result}\")"
   ]
  },
  {
   "cell_type": "markdown",
   "metadata": {
    "collapsed": false
   },
   "source": [
    "### **Vector Dot Product**\n"
   ]
  },
  {
   "cell_type": "code",
   "execution_count": 41,
   "metadata": {
    "collapsed": false,
    "pycharm": {
     "is_executing": false,
     "name": "#%%\n"
    }
   },
   "outputs": [
    {
     "name": "stdout",
     "output_type": "stream",
     "text": [
      "Dot Product of Vector_1 and Vector_2: 14\n"
     ]
    }
   ],
   "source": [
    "dot_product_result = np.dot(vector1, vector2)\n",
    "print(f\"Dot Product of Vector_1 and Vector_2: {dot_product_result}\")"
   ]
  },
  {
   "cell_type": "markdown",
   "metadata": {
    "collapsed": false,
    "pycharm": {
     "name": "#%% md\n"
    }
   },
   "source": [
    "### **Vector-Scalar Multiplication**\n"
   ]
  },
  {
   "cell_type": "code",
   "execution_count": 42,
   "metadata": {
    "collapsed": false,
    "pycharm": {
     "is_executing": false,
     "name": "#%%\n"
    }
   },
   "outputs": [
    {
     "name": "stdout",
     "output_type": "stream",
     "text": [
      "Scalar: 0.5\n",
      "Scalar * Vector_1: [0.5 1.  1.5]\n"
     ]
    }
   ],
   "source": [
    "scalar = 0.5\n",
    "print(f\"Scalar: {scalar}\")\n",
    "\n",
    "scalar_multiplication_result = scalar * vector1\n",
    "print(f\"Scalar * Vector_1: {scalar_multiplication_result}\")"
   ]
  }
 ],
 "metadata": {
  "kernelspec": {
   "display_name": "Python 3",
   "language": "python",
   "name": "python3"
  },
  "language_info": {
   "codemirror_mode": {
    "name": "ipython",
    "version": 3
   },
   "file_extension": ".py",
   "mimetype": "text/x-python",
   "name": "python",
   "nbconvert_exporter": "python",
   "pygments_lexer": "ipython3",
   "version": "3.12.4"
  },
  "pycharm": {
   "stem_cell": {
    "cell_type": "raw",
    "metadata": {
     "collapsed": false
    },
    "source": []
   }
  }
 },
 "nbformat": 4,
 "nbformat_minor": 0
}
