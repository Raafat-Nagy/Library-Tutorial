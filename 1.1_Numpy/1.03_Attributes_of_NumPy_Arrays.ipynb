{
 "cells": [
  {
   "cell_type": "markdown",
   "id": "6dad5195",
   "metadata": {},
   "source": [
    "## **Attributes of NumPy Arrays**\n"
   ]
  },
  {
   "cell_type": "markdown",
   "id": "indie-lithuania",
   "metadata": {},
   "source": [
    "### **Table of Contents** ###\n",
    "\n",
    "- **Introduction**\n",
    "- **Creating Multidimensional Arrays**\n",
    "- **Finding Dimension, Shape, Size, Data-Type, ItemSize and Num of Bytes**\n",
    "  - `ndarray.ndim`\n",
    "  - `ndarray.shape`\n",
    "  - `ndarray.size`\n",
    "  - `ndarray.dtype`\n",
    "  - `ndarray.itemsize`\n",
    "  - `ndarray.nbytes`\n",
    "- **Function to Analyze Array Attributes**"
   ]
  },
  {
   "cell_type": "markdown",
   "id": "fefd2fb9",
   "metadata": {},
   "source": [
    "---"
   ]
  },
  {
   "cell_type": "markdown",
   "id": "7faade5a",
   "metadata": {},
   "source": [
    "### **Introduction** ###\n",
    "NumPy arrays have several useful attributes that help us understand their structure, including dimensions, shape, size, and data type. This notebook explores these attributes with examples."
   ]
  },
  {
   "cell_type": "code",
   "execution_count": 58,
   "id": "d2848bdb",
   "metadata": {},
   "outputs": [],
   "source": [
    "import numpy as np"
   ]
  },
  {
   "cell_type": "markdown",
   "id": "32b835fd",
   "metadata": {},
   "source": [
    "### **Creating a NumPy Array** ###\n",
    "Let's create a simple 2D NumPy array to explore its attributes."
   ]
  },
  {
   "cell_type": "code",
   "execution_count": 59,
   "id": "e38b0379",
   "metadata": {},
   "outputs": [
    {
     "name": "stdout",
     "output_type": "stream",
     "text": [
      "[[1 2 3]\n",
      " [4 5 6]]\n"
     ]
    }
   ],
   "source": [
    "# Create a 2D array (2 rows, 3 columns)\n",
    "a = np.array([[1, 2, 3], [4, 5, 6]])\n",
    "print(a)"
   ]
  },
  {
   "cell_type": "markdown",
   "id": "b6b780ed",
   "metadata": {},
   "source": [
    "### **Finding Dimension, Shape, Size, Data-Type, ItemSize and Num of Bytes**"
   ]
  },
  {
   "cell_type": "markdown",
   "id": "50e17461",
   "metadata": {},
   "source": [
    "##### **Number of Dimensions**\n",
    "\n",
    "`ndarray.ndim` stores the number of dimensions of the array."
   ]
  },
  {
   "cell_type": "code",
   "execution_count": 60,
   "id": "caring-julian",
   "metadata": {},
   "outputs": [
    {
     "name": "stdout",
     "output_type": "stream",
     "text": [
      "ndim: 2\n"
     ]
    }
   ],
   "source": [
    "print(\"ndim:\", a.ndim)"
   ]
  },
  {
   "cell_type": "markdown",
   "id": "b7afec3e",
   "metadata": {},
   "source": [
    "##### **Shape of the Array**\n",
    "\n",
    "`ndarray.shape` returns a tuple representing the shape (rows, columns) of the array.\n"
   ]
  },
  {
   "cell_type": "code",
   "execution_count": 61,
   "id": "7f789e1f",
   "metadata": {},
   "outputs": [
    {
     "name": "stdout",
     "output_type": "stream",
     "text": [
      "Shape (rows, columns): (2, 3)\n"
     ]
    }
   ],
   "source": [
    "print(\"Shape (rows, columns):\", a.shape)"
   ]
  },
  {
   "cell_type": "markdown",
   "id": "0a6190dd",
   "metadata": {},
   "source": [
    "##### **Total Number of Elements**\n",
    "\n",
    "`ndarray.size` returns the total number of elements in the array."
   ]
  },
  {
   "cell_type": "code",
   "execution_count": 62,
   "id": "cca18181",
   "metadata": {},
   "outputs": [
    {
     "name": "stdout",
     "output_type": "stream",
     "text": [
      "Size: 6\n"
     ]
    }
   ],
   "source": [
    "print(\"Size:\", a.size)"
   ]
  },
  {
   "cell_type": "markdown",
   "id": "11c68f08",
   "metadata": {},
   "source": [
    "##### **Data Type of Elements**\n",
    "\n",
    "`ndarray.dtype` shows the data type of the elements in the array."
   ]
  },
  {
   "cell_type": "code",
   "execution_count": 63,
   "id": "edc198ef",
   "metadata": {},
   "outputs": [
    {
     "name": "stdout",
     "output_type": "stream",
     "text": [
      "dtype: int32\n"
     ]
    }
   ],
   "source": [
    "print(\"dtype:\", a.dtype)"
   ]
  },
  {
   "cell_type": "markdown",
   "id": "120038aa",
   "metadata": {},
   "source": [
    "##### **Memory Usage Information**"
   ]
  },
  {
   "cell_type": "markdown",
   "id": "06eac114",
   "metadata": {},
   "source": [
    "**Item Size:**\n",
    "\n",
    "`ndarray.itemsize` returns the memory size (in bytes) of each element in the array."
   ]
  },
  {
   "cell_type": "code",
   "execution_count": 64,
   "id": "0522c6c2",
   "metadata": {},
   "outputs": [
    {
     "name": "stdout",
     "output_type": "stream",
     "text": [
      "Item size (bytes per element): 4\n"
     ]
    }
   ],
   "source": [
    "print(\"Item size (bytes per element):\", a.itemsize)"
   ]
  },
  {
   "cell_type": "markdown",
   "id": "26052e2b",
   "metadata": {},
   "source": [
    "**Total Size of the Array in Bytes:**\n",
    "\n",
    "`ndarray.nbytes` calculates the total memory size occupied by the array.\n"
   ]
  },
  {
   "cell_type": "code",
   "execution_count": 73,
   "id": "603346f6",
   "metadata": {},
   "outputs": [
    {
     "name": "stdout",
     "output_type": "stream",
     "text": [
      "Total memory size (bytes): 24\n",
      "Total memory size (bytes): 24\n"
     ]
    }
   ],
   "source": [
    "print(\"Total memory size (bytes):\", a.nbytes)\n",
    "print(\"Total memory size (bytes):\", (a.size * a.itemsize))"
   ]
  },
  {
   "cell_type": "markdown",
   "id": "573ff939",
   "metadata": {},
   "source": [
    "---"
   ]
  },
  {
   "cell_type": "markdown",
   "id": "f031f6a5",
   "metadata": {},
   "source": [
    "### **Function to Analyze Array Attributes**"
   ]
  },
  {
   "cell_type": "code",
   "execution_count": 66,
   "id": "937757b1",
   "metadata": {},
   "outputs": [],
   "source": [
    "def analyze_array(arr):\n",
    "    print(\"Array:\\n\", arr)\n",
    "    print(\"\\nNumber of dimensions (ndim):\", arr.ndim)\n",
    "    print(\"Shape:\", arr.shape)\n",
    "    print(\"Total number of elements (size):\", arr.size)\n",
    "    print(\"Data type (dtype):\", arr.dtype)\n",
    "    print(\"Item size (bytes per element):\", arr.itemsize)\n",
    "    print(\"Total memory size (bytes):\", arr.nbytes)"
   ]
  },
  {
   "cell_type": "code",
   "execution_count": 67,
   "id": "8f91b750",
   "metadata": {},
   "outputs": [
    {
     "name": "stdout",
     "output_type": "stream",
     "text": [
      "Array:\n",
      " [1 2 3 4 5]\n",
      "\n",
      "Number of dimensions (ndim): 1\n",
      "Shape: (5,)\n",
      "Total number of elements (size): 5\n",
      "Data type (dtype): int32\n",
      "Item size (bytes per element): 4\n",
      "Total memory size (bytes): 20\n"
     ]
    }
   ],
   "source": [
    "# Create a 1D array (5 elements)\n",
    "b = np.array([1, 2, 3, 4, 5])\n",
    "\n",
    "# Analyze the array\n",
    "analyze_array(b)"
   ]
  },
  {
   "cell_type": "code",
   "execution_count": 68,
   "id": "7d8a3ca3",
   "metadata": {},
   "outputs": [
    {
     "name": "stdout",
     "output_type": "stream",
     "text": [
      "Array:\n",
      " [[ 1  2  3  4]\n",
      " [ 5  6  7  8]\n",
      " [ 9 10 11 12]]\n",
      "\n",
      "Number of dimensions (ndim): 2\n",
      "Shape: (3, 4)\n",
      "Total number of elements (size): 12\n",
      "Data type (dtype): int32\n",
      "Item size (bytes per element): 4\n",
      "Total memory size (bytes): 48\n"
     ]
    }
   ],
   "source": [
    "# Create a 2D array (3 rows, 4 columns)\n",
    "c = np.array([[1, 2, 3, 4], [5, 6, 7, 8], [9, 10, 11, 12]])\n",
    "\n",
    "# Analyze the array\n",
    "analyze_array(c)"
   ]
  },
  {
   "cell_type": "code",
   "execution_count": 69,
   "id": "95c80ee0",
   "metadata": {},
   "outputs": [
    {
     "name": "stdout",
     "output_type": "stream",
     "text": [
      "Array:\n",
      " [[[ 1  2  3  4]\n",
      "  [ 5  6  7  8]\n",
      "  [ 9 10 11 12]]\n",
      "\n",
      " [[13 14 15 16]\n",
      "  [17 18 19 20]\n",
      "  [21 22 23 24]]]\n",
      "\n",
      "Number of dimensions (ndim): 3\n",
      "Shape: (2, 3, 4)\n",
      "Total number of elements (size): 24\n",
      "Data type (dtype): int32\n",
      "Item size (bytes per element): 4\n",
      "Total memory size (bytes): 96\n"
     ]
    }
   ],
   "source": [
    "# Create a 3D array (2 blocks, 3 rows, 4 columns)\n",
    "d = np.array(\n",
    "    [\n",
    "        [[1, 2, 3, 4], [5, 6, 7, 8], [9, 10, 11, 12]],\n",
    "        [[13, 14, 15, 16], [17, 18, 19, 20], [21, 22, 23, 24]],\n",
    "    ]\n",
    ")\n",
    "\n",
    "# Analyze the array\n",
    "analyze_array(d)"
   ]
  }
 ],
 "metadata": {
  "kernelspec": {
   "display_name": "Python 3",
   "language": "python",
   "name": "python3"
  },
  "language_info": {
   "codemirror_mode": {
    "name": "ipython",
    "version": 3
   },
   "file_extension": ".py",
   "mimetype": "text/x-python",
   "name": "python",
   "nbconvert_exporter": "python",
   "pygments_lexer": "ipython3",
   "version": "3.12.4"
  }
 },
 "nbformat": 4,
 "nbformat_minor": 5
}
