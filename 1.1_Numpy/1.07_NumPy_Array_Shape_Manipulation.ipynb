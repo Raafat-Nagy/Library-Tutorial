{
 "cells": [
  {
   "cell_type": "markdown",
   "metadata": {},
   "source": [
    "## **NumPy Array Shape Manipulation**\n"
   ]
  },
  {
   "cell_type": "markdown",
   "metadata": {},
   "source": [
    "### **Table of Contents**\n",
    "- Introduction\n",
    "- Reshaping Arrays\n",
    "  - `np.reshape()`\n",
    "- Flattening Arrays\n",
    "  - `np.ravel()`\n",
    "- Removing Single-Dimension Entries\n",
    "  - `np.squeeze()`\n",
    "\n",
    "---"
   ]
  },
  {
   "cell_type": "markdown",
   "metadata": {},
   "source": [
    "### **Introduction**\n",
    "NumPy provides powerful functions to manipulate array shapes efficiently. You can reshape arrays, flatten them, and remove unnecessary dimensions easily."
   ]
  },
  {
   "cell_type": "code",
   "execution_count": 31,
   "metadata": {},
   "outputs": [],
   "source": [
    "import numpy as np"
   ]
  },
  {
   "cell_type": "markdown",
   "metadata": {},
   "source": [
    "### **Reshaping Arrays**"
   ]
  },
  {
   "cell_type": "markdown",
   "metadata": {},
   "source": [
    "##### **`np.reshape()`:** Used to change the shape of an array without modifying its data.\n"
   ]
  },
  {
   "cell_type": "markdown",
   "metadata": {},
   "source": [
    "**Example:** Reshape a 1D array into 2D and 3D.\n"
   ]
  },
  {
   "cell_type": "code",
   "execution_count": 32,
   "metadata": {},
   "outputs": [
    {
     "name": "stdout",
     "output_type": "stream",
     "text": [
      "Original array:\n",
      "[ 0  1  2  3  4  5  6  7  8  9 10 11 12 13 14 15 16 17 18 19 20 21 22 23]\n",
      "Shape: (24,)\n"
     ]
    }
   ],
   "source": [
    "original_array = np.arange(24)\n",
    "print(\"Original array:\")\n",
    "print(original_array)\n",
    "print(\"Shape:\", original_array.shape)"
   ]
  },
  {
   "cell_type": "code",
   "execution_count": 33,
   "metadata": {},
   "outputs": [
    {
     "name": "stdout",
     "output_type": "stream",
     "text": [
      "Reshaped to (3,8):\n",
      " [[ 0  1  2  3  4  5  6  7]\n",
      " [ 8  9 10 11 12 13 14 15]\n",
      " [16 17 18 19 20 21 22 23]]\n",
      "Shape: (3, 8)\n"
     ]
    }
   ],
   "source": [
    "# Reshape to (3,8)\n",
    "reshaped_3_8 = original_array.reshape((3, 8))\n",
    "print(\"Reshaped to (3,8):\\n\", reshaped_3_8)\n",
    "print(\"Shape:\", reshaped_3_8.shape)"
   ]
  },
  {
   "cell_type": "code",
   "execution_count": 34,
   "metadata": {},
   "outputs": [
    {
     "name": "stdout",
     "output_type": "stream",
     "text": [
      "Reshaped to (2,3,4):\n",
      " [[[ 0  1  2  3]\n",
      "  [ 4  5  6  7]\n",
      "  [ 8  9 10 11]]\n",
      "\n",
      " [[12 13 14 15]\n",
      "  [16 17 18 19]\n",
      "  [20 21 22 23]]]\n",
      "Shape: (2, 3, 4)\n"
     ]
    }
   ],
   "source": [
    "# Reshape to (2,3,4)\n",
    "reshaped_3d = original_array.reshape((2, 3, 4))\n",
    "print(\"Reshaped to (2,3,4):\\n\", reshaped_3d)\n",
    "print(\"Shape:\", reshaped_3d.shape)"
   ]
  },
  {
   "cell_type": "markdown",
   "metadata": {},
   "source": [
    "---"
   ]
  },
  {
   "cell_type": "markdown",
   "metadata": {},
   "source": [
    "### **Flattening Arrays**"
   ]
  },
  {
   "cell_type": "markdown",
   "metadata": {},
   "source": [
    "##### **`np.ravel()`:** Returns a 1D flattened array from any multi-dimensional array."
   ]
  },
  {
   "cell_type": "markdown",
   "metadata": {},
   "source": [
    "**Example:** Flatten a 3D array."
   ]
  },
  {
   "cell_type": "code",
   "execution_count": 35,
   "metadata": {},
   "outputs": [
    {
     "name": "stdout",
     "output_type": "stream",
     "text": [
      "3D Array:\n",
      " [[[ 0  1  2  3]\n",
      "  [ 4  5  6  7]\n",
      "  [ 8  9 10 11]]\n",
      "\n",
      " [[12 13 14 15]\n",
      "  [16 17 18 19]\n",
      "  [20 21 22 23]]]\n"
     ]
    }
   ],
   "source": [
    "print(\"3D Array:\\n\", reshaped_3d)"
   ]
  },
  {
   "cell_type": "code",
   "execution_count": 36,
   "metadata": {},
   "outputs": [
    {
     "name": "stdout",
     "output_type": "stream",
     "text": [
      "Flattened array:\n",
      " [ 0  1  2  3  4  5  6  7  8  9 10 11 12 13 14 15 16 17 18 19 20 21 22 23]\n",
      "Shape: (24,)\n"
     ]
    }
   ],
   "source": [
    "flattened_array = reshaped_3d.ravel()\n",
    "print(\"Flattened array:\\n\", flattened_array)\n",
    "print(\"Shape:\", flattened_array.shape)"
   ]
  },
  {
   "cell_type": "markdown",
   "metadata": {},
   "source": [
    "---"
   ]
  },
  {
   "cell_type": "markdown",
   "metadata": {},
   "source": [
    "### **Removing Single-Dimension Entries**"
   ]
  },
  {
   "cell_type": "markdown",
   "metadata": {},
   "source": [
    "##### **`np.squeeze()`**\n",
    "- Removes axes with size 1 from an array.\n",
    "- `np.squeeze(arr, axis=n)` removes a specific axis if its size is 1."
   ]
  },
  {
   "cell_type": "code",
   "execution_count": 37,
   "metadata": {},
   "outputs": [
    {
     "name": "stdout",
     "output_type": "stream",
     "text": [
      "Original shape: (1, 24, 1)\n",
      "Shape after squeeze: (24,)\n"
     ]
    }
   ],
   "source": [
    "# Example 1: Remove all single-dimension axes\n",
    "a = np.arange(24).reshape(1, 24, 1)\n",
    "squeezed_a = np.squeeze(a)\n",
    "print(\"Original shape:\", a.shape)\n",
    "print(\"Shape after squeeze:\", squeezed_a.shape)"
   ]
  },
  {
   "cell_type": "code",
   "execution_count": 38,
   "metadata": {},
   "outputs": [
    {
     "name": "stdout",
     "output_type": "stream",
     "text": [
      "Original shape: (1, 6, 4)\n",
      "Shape after squeezing axis 0: (6, 4)\n"
     ]
    }
   ],
   "source": [
    "# Example 2: Remove axis 0 only\n",
    "a = np.arange(24).reshape(1, 6, 4)\n",
    "squeezed_a = np.squeeze(a, axis=0)\n",
    "print(\"Original shape:\", a.shape)\n",
    "print(\"Shape after squeezing axis 0:\", squeezed_a.shape)"
   ]
  },
  {
   "cell_type": "code",
   "execution_count": 39,
   "metadata": {},
   "outputs": [
    {
     "name": "stdout",
     "output_type": "stream",
     "text": [
      "Original shape: (1, 24, 1)\n",
      "Shape after squeezing axis 2: (1, 24)\n"
     ]
    }
   ],
   "source": [
    "# Example 3: Remove axis 2 only\n",
    "a = np.arange(24).reshape(1, 24, 1)\n",
    "squeezed_a = np.squeeze(a, axis=2)\n",
    "print(\"Original shape:\", a.shape)\n",
    "print(\"Shape after squeezing axis 2:\", squeezed_a.shape)"
   ]
  },
  {
   "cell_type": "code",
   "execution_count": 40,
   "metadata": {},
   "outputs": [
    {
     "name": "stdout",
     "output_type": "stream",
     "text": [
      "Original shape: (2, 3, 4)\n",
      "Shape after squeeze (unchanged): (2, 3, 4)\n"
     ]
    }
   ],
   "source": [
    "# Example 4: Attempt to remove a non-singleton axis (no change)\n",
    "a = np.arange(24).reshape(2, 3, 4)\n",
    "squeezed_a = np.squeeze(a)\n",
    "print(\"Original shape:\", a.shape)\n",
    "print(\"Shape after squeeze (unchanged):\", squeezed_a.shape)"
   ]
  }
 ],
 "metadata": {
  "kernelspec": {
   "display_name": "Python 3",
   "language": "python",
   "name": "python3"
  },
  "language_info": {
   "codemirror_mode": {
    "name": "ipython",
    "version": 3
   },
   "file_extension": ".py",
   "mimetype": "text/x-python",
   "name": "python",
   "nbconvert_exporter": "python",
   "pygments_lexer": "ipython3",
   "version": "3.12.4"
  }
 },
 "nbformat": 4,
 "nbformat_minor": 2
}
