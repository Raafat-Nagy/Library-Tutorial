{
 "cells": [
  {
   "cell_type": "markdown",
   "id": "6dad5195",
   "metadata": {},
   "source": [
    "## **Multidimensional Arrays**\n"
   ]
  },
  {
   "cell_type": "markdown",
   "id": "indie-lithuania",
   "metadata": {},
   "source": [
    "### **Table of Contents** ###\n",
    "\n",
    "- Creating Multidimensional Arrays\n",
    "- Reshaping Arrays"
   ]
  },
  {
   "cell_type": "markdown",
   "id": "835ba175",
   "metadata": {},
   "source": [
    "---"
   ]
  },
  {
   "cell_type": "code",
   "execution_count": 1,
   "id": "d2848bdb",
   "metadata": {},
   "outputs": [],
   "source": [
    "import numpy as np"
   ]
  },
  {
   "cell_type": "markdown",
   "id": "3ff413dd",
   "metadata": {},
   "source": [
    "### **Creating Multidimensional Arrays**\n",
    "Let's start by creating 1D, 2D, and 3D arrays."
   ]
  },
  {
   "attachments": {
    "0_Vh-pKXTJsdL-9FT0.png": {
     "image/png": "[encoded data removed]"
    }
   },
   "cell_type": "markdown",
   "id": "editorial-adobe",
   "metadata": {},
   "source": [
    "![0_Vh-pKXTJsdL-9FT0.png](attachment:0_Vh-pKXTJsdL-9FT0.png)\n"
   ]
  },
  {
   "cell_type": "code",
   "execution_count": 2,
   "id": "8c338681",
   "metadata": {},
   "outputs": [
    {
     "name": "stdout",
     "output_type": "stream",
     "text": [
      "1D Array:\n",
      " [1 2 3 4 5 6]\n"
     ]
    }
   ],
   "source": [
    "# 1-D array\n",
    "one_dim_arr = np.array([1, 2, 3, 4, 5, 6])\n",
    "print(\"1D Array:\\n\", one_dim_arr)"
   ]
  },
  {
   "cell_type": "code",
   "execution_count": 4,
   "id": "turned-nevada",
   "metadata": {},
   "outputs": [
    {
     "name": "stdout",
     "output_type": "stream",
     "text": [
      "2D Array:\n",
      " [[1 2 3]\n",
      " [4 5 6]]\n"
     ]
    }
   ],
   "source": [
    "# 2-D array\n",
    "two_dim_arr = np.array([[1, 2, 3], [4, 5, 6]])\n",
    "print(\"2D Array:\\n\", two_dim_arr)"
   ]
  },
  {
   "cell_type": "code",
   "execution_count": 5,
   "id": "513c8683",
   "metadata": {},
   "outputs": [
    {
     "name": "stdout",
     "output_type": "stream",
     "text": [
      "3D Array:\n",
      " [[[1 2 3]\n",
      "  [4 5 6]]]\n"
     ]
    }
   ],
   "source": [
    "# 3-D array\n",
    "three_dim_arr = np.array([[[1, 2, 3], [4, 5, 6]]])\n",
    "print(\"3D Array:\\n\", three_dim_arr)"
   ]
  },
  {
   "cell_type": "markdown",
   "id": "c2a6b977",
   "metadata": {},
   "source": [
    "### **Reshaping Arrays**\n",
    "An alternative way to create a multidimensional array is by reshaping a 1-D array. Using `np.reshape()`, you can rearrange elements into a new shape.\n"
   ]
  },
  {
   "cell_type": "code",
   "execution_count": 7,
   "id": "assisted-traveler",
   "metadata": {},
   "outputs": [
    {
     "name": "stdout",
     "output_type": "stream",
     "text": [
      "Reshaped 2D Array:\n",
      " [[1 2 3]\n",
      " [4 5 6]]\n"
     ]
    }
   ],
   "source": [
    "# 1-D array\n",
    "one_dim_arr = np.array([1, 2, 3, 4, 5, 6])\n",
    "\n",
    "# Multidimensional array using reshape()\n",
    "multi_dim_arr = np.reshape(one_dim_arr, (2, 3))\n",
    "\n",
    "# Print the new 2-D array with two rows and three columns\n",
    "print(\"Reshaped 2D Array:\\n\", multi_dim_arr)"
   ]
  }
 ],
 "metadata": {
  "kernelspec": {
   "display_name": "Python 3",
   "language": "python",
   "name": "python3"
  },
  "language_info": {
   "codemirror_mode": {
    "name": "ipython",
    "version": 3
   },
   "file_extension": ".py",
   "mimetype": "text/x-python",
   "name": "python",
   "nbconvert_exporter": "python",
   "pygments_lexer": "ipython3",
   "version": "3.12.4"
  }
 },
 "nbformat": 4,
 "nbformat_minor": 5
}
