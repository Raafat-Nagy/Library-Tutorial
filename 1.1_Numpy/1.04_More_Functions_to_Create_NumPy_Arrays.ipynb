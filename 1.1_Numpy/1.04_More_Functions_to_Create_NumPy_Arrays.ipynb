{
 "cells": [
  {
   "cell_type": "markdown",
   "id": "6dad5195",
   "metadata": {},
   "source": [
    "## **More Functions to Create NumPy Arrays**"
   ]
  },
  {
   "cell_type": "markdown",
   "id": "8231c804",
   "metadata": {},
   "source": [
    "NumPy provides various functions to create arrays easily, including ones filled with specific values or random numbers.\n"
   ]
  },
  {
   "cell_type": "markdown",
   "id": "dcacdb48",
   "metadata": {},
   "source": [
    "### **Table of Contents** ###\n",
    "\n",
    "- **Creating Arrays with Specific Values**\n",
    "  - `np.ones()`\n",
    "  - `np.zeros()`\n",
    "  - `np.full()`\n",
    "  - `np.empty()`\n",
    "- **Creating Random Arrays**\n",
    "  - `np.random.rand()`\n",
    "  - `np.random.random()`\n",
    "  - `np.random.randint()`\n",
    "  - `np.random.normal()`\n",
    "- **Creating Identity and Diagonal Matrices**\n",
    "  - `np.eye()`\n",
    "  - `np.diag()`"
   ]
  },
  {
   "cell_type": "code",
   "execution_count": 2,
   "id": "under-hardware",
   "metadata": {},
   "outputs": [],
   "source": [
    "import numpy as np"
   ]
  },
  {
   "cell_type": "markdown",
   "id": "86b4ce64",
   "metadata": {},
   "source": [
    "---"
   ]
  },
  {
   "cell_type": "markdown",
   "id": "ready-backup",
   "metadata": {},
   "source": [
    "### **Creating Arrays with Specific Values** ###"
   ]
  },
  {
   "cell_type": "markdown",
   "id": "badc22bf",
   "metadata": {},
   "source": [
    "##### **`np.ones()`**"
   ]
  },
  {
   "cell_type": "code",
   "execution_count": 3,
   "id": "prime-gamma",
   "metadata": {},
   "outputs": [
    {
     "name": "stdout",
     "output_type": "stream",
     "text": [
      "Ones Array:\n",
      " [1. 1. 1.]\n"
     ]
    }
   ],
   "source": [
    "# Creates an array filled with ones.\n",
    "ones_arr = np.ones(3)\n",
    "print(\"Ones Array:\\n\", ones_arr)"
   ]
  },
  {
   "cell_type": "markdown",
   "id": "274b514e",
   "metadata": {},
   "source": [
    "##### **`np.zeros()`**"
   ]
  },
  {
   "cell_type": "code",
   "execution_count": 4,
   "id": "altered-timer",
   "metadata": {},
   "outputs": [
    {
     "name": "stdout",
     "output_type": "stream",
     "text": [
      "Zeros Array:\n",
      " [0. 0. 0.]\n"
     ]
    }
   ],
   "source": [
    "# Creates an array filled with zeros.\n",
    "zeros_arr = np.zeros(3)\n",
    "print(\"Zeros Array:\\n\", zeros_arr)"
   ]
  },
  {
   "cell_type": "markdown",
   "id": "1b5ad781",
   "metadata": {},
   "source": [
    "##### **`np.full()`**"
   ]
  },
  {
   "cell_type": "code",
   "execution_count": 5,
   "id": "0b26946d",
   "metadata": {},
   "outputs": [
    {
     "name": "stdout",
     "output_type": "stream",
     "text": [
      "Full Array:\n",
      " [[5 5 5]\n",
      " [5 5 5]]\n"
     ]
    }
   ],
   "source": [
    "# Creating an array filled with a constant value\n",
    "a = np.full((2, 3), 5)\n",
    "print(\"Full Array:\\n\", a)"
   ]
  },
  {
   "cell_type": "markdown",
   "id": "d500bd7b",
   "metadata": {},
   "source": [
    "##### **`np.empty()`**"
   ]
  },
  {
   "cell_type": "code",
   "execution_count": 6,
   "id": "loaded-kansas",
   "metadata": {},
   "outputs": [
    {
     "name": "stdout",
     "output_type": "stream",
     "text": [
      "Empty Array:\n",
      " [1. 1. 1.]\n"
     ]
    }
   ],
   "source": [
    "# Creates an uninitialized array of given shape.\n",
    "empty_arr = np.empty(3)\n",
    "print(\"Empty Array:\\n\", empty_arr)"
   ]
  },
  {
   "cell_type": "markdown",
   "id": "2f977dbc",
   "metadata": {},
   "source": [
    "---"
   ]
  },
  {
   "cell_type": "markdown",
   "id": "1ac05506",
   "metadata": {},
   "source": [
    "### **Creating Random Arrays**"
   ]
  },
  {
   "cell_type": "markdown",
   "id": "465ef832",
   "metadata": {},
   "source": [
    "##### **`np.random.rand()`**"
   ]
  },
  {
   "cell_type": "code",
   "execution_count": 7,
   "id": "color-steps",
   "metadata": {},
   "outputs": [
    {
     "name": "stdout",
     "output_type": "stream",
     "text": [
      "Random Array (rand):\n",
      " [0.60201348 0.56802377 0.59910824]\n"
     ]
    }
   ],
   "source": [
    "# Generates random floating-point numbers between 0 and 1.\n",
    "rand_arr = np.random.rand(3)\n",
    "print(\"Random Array (rand):\\n\", rand_arr)"
   ]
  },
  {
   "cell_type": "markdown",
   "id": "f94a842c",
   "metadata": {},
   "source": [
    "##### **`np.random.random()`**"
   ]
  },
  {
   "cell_type": "code",
   "execution_count": 8,
   "id": "3b63ea5f",
   "metadata": {},
   "outputs": [
    {
     "name": "stdout",
     "output_type": "stream",
     "text": [
      "Random Array (random):\n",
      " [0.80730082 0.16467785 0.18710266]\n"
     ]
    }
   ],
   "source": [
    "# Generates random floating-point numbers between 0 and 1.\n",
    "rand_random_arr = np.random.random(3)\n",
    "print(\"Random Array (random):\\n\", rand_random_arr)"
   ]
  },
  {
   "cell_type": "markdown",
   "id": "98894d10",
   "metadata": {},
   "source": [
    "##### **Difference Between `np.random.rand(3)` and `np.random.random(3)`**\n",
    "- Both generate random numbers between 0 and 1.\n",
    "- Difference in syntax:\n",
    "  - `np.random.rand()` uses arguments without parentheses.\n",
    "  - `np.random.random()` uses arguments inside parentheses."
   ]
  },
  {
   "cell_type": "markdown",
   "id": "adabe1d0",
   "metadata": {},
   "source": [
    "##### **`np.random.randint()`**"
   ]
  },
  {
   "cell_type": "code",
   "execution_count": 9,
   "id": "fe281620",
   "metadata": {},
   "outputs": [
    {
     "name": "stdout",
     "output_type": "stream",
     "text": [
      "Random Integer Array:\n",
      " [43 36 21]\n"
     ]
    }
   ],
   "source": [
    "# Generates random integers within a specified range.\n",
    "rand_int_arr = np.random.randint(low=10, high=50, size=3)\n",
    "print(\"Random Integer Array:\\n\", rand_int_arr)"
   ]
  },
  {
   "cell_type": "markdown",
   "id": "952397a4",
   "metadata": {},
   "source": [
    "##### **`np.random.normal()`**"
   ]
  },
  {
   "cell_type": "markdown",
   "id": "4130837e",
   "metadata": {},
   "source": [
    "Generates random numbers sampled from a normal (Gaussian) distribution."
   ]
  },
  {
   "cell_type": "code",
   "execution_count": 10,
   "id": "4fc4b24d",
   "metadata": {},
   "outputs": [
    {
     "name": "stdout",
     "output_type": "stream",
     "text": [
      "Random Normal Array:\n",
      " [-0.63137561  1.6418319  -1.01857842]\n"
     ]
    }
   ],
   "source": [
    "# Generate an array of 3 random numbers with a mean of 0 and a standard deviation of 1.\n",
    "rand_normal_arr = np.random.normal(loc=0, scale=1, size=3)\n",
    "print(\"Random Normal Array:\\n\", rand_normal_arr)"
   ]
  },
  {
   "cell_type": "markdown",
   "id": "7ede3d9a",
   "metadata": {},
   "source": [
    "- `loc`: Mean\n",
    "- `scale`: Standard deviation\n",
    "- `size`: Array size"
   ]
  },
  {
   "cell_type": "markdown",
   "id": "fbd47e69",
   "metadata": {},
   "source": [
    "---"
   ]
  },
  {
   "cell_type": "markdown",
   "id": "82892d28",
   "metadata": {},
   "source": [
    "### **Creating Identity and Diagonal Matrices**\n"
   ]
  },
  {
   "cell_type": "markdown",
   "id": "c3e03dba",
   "metadata": {},
   "source": [
    "##### **`np.eye()`**"
   ]
  },
  {
   "cell_type": "code",
   "execution_count": 18,
   "id": "8c377210",
   "metadata": {},
   "outputs": [
    {
     "name": "stdout",
     "output_type": "stream",
     "text": [
      "Identity Matrix:\n",
      " [[1 0 0]\n",
      " [0 1 0]\n",
      " [0 0 1]]\n"
     ]
    }
   ],
   "source": [
    "# Creating an identity matrix\n",
    "identity_matrix = np.eye(3, dtype=int)\n",
    "print(\"Identity Matrix:\\n\", identity_matrix)"
   ]
  },
  {
   "cell_type": "markdown",
   "id": "f0b00177",
   "metadata": {},
   "source": [
    "##### **`np.diag()`**"
   ]
  },
  {
   "cell_type": "markdown",
   "id": "6ff87b48",
   "metadata": {},
   "source": [
    "Creates a diagonal matrix with specified values."
   ]
  },
  {
   "cell_type": "code",
   "execution_count": 16,
   "id": "0000fd28",
   "metadata": {},
   "outputs": [
    {
     "name": "stdout",
     "output_type": "stream",
     "text": [
      "Diagonal Matrix:\n",
      " [[1 0 0]\n",
      " [0 5 0]\n",
      " [0 0 9]]\n"
     ]
    }
   ],
   "source": [
    "diag_arr = np.diag([1, 5, 9])\n",
    "print(\"Diagonal Matrix:\\n\", diag_arr)"
   ]
  },
  {
   "cell_type": "code",
   "execution_count": 19,
   "id": "18f0c0b9",
   "metadata": {},
   "outputs": [
    {
     "name": "stdout",
     "output_type": "stream",
     "text": [
      "Diagonal Matrix:\n",
      " [[1 0 0]\n",
      " [0 1 0]\n",
      " [0 0 1]]\n"
     ]
    }
   ],
   "source": [
    "diag_arr = np.diag([1, 1, 1])\n",
    "print(\"Diagonal Matrix:\\n\", diag_arr)"
   ]
  }
 ],
 "metadata": {
  "kernelspec": {
   "display_name": "Python 3",
   "language": "python",
   "name": "python3"
  },
  "language_info": {
   "codemirror_mode": {
    "name": "ipython",
    "version": 3
   },
   "file_extension": ".py",
   "mimetype": "text/x-python",
   "name": "python",
   "nbconvert_exporter": "python",
   "pygments_lexer": "ipython3",
   "version": "3.12.4"
  },
  "widgets": {
   "application/vnd.jupyter.widget-state+json": {
    "state": {},
    "version_major": 2,
    "version_minor": 0
   }
  }
 },
 "nbformat": 4,
 "nbformat_minor": 5
}
