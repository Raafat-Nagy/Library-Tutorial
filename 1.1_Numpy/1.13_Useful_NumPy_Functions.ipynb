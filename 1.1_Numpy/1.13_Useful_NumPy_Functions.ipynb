{
 "cells": [
  {
   "cell_type": "markdown",
   "metadata": {},
   "source": [
    "# **Useful NumPy Functions**"
   ]
  },
  {
   "cell_type": "code",
   "execution_count": 1,
   "metadata": {},
   "outputs": [],
   "source": [
    "import numpy as np"
   ]
  },
  {
   "cell_type": "markdown",
   "metadata": {},
   "source": [
    "---"
   ]
  },
  {
   "cell_type": "markdown",
   "metadata": {},
   "source": [
    "## **Table of Contents**\n",
    "1. **Logical Operations**\n",
    "   - `np.all()`\n",
    "   - `np.any()`\n",
    "2. **Conditional Operations**\n",
    "   - `np.where()`\n",
    "3. **Handling Missing Values**\n",
    "   - `np.isnan()`\n",
    "4. **Array Manipulation**\n",
    "   - `np.unique()`\n",
    "   - `np.argmax()` and `np.argmin()`\n",
    "   - `np.clip()`\n",
    "   - `np.reshape()`\n",
    "5. **Mathematical Operations**\n",
    "   - `np.sum()`\n",
    "   - `np.mean()`\n",
    "   - `np.max()` and `np.min()`\n",
    "---\n"
   ]
  },
  {
   "cell_type": "markdown",
   "metadata": {},
   "source": [
    "## **1. Logical Operations**"
   ]
  },
  {
   "cell_type": "markdown",
   "metadata": {},
   "source": [
    "\n",
    "### **`np.all()`**\n"
   ]
  },
  {
   "cell_type": "markdown",
   "metadata": {},
   "source": [
    "Checks if **all elements** in an array evaluate to `True` along a specified axis.\n",
    "\n",
    "**Syntax:**\n",
    "```python\n",
    "np.all(array, axis=None)\n",
    "```\n",
    "\n",
    "- **`array`**: Input array.\n",
    "- **`axis`**: Axis along which to check. If `None`, checks all elements in the array.\n"
   ]
  },
  {
   "cell_type": "code",
   "execution_count": 15,
   "metadata": {},
   "outputs": [
    {
     "name": "stdout",
     "output_type": "stream",
     "text": [
      "[ True  True False  True]\n",
      "Are all elements True? False\n"
     ]
    }
   ],
   "source": [
    "# Check if all elements in a 1D array are True\n",
    "array_1d = np.array([True, True, False, True])\n",
    "print(array_1d)\n",
    "print(\"Are all elements True?\", np.all(array_1d))"
   ]
  },
  {
   "cell_type": "code",
   "execution_count": 9,
   "metadata": {},
   "outputs": [
    {
     "name": "stdout",
     "output_type": "stream",
     "text": [
      "[[ True  True]\n",
      " [False  True]\n",
      " [ True  True]]\n"
     ]
    }
   ],
   "source": [
    "array_2d = np.array([[True, True], [False, True], [True, True]])\n",
    "print(array_2d)"
   ]
  },
  {
   "cell_type": "code",
   "execution_count": 12,
   "metadata": {},
   "outputs": [
    {
     "name": "stdout",
     "output_type": "stream",
     "text": [
      "[[ True]\n",
      " [False]\n",
      " [ True]]\n"
     ]
    }
   ],
   "source": [
    "# Check if all elements along rows in a 2D array are True\n",
    "print(np.all(array_2d, axis=1, keepdims=True))"
   ]
  },
  {
   "cell_type": "code",
   "execution_count": 13,
   "metadata": {},
   "outputs": [
    {
     "name": "stdout",
     "output_type": "stream",
     "text": [
      "[[ True]\n",
      " [False]\n",
      " [ True]]\n"
     ]
    }
   ],
   "source": [
    "# Check if all elements along cols in a 2D array are True\n",
    "print(np.all(array_2d, axis=1, keepdims=True))"
   ]
  },
  {
   "cell_type": "markdown",
   "metadata": {},
   "source": [
    "\n",
    "---\n"
   ]
  },
  {
   "cell_type": "markdown",
   "metadata": {},
   "source": [
    "\n",
    "### **`np.any()`**\n"
   ]
  },
  {
   "cell_type": "markdown",
   "metadata": {},
   "source": [
    "Checks if **any element** in an array evaluates to `True` along a specified axis.\n",
    "\n",
    "**Syntax:**\n",
    "```python\n",
    "np.any(array, axis=None)\n",
    "```\n",
    "\n",
    "- **`array`**: Input array.\n",
    "- **`axis`**: Axis along which to check. If `None`, checks all elements in the array.\n"
   ]
  },
  {
   "cell_type": "code",
   "execution_count": 17,
   "metadata": {},
   "outputs": [
    {
     "name": "stdout",
     "output_type": "stream",
     "text": [
      "Is any element True? True\n"
     ]
    }
   ],
   "source": [
    "# Check if any element in a 1D array is True\n",
    "array_1d = np.array([False, False, True, False])\n",
    "print(\"Is any element True?\", np.any(array_1d))"
   ]
  },
  {
   "cell_type": "code",
   "execution_count": 23,
   "metadata": {},
   "outputs": [
    {
     "name": "stdout",
     "output_type": "stream",
     "text": [
      "[[False False]\n",
      " [ True False]\n",
      " [False False]]\n"
     ]
    }
   ],
   "source": [
    "array_2d = np.array([[False, False], [True, False], [False, False]])\n",
    "print(array_2d)"
   ]
  },
  {
   "cell_type": "code",
   "execution_count": 24,
   "metadata": {},
   "outputs": [
    {
     "name": "stdout",
     "output_type": "stream",
     "text": [
      "[[ True False]]\n"
     ]
    }
   ],
   "source": [
    "# Check if any element along columns in a 2D array is True\n",
    "print(np.any(array_2d, axis=0, keepdims=True))"
   ]
  },
  {
   "cell_type": "code",
   "execution_count": 25,
   "metadata": {},
   "outputs": [
    {
     "name": "stdout",
     "output_type": "stream",
     "text": [
      "[[False]\n",
      " [ True]\n",
      " [False]]\n"
     ]
    }
   ],
   "source": [
    "# Check if any element along rows in a 2D array is True\n",
    "print(np.any(array_2d, axis=1, keepdims=True))"
   ]
  },
  {
   "cell_type": "markdown",
   "metadata": {},
   "source": [
    "\n",
    "---\n"
   ]
  },
  {
   "cell_type": "markdown",
   "metadata": {},
   "source": [
    "\n",
    "## **2. Conditional Operations**\n"
   ]
  },
  {
   "cell_type": "markdown",
   "metadata": {},
   "source": [
    "\n",
    "### **`np.where()`**\n"
   ]
  },
  {
   "cell_type": "markdown",
   "metadata": {},
   "source": [
    "Returns the indices or values where a condition is `True`. It can also replace values based on a condition.\n",
    "\n",
    "**Syntax:**\n",
    "```python\n",
    "np.where(condition, x, y)\n",
    "```\n",
    "\n",
    "- **`condition`**: Condition to check.\n",
    "- **`x`**: Values to return where the condition is `True`.\n",
    "- **`y`**: Values to return where the condition is `False`.\n"
   ]
  },
  {
   "cell_type": "code",
   "execution_count": 27,
   "metadata": {},
   "outputs": [
    {
     "name": "stdout",
     "output_type": "stream",
     "text": [
      "Indices where elements > 3: (array([3, 4], dtype=int64),)\n"
     ]
    }
   ],
   "source": [
    "# Find indices where elements are greater than 3\n",
    "array_1d = np.array([1, 2, 3, 4, 5])\n",
    "print(\"Indices where elements > 3:\", np.where(array_1d > 3))"
   ]
  },
  {
   "cell_type": "code",
   "execution_count": 29,
   "metadata": {},
   "outputs": [
    {
     "name": "stdout",
     "output_type": "stream",
     "text": [
      "Array after replacement: [ 1  2  3 10 10]\n"
     ]
    }
   ],
   "source": [
    "# Replace elements greater than 3 with 10, otherwise keep the original value\n",
    "print(\"Array after replacement:\", np.where(array_1d > 3, 10, array_1d))"
   ]
  },
  {
   "cell_type": "markdown",
   "metadata": {},
   "source": [
    "\n",
    "---\n"
   ]
  },
  {
   "cell_type": "markdown",
   "metadata": {},
   "source": [
    "\n",
    "## **3. Handling Missing Values**\n"
   ]
  },
  {
   "cell_type": "markdown",
   "metadata": {},
   "source": [
    "### **`np.isnan()`**"
   ]
  },
  {
   "cell_type": "markdown",
   "metadata": {},
   "source": [
    "Checks for **NaN (Not a Number)** values in an array and returns a boolean array.\n",
    "\n",
    "**Syntax:**\n",
    "```python\n",
    "np.isnan(array)\n",
    "```\n",
    "\n",
    "- **`array`**: Input array.\n"
   ]
  },
  {
   "cell_type": "code",
   "execution_count": 31,
   "metadata": {},
   "outputs": [
    {
     "name": "stdout",
     "output_type": "stream",
     "text": [
      "Is NaN? [False False  True False  True]\n"
     ]
    }
   ],
   "source": [
    "# Check for NaN values in a 1D array\n",
    "array_1d = np.array([1, 2, np.nan, 4, np.nan])\n",
    "print(\"Is NaN?\", np.isnan(array_1d))"
   ]
  },
  {
   "cell_type": "code",
   "execution_count": 32,
   "metadata": {},
   "outputs": [
    {
     "name": "stdout",
     "output_type": "stream",
     "text": [
      "Array after replacing NaN with 0: [1. 2. 0. 4. 0.]\n"
     ]
    }
   ],
   "source": [
    "# Replace NaN values with 0\n",
    "array_1d[np.isnan(array_1d)] = 0\n",
    "print(\"Array after replacing NaN with 0:\", array_1d)"
   ]
  },
  {
   "cell_type": "markdown",
   "metadata": {},
   "source": [
    "\n",
    "---\n"
   ]
  },
  {
   "cell_type": "markdown",
   "metadata": {},
   "source": [
    "\n",
    "## **4. Array Manipulation**\n"
   ]
  },
  {
   "cell_type": "markdown",
   "metadata": {},
   "source": [
    "\n",
    "### **`np.unique()`**\n"
   ]
  },
  {
   "cell_type": "markdown",
   "metadata": {},
   "source": [
    "Returns the **unique elements** in an array, sorted in ascending order.\n",
    "\n",
    "**Syntax:**\n",
    "```python\n",
    "np.unique(array, return_index=False, return_counts=False)\n",
    "```\n",
    "\n",
    "- **`array`**: Input array.\n",
    "- **`return_index`**: If `True`, returns the indices of the first occurrences of the unique elements.\n",
    "- **`return_counts`**: If `True`, returns the counts of each unique element.\n"
   ]
  },
  {
   "cell_type": "code",
   "execution_count": null,
   "metadata": {},
   "outputs": [
    {
     "name": "stdout",
     "output_type": "stream",
     "text": [
      "Unique elements: [1 2 3 4]\n"
     ]
    }
   ],
   "source": [
    "# Find unique elements in a 1D array\n",
    "array_1d = np.array([1, 2, 2, 3, 3, 3, 4])\n",
    "print(\"Unique elements:\", np.unique(array_1d))"
   ]
  },
  {
   "cell_type": "code",
   "execution_count": 35,
   "metadata": {},
   "outputs": [
    {
     "name": "stdout",
     "output_type": "stream",
     "text": [
      "Indices of first occurrences: [0 1 3 6]\n",
      "Counts of unique elements: [1 2 3 1]\n"
     ]
    }
   ],
   "source": [
    "# Find unique elements with indices and counts\n",
    "unique_elements, indices, counts = np.unique(\n",
    "    array_1d, return_index=True, return_counts=True\n",
    ")\n",
    "\n",
    "print(\"Indices of first occurrences:\", indices)\n",
    "print(\"Counts of unique elements:\", counts)"
   ]
  },
  {
   "cell_type": "markdown",
   "metadata": {},
   "source": [
    "\n",
    "---\n"
   ]
  },
  {
   "cell_type": "markdown",
   "metadata": {},
   "source": [
    "### **`np.argmax()` and `np.argmin()`**"
   ]
  },
  {
   "cell_type": "markdown",
   "metadata": {},
   "source": [
    "Returns the **indices of the maximum and minimum values** along an axis.\n",
    "\n",
    "**Syntax:**\n",
    "```python\n",
    "np.argmax(array, axis=None)\n",
    "np.argmin(array, axis=None)\n",
    "```\n",
    "\n",
    "- **`array`**: Input array.\n",
    "- **`axis`**: Axis along which to find the indices. If `None`, works on the flattened array.\n"
   ]
  },
  {
   "cell_type": "code",
   "execution_count": 37,
   "metadata": {},
   "outputs": [
    {
     "name": "stdout",
     "output_type": "stream",
     "text": [
      "Index of maximum value: 3\n",
      "Index of minimum value: 0\n"
     ]
    }
   ],
   "source": [
    "# Find index of maximum and minimum in a 1D array\n",
    "array_1d = np.array([1, 5, 3, 9, 2])\n",
    "print(\"Index of maximum value:\", np.argmax(array_1d))  # Output: 3\n",
    "print(\"Index of minimum value:\", np.argmin(array_1d))  # Output: 0"
   ]
  },
  {
   "cell_type": "code",
   "execution_count": 44,
   "metadata": {},
   "outputs": [
    {
     "name": "stdout",
     "output_type": "stream",
     "text": [
      "[[1 5 3]\n",
      " [9 2 8]\n",
      " [4 7 6]]\n"
     ]
    }
   ],
   "source": [
    "array_2d = np.array([[1, 5, 3], [9, 2, 8], [4, 7, 6]])\n",
    "print(array_2d)"
   ]
  },
  {
   "cell_type": "code",
   "execution_count": null,
   "metadata": {},
   "outputs": [
    {
     "name": "stdout",
     "output_type": "stream",
     "text": [
      "Indices of maximum values along rows:\n",
      " [[1]\n",
      " [0]\n",
      " [1]]\n",
      "Indices of minimum values along rows:\n",
      " [[0]\n",
      " [1]\n",
      " [0]]\n"
     ]
    }
   ],
   "source": [
    "# Find indices of maximum and minimum along rows in a 2D array\n",
    "print(\n",
    "    \"Indices of maximum values along rows:\\n\",\n",
    "    np.argmax(array_2d, axis=1, keepdims=True),\n",
    ")\n",
    "\n",
    "print(\n",
    "    \"Indices of minimum values along rows:\\n\",\n",
    "    np.argmin(array_2d, axis=1, keepdims=True),\n",
    ")"
   ]
  },
  {
   "cell_type": "code",
   "execution_count": null,
   "metadata": {},
   "outputs": [
    {
     "name": "stdout",
     "output_type": "stream",
     "text": [
      "Indices of maximum values along rows:\n",
      " [[1 2 1]]\n",
      "Indices of minimum values along rows:\n",
      " [[0 1 0]]\n"
     ]
    }
   ],
   "source": [
    "# Find indices of maximum and minimum along cols in a 2D array\n",
    "print(\n",
    "    \"Indices of maximum values along rows:\\n\",\n",
    "    np.argmax(array_2d, axis=0, keepdims=True),\n",
    ")\n",
    "\n",
    "print(\n",
    "    \"Indices of minimum values along rows:\\n\",\n",
    "    np.argmin(array_2d, axis=0, keepdims=True),\n",
    ")"
   ]
  },
  {
   "cell_type": "markdown",
   "metadata": {},
   "source": [
    "\n",
    "---"
   ]
  },
  {
   "cell_type": "markdown",
   "metadata": {},
   "source": [
    "\n",
    "### **`np.clip()`**\n"
   ]
  },
  {
   "cell_type": "markdown",
   "metadata": {},
   "source": [
    "Limits the values in an array to a specified range.\n",
    "\n",
    "**Syntax:**\n",
    "```python\n",
    "np.clip(array, min, max)\n",
    "```\n",
    "\n",
    "- **`array`**: Input array.\n",
    "- **`min`**: Minimum value.\n",
    "- **`max`**: Maximum value.\n"
   ]
  },
  {
   "cell_type": "code",
   "execution_count": 48,
   "metadata": {},
   "outputs": [
    {
     "name": "stdout",
     "output_type": "stream",
     "text": [
      "Clipped array: [2 2 3 4 4]\n"
     ]
    }
   ],
   "source": [
    "# Clip values in a 1D array\n",
    "array_1d = np.array([1, 2, 3, 4, 5])\n",
    "print(\"Clipped array:\", np.clip(array_1d, a_min=2, a_max=4))"
   ]
  },
  {
   "cell_type": "markdown",
   "metadata": {},
   "source": [
    "\n",
    "---\n"
   ]
  },
  {
   "cell_type": "markdown",
   "metadata": {},
   "source": [
    "\n",
    "### **`np.reshape()`**\n"
   ]
  },
  {
   "cell_type": "markdown",
   "metadata": {},
   "source": [
    "Changes the shape of an array without changing its data.\n",
    "\n",
    "**Syntax:**\n",
    "```python\n",
    "np.reshape(array, new_shape)\n",
    "```\n",
    "\n",
    "- **`array`**: Input array.\n",
    "- **`new_shape`**: New shape (must be compatible with the original shape).\n"
   ]
  },
  {
   "cell_type": "code",
   "execution_count": 50,
   "metadata": {},
   "outputs": [
    {
     "name": "stdout",
     "output_type": "stream",
     "text": [
      "Reshaped array:\n",
      " [[1 2 3]\n",
      " [4 5 6]]\n"
     ]
    }
   ],
   "source": [
    "# Reshape a 1D array to a 2D array\n",
    "array_1d = np.array([1, 2, 3, 4, 5, 6])\n",
    "print(\"Reshaped array:\\n\", np.reshape(array_1d, (2, 3)))"
   ]
  },
  {
   "cell_type": "markdown",
   "metadata": {},
   "source": [
    "\n",
    "---\n"
   ]
  },
  {
   "cell_type": "markdown",
   "metadata": {},
   "source": [
    "\n",
    "## **5. Mathematical Operations**\n"
   ]
  },
  {
   "cell_type": "markdown",
   "metadata": {},
   "source": [
    "\n",
    "### **`np.sum()`**\n"
   ]
  },
  {
   "cell_type": "markdown",
   "metadata": {},
   "source": [
    "Computes the sum of array elements along a specified axis.\n",
    "\n",
    "**Syntax:**\n",
    "```python\n",
    "np.sum(array, axis=None)\n",
    "```\n",
    "\n",
    "- **`array`**: Input array.\n",
    "- **`axis`**: Axis along which to compute the sum. If `None`, sums all elements.\n"
   ]
  },
  {
   "cell_type": "code",
   "execution_count": 51,
   "metadata": {},
   "outputs": [
    {
     "name": "stdout",
     "output_type": "stream",
     "text": [
      "Sum of all elements: 15\n"
     ]
    }
   ],
   "source": [
    "# Sum of all elements in a 1D array\n",
    "array_1d = np.array([1, 2, 3, 4, 5])\n",
    "print(\"Sum of all elements:\", np.sum(array_1d))"
   ]
  },
  {
   "cell_type": "code",
   "execution_count": 53,
   "metadata": {},
   "outputs": [
    {
     "name": "stdout",
     "output_type": "stream",
     "text": [
      "[[1 2]\n",
      " [3 4]\n",
      " [5 6]]\n"
     ]
    }
   ],
   "source": [
    "array_2d = np.array([[1, 2], [3, 4], [5, 6]])\n",
    "print(array_2d)"
   ]
  },
  {
   "cell_type": "code",
   "execution_count": 57,
   "metadata": {},
   "outputs": [
    {
     "name": "stdout",
     "output_type": "stream",
     "text": [
      "Sum along rows:\n",
      " [[ 3]\n",
      " [ 7]\n",
      " [11]]\n"
     ]
    }
   ],
   "source": [
    "# Sum along rows in a 2D array\n",
    "print(\"Sum along rows:\\n\", np.sum(array_2d, axis=1, keepdims=True))"
   ]
  },
  {
   "cell_type": "code",
   "execution_count": 59,
   "metadata": {},
   "outputs": [
    {
     "name": "stdout",
     "output_type": "stream",
     "text": [
      "Sum along cols: [ 9 12]\n"
     ]
    }
   ],
   "source": [
    "# Sum along cols in a 2D array\n",
    "print(\"Sum along cols:\", np.sum(array_2d, axis=0))"
   ]
  },
  {
   "cell_type": "markdown",
   "metadata": {},
   "source": [
    "\n",
    "---\n"
   ]
  },
  {
   "cell_type": "markdown",
   "metadata": {},
   "source": [
    "\n",
    "### **`np.mean()`**\n"
   ]
  },
  {
   "cell_type": "markdown",
   "metadata": {},
   "source": [
    "Computes the mean of array elements along a specified axis.\n",
    "\n",
    "**Syntax:**\n",
    "```python\n",
    "np.mean(array, axis=None)\n",
    "```\n",
    "\n",
    "- **`array`**: Input array.\n",
    "- **`axis`**: Axis along which to compute the mean. If `None`, computes the mean of all elements.\n"
   ]
  },
  {
   "cell_type": "code",
   "execution_count": 62,
   "metadata": {},
   "outputs": [
    {
     "name": "stdout",
     "output_type": "stream",
     "text": [
      "Mean of all elements: 3.0\n"
     ]
    }
   ],
   "source": [
    "# Mean of all elements in a 1D array\n",
    "array_1d = np.array([1, 2, 3, 4, 5])\n",
    "print(\"Mean of all elements:\", np.mean(array_1d))"
   ]
  },
  {
   "cell_type": "code",
   "execution_count": 63,
   "metadata": {},
   "outputs": [
    {
     "name": "stdout",
     "output_type": "stream",
     "text": [
      "Mean along columns: [3. 4.]\n"
     ]
    }
   ],
   "source": [
    "# Mean along columns in a 2D array\n",
    "array_2d = np.array([[1, 2], [3, 4], [5, 6]])\n",
    "print(\"Mean along columns:\", np.mean(array_2d, axis=0))"
   ]
  },
  {
   "cell_type": "markdown",
   "metadata": {},
   "source": [
    "\n",
    "---\n"
   ]
  },
  {
   "cell_type": "markdown",
   "metadata": {},
   "source": [
    "\n",
    "### **`np.max()` and `np.min()`**\n"
   ]
  },
  {
   "cell_type": "markdown",
   "metadata": {},
   "source": [
    "Returns the **maximum and minimum values** along a specified axis.\n",
    "\n",
    "**Syntax:**\n",
    "```python\n",
    "np.max(array, axis=None)\n",
    "np.min(array, axis=None)\n",
    "```\n",
    "\n",
    "- **`array`**: Input array.\n",
    "- **`axis`**: Axis along which to find the max/min. If `None`, works on the flattened array.\n"
   ]
  },
  {
   "cell_type": "code",
   "execution_count": null,
   "metadata": {},
   "outputs": [
    {
     "name": "stdout",
     "output_type": "stream",
     "text": [
      "Maximum value: 5\n",
      "Minimum value: 1\n"
     ]
    }
   ],
   "source": [
    "# Maximum and minimum in a 1D array\n",
    "array_1d = np.array([1, 2, 3, 4, 5])\n",
    "print(\"Maximum value:\", np.max(array_1d))\n",
    "print(\"Minimum value:\", np.min(array_1d))"
   ]
  },
  {
   "cell_type": "code",
   "execution_count": 66,
   "metadata": {},
   "outputs": [
    {
     "name": "stdout",
     "output_type": "stream",
     "text": [
      "[[1 2]\n",
      " [3 4]\n",
      " [5 6]]\n"
     ]
    }
   ],
   "source": [
    "array_2d = np.array([[1, 2], [3, 4], [5, 6]])\n",
    "print(array_2d)"
   ]
  },
  {
   "cell_type": "code",
   "execution_count": null,
   "metadata": {},
   "outputs": [
    {
     "name": "stdout",
     "output_type": "stream",
     "text": [
      "Maximum along columns: [5 6]\n",
      "Minimum along columns: [1 2]\n"
     ]
    }
   ],
   "source": [
    "# Maximum and minimum along columns in a 2D array\n",
    "array_2d = np.array([[1, 2], [3, 4], [5, 6]])\n",
    "print(\"Maximum along columns:\", np.max(array_2d, axis=0))\n",
    "print(\"Minimum along columns:\", np.min(array_2d, axis=0))"
   ]
  },
  {
   "cell_type": "markdown",
   "metadata": {},
   "source": [
    "---"
   ]
  }
 ],
 "metadata": {
  "kernelspec": {
   "display_name": "Python 3",
   "language": "python",
   "name": "python3"
  },
  "language_info": {
   "codemirror_mode": {
    "name": "ipython",
    "version": 3
   },
   "file_extension": ".py",
   "mimetype": "text/x-python",
   "name": "python",
   "nbconvert_exporter": "python",
   "pygments_lexer": "ipython3",
   "version": "3.12.4"
  }
 },
 "nbformat": 4,
 "nbformat_minor": 2
}
