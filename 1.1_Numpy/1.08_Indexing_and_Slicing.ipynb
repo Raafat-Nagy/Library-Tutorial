{
 "cells": [
  {
   "cell_type": "markdown",
   "id": "6dad5195",
   "metadata": {},
   "source": [
    "## **Indexing and Slicing**\n"
   ]
  },
  {
   "cell_type": "markdown",
   "id": "indie-lithuania",
   "metadata": {},
   "source": [
    "### **Table of Contents**\n",
    "\n",
    "1. **Indexing**\n",
    "   - Indexing in 1D Arrays\n",
    "   - Indexing in 2D Arrays\n",
    "2. **Slicing**\n",
    "   - Slicing in 1D Arrays\n",
    "   - Slicing in 2D Arrays\n",
    "\n",
    "---"
   ]
  },
  {
   "cell_type": "code",
   "execution_count": 3,
   "id": "under-hardware",
   "metadata": {},
   "outputs": [],
   "source": [
    "import numpy as np"
   ]
  },
  {
   "cell_type": "markdown",
   "id": "plain-thumbnail",
   "metadata": {},
   "source": [
    "### **1. Indexing**\n"
   ]
  },
  {
   "cell_type": "markdown",
   "id": "462bc3f2",
   "metadata": {},
   "source": [
    "#### **1.1 Indexing in 1D Arrays**\n"
   ]
  },
  {
   "cell_type": "markdown",
   "id": "6854271c",
   "metadata": {},
   "source": [
    "Indexing allows you to access specific elements in an array. In 1D arrays, you use a single index to access an element."
   ]
  },
  {
   "cell_type": "code",
   "execution_count": 38,
   "id": "ffb8dde9",
   "metadata": {},
   "outputs": [
    {
     "name": "stdout",
     "output_type": "stream",
     "text": [
      "1D Array: [ 1  2  3  4  5  6  7  8  9 10]\n"
     ]
    }
   ],
   "source": [
    "# Create a 1D array\n",
    "one_dim = np.arange(1, 11)\n",
    "print(\"1D Array:\", one_dim)"
   ]
  },
  {
   "cell_type": "code",
   "execution_count": 39,
   "id": "724a5d47",
   "metadata": {},
   "outputs": [
    {
     "name": "stdout",
     "output_type": "stream",
     "text": [
      "Third element: 3\n"
     ]
    }
   ],
   "source": [
    "# Select the third element (index 2)\n",
    "print(\"Third element:\", one_dim[2])"
   ]
  },
  {
   "cell_type": "code",
   "execution_count": 40,
   "id": "3b9dcbfd",
   "metadata": {},
   "outputs": [
    {
     "name": "stdout",
     "output_type": "stream",
     "text": [
      "First element: 1\n"
     ]
    }
   ],
   "source": [
    "# Select the first element (index 0)\n",
    "print(\"First element:\", one_dim[0])"
   ]
  },
  {
   "cell_type": "code",
   "execution_count": 41,
   "id": "6208d2a4",
   "metadata": {},
   "outputs": [
    {
     "name": "stdout",
     "output_type": "stream",
     "text": [
      "Last element: 10\n"
     ]
    }
   ],
   "source": [
    "# Select the last element (index -1)\n",
    "print(\"Last element:\", one_dim[-1])"
   ]
  },
  {
   "cell_type": "markdown",
   "id": "e477a27e",
   "metadata": {},
   "source": [
    "#### **1.2 Indexing in 2D Arrays**\n"
   ]
  },
  {
   "cell_type": "markdown",
   "id": "australian-pharmacy",
   "metadata": {},
   "source": [
    "- For multidimensional arrays of shape `n`, to index a specific element, you must input `n` indices, one for each dimension.\n",
    "\n",
    "- In 2D arrays, you need to provide two indices: one for the row and one for the column.\n",
    "\n"
   ]
  },
  {
   "cell_type": "code",
   "execution_count": 42,
   "id": "characteristic-positive",
   "metadata": {},
   "outputs": [
    {
     "name": "stdout",
     "output_type": "stream",
     "text": [
      "2D Array:\n",
      " [[1 2 3]\n",
      " [4 5 6]\n",
      " [7 8 9]]\n"
     ]
    }
   ],
   "source": [
    "# Create a 2D array\n",
    "two_dim = np.arange(1, 10).reshape((3, 3))\n",
    "print(\"2D Array:\\n\", two_dim)"
   ]
  },
  {
   "cell_type": "code",
   "execution_count": 43,
   "id": "8601d532",
   "metadata": {},
   "outputs": [
    {
     "name": "stdout",
     "output_type": "stream",
     "text": [
      "Element at [2, 1]: 8\n"
     ]
    }
   ],
   "source": [
    "# Select element number 8 (row 2, column 1)\n",
    "print(\"Element at [2, 1]:\", two_dim[2, 1])"
   ]
  },
  {
   "cell_type": "code",
   "execution_count": 44,
   "id": "f17506c8",
   "metadata": {},
   "outputs": [
    {
     "name": "stdout",
     "output_type": "stream",
     "text": [
      "Element at [0, 2]: 3\n"
     ]
    }
   ],
   "source": [
    "# Select element number 3 (row 0, column 2)\n",
    "print(\"Element at [0, 2]:\", two_dim[0, 2])"
   ]
  },
  {
   "cell_type": "markdown",
   "id": "edcde0e0",
   "metadata": {},
   "source": [
    "---"
   ]
  },
  {
   "cell_type": "markdown",
   "id": "d1fbf530",
   "metadata": {},
   "source": [
    "### **2. Slicing**\n"
   ]
  },
  {
   "cell_type": "markdown",
   "id": "dedec158",
   "metadata": {},
   "source": [
    "#### **2.1 Slicing in 1D Arrays**\n"
   ]
  },
  {
   "cell_type": "markdown",
   "id": "southwest-warrant",
   "metadata": {},
   "source": [
    "Slicing allows you to extract a portion of an array. The syntax is:\n",
    "\n",
    "`array[start:end:step]`\n",
    "\n",
    "- start: The starting index (inclusive). Default is 0.\n",
    "- end: The ending index (exclusive). Default is the length of the array.\n",
    "- step: The step size. Default is 1."
   ]
  },
  {
   "cell_type": "code",
   "execution_count": 58,
   "id": "fb0a4ca3",
   "metadata": {},
   "outputs": [
    {
     "name": "stdout",
     "output_type": "stream",
     "text": [
      "1D Array:\n",
      " [ 1  2  3  4  5  6  7  8  9 10]\n"
     ]
    }
   ],
   "source": [
    "print(\"1D Array:\\n\", one_dim)"
   ]
  },
  {
   "cell_type": "code",
   "execution_count": 59,
   "id": "moral-police",
   "metadata": {
    "scrolled": true
   },
   "outputs": [
    {
     "name": "stdout",
     "output_type": "stream",
     "text": [
      "[2 3 4]\n"
     ]
    }
   ],
   "source": [
    "# Slice the array to get [2, 3, 4]\n",
    "print(one_dim[1:4])"
   ]
  },
  {
   "cell_type": "code",
   "execution_count": 48,
   "id": "181bce55",
   "metadata": {},
   "outputs": [
    {
     "name": "stdout",
     "output_type": "stream",
     "text": [
      "[1 2 3]\n"
     ]
    }
   ],
   "source": [
    "# Slice the array to get [1, 2, 3]\n",
    "print(one_dim[:3])"
   ]
  },
  {
   "cell_type": "code",
   "execution_count": 50,
   "id": "63bfcd06",
   "metadata": {},
   "outputs": [
    {
     "name": "stdout",
     "output_type": "stream",
     "text": [
      "[ 3  4  5  6  7  8  9 10]\n"
     ]
    }
   ],
   "source": [
    "# Slice the array to get elements from index 2 to the end\n",
    "print(one_dim[2:])"
   ]
  },
  {
   "cell_type": "code",
   "execution_count": 52,
   "id": "0469a119",
   "metadata": {},
   "outputs": [
    {
     "name": "stdout",
     "output_type": "stream",
     "text": [
      "Slice with step 2: [1 3 5 7 9]\n"
     ]
    }
   ],
   "source": [
    "# Slice the array to get every second element\n",
    "print(\"Slice with step 2:\", one_dim[::2])"
   ]
  },
  {
   "cell_type": "markdown",
   "id": "11a1f6a1",
   "metadata": {},
   "source": [
    "#### **2.2 Slicing in 2D Arrays**\n"
   ]
  },
  {
   "cell_type": "markdown",
   "id": "4616ced7",
   "metadata": {},
   "source": [
    "In 2D arrays, slicing works similarly, but you need to specify slices for both rows and columns. The syntax is:\n",
    "\n",
    "`array[start_row:end_row:step, start_col:end_col:step]`"
   ]
  },
  {
   "cell_type": "code",
   "execution_count": 60,
   "id": "33645045",
   "metadata": {},
   "outputs": [
    {
     "name": "stdout",
     "output_type": "stream",
     "text": [
      "2D Array:\n",
      " [[1 2 3]\n",
      " [4 5 6]\n",
      " [7 8 9]]\n"
     ]
    }
   ],
   "source": [
    "print(\"2D Array:\\n\", two_dim)"
   ]
  },
  {
   "cell_type": "code",
   "execution_count": 53,
   "id": "norwegian-fence",
   "metadata": {},
   "outputs": [
    {
     "name": "stdout",
     "output_type": "stream",
     "text": [
      "First two rows:\n",
      " [[1 2 3]\n",
      " [4 5 6]]\n"
     ]
    }
   ],
   "source": [
    "# Slice the array to get the first two rows\n",
    "print(\"First two rows:\\n\", two_dim[:2])"
   ]
  },
  {
   "cell_type": "code",
   "execution_count": 54,
   "id": "structured-lease",
   "metadata": {},
   "outputs": [
    {
     "name": "stdout",
     "output_type": "stream",
     "text": [
      "Last two rows:\n",
      " [[4 5 6]\n",
      " [7 8 9]]\n"
     ]
    }
   ],
   "source": [
    "# Slice the array to get the last two rows\n",
    "sliced_two_dim_rows = two_dim[1:3]\n",
    "print(\"Last two rows:\\n\", sliced_two_dim_rows)"
   ]
  },
  {
   "cell_type": "code",
   "execution_count": 55,
   "id": "fourth-center",
   "metadata": {},
   "outputs": [
    {
     "name": "stdout",
     "output_type": "stream",
     "text": [
      "First column:\n",
      " [1 4 7]\n"
     ]
    }
   ],
   "source": [
    "# Slice the array to get the first column\n",
    "sliced_two_dim_cols = two_dim[:, 0]\n",
    "print(\"First column:\\n\", sliced_two_dim_cols)"
   ]
  },
  {
   "cell_type": "code",
   "execution_count": 56,
   "id": "568e9d58",
   "metadata": {},
   "outputs": [
    {
     "name": "stdout",
     "output_type": "stream",
     "text": [
      "Every second row and column:\n",
      " [[1 3]\n",
      " [7 9]]\n"
     ]
    }
   ],
   "source": [
    "# Slice the array to get every second row and column\n",
    "print(\"Every second row and column:\\n\", two_dim[::2, ::2])"
   ]
  }
 ],
 "metadata": {
  "kernelspec": {
   "display_name": "Python 3",
   "language": "python",
   "name": "python3"
  },
  "language_info": {
   "codemirror_mode": {
    "name": "ipython",
    "version": 3
   },
   "file_extension": ".py",
   "mimetype": "text/x-python",
   "name": "python",
   "nbconvert_exporter": "python",
   "pygments_lexer": "ipython3",
   "version": "3.12.4"
  }
 },
 "nbformat": 4,
 "nbformat_minor": 5
}
