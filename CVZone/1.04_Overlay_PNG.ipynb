{
 "cells": [
  {
   "cell_type": "markdown",
   "metadata": {},
   "source": [
    "## **Overlay PNG**"
   ]
  },
  {
   "cell_type": "code",
   "execution_count": null,
   "metadata": {},
   "outputs": [
    {
     "name": "stdout",
     "output_type": "stream",
     "text": [
      "Help on function overlayPNG in module cvzone.Utils:\n",
      "\n",
      "overlayPNG(imgBack, imgFront, pos=[0, 0])\n",
      "    Overlay a PNG image with transparency onto another image using alpha blending.\n",
      "    The function handles out-of-bound positions, including negative coordinates, by cropping\n",
      "    the overlay image accordingly. Edges are smoothed using alpha blending.\n",
      "\n",
      "    :param imgBack: The background image, a NumPy array of shape (height, width, 3) or (height, width, 4).\n",
      "    :param imgFront: The foreground PNG image to overlay, a NumPy array of shape (height, width, 4).\n",
      "    :param pos: A list specifying the x and y coordinates (in pixels) at which to overlay the image.\n",
      "                Can be negative or cause the overlay image to go out-of-bounds.\n",
      "    :return: A new image with the overlay applied, a NumPy array of shape like `imgBack`.\n",
      "\n"
     ]
    }
   ],
   "source": [
    "import cvzone\n",
    "\n",
    "help(cvzone.overlayPNG)"
   ]
  },
  {
   "cell_type": "code",
   "execution_count": null,
   "metadata": {},
   "outputs": [],
   "source": [
    "import cv2\n",
    "import cvzone\n",
    "\n",
    "cap = cv2.VideoCapture(0)\n",
    "\n",
    "imgPNG = cvzone.downloadImageFromUrl(\n",
    "    url=\"https://github.com/cvzone/cvzone/blob/master/Results/cvzoneLogo.png?raw=true\",\n",
    "    keepTransparency=True,\n",
    ")\n",
    "\n",
    "# imgPNG = cv2.imread(\"cvzoneLogo.png\",cv2.IMREAD_UNCHANGED)\n",
    "\n",
    "\n",
    "while True:\n",
    "    success, img = cap.read()\n",
    "\n",
    "    imgOverlay = cvzone.overlayPNG(imgBack=img, imgFront=imgPNG, pos=[-30, 50])\n",
    "    imgOverlay = cvzone.overlayPNG(imgBack=img, imgFront=imgPNG, pos=[200, 200])\n",
    "    imgOverlay = cvzone.overlayPNG(imgBack=img, imgFront=imgPNG, pos=[500, 400])\n",
    "\n",
    "    cv2.imshow(\"imgOverlay\", imgOverlay)\n",
    "\n",
    "    if cv2.waitKey(1) == ord(\"q\"):\n",
    "        break\n",
    "\n",
    "cap.release()\n",
    "cv2.destroyAllWindows()"
   ]
  }
 ],
 "metadata": {
  "kernelspec": {
   "display_name": "Python 3",
   "language": "python",
   "name": "python3"
  },
  "language_info": {
   "codemirror_mode": {
    "name": "ipython",
    "version": 3
   },
   "file_extension": ".py",
   "mimetype": "text/x-python",
   "name": "python",
   "nbconvert_exporter": "python",
   "pygments_lexer": "ipython3",
   "version": "3.12.4"
  }
 },
 "nbformat": 4,
 "nbformat_minor": 2
}
