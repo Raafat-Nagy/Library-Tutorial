{
 "cells": [
  {
   "cell_type": "markdown",
   "metadata": {},
   "source": [
    "## **FPS**"
   ]
  },
  {
   "cell_type": "code",
   "execution_count": 3,
   "metadata": {},
   "outputs": [
    {
     "name": "stdout",
     "output_type": "stream",
     "text": [
      "Help on class FPS in module cvzone.FPS:\n",
      "\n",
      "class FPS(builtins.object)\n",
      " |  FPS(avgCount=30)\n",
      " |\n",
      " |  FPS class for calculating and displaying the Frames Per Second in a video stream.\n",
      " |\n",
      " |  Attributes:\n",
      " |      pTime (float): Previous time stamp.\n",
      " |      frameTimes (list): List to keep track of frame times.\n",
      " |      avgCount (int): Number of frames over which to average the FPS.\n",
      " |\n",
      " |  Methods defined here:\n",
      " |\n",
      " |  __init__(self, avgCount=30)\n",
      " |      Initialize FPS class.\n",
      " |\n",
      " |      :param avgCount: Number of frames over which to average the FPS, default is 30.\n",
      " |\n",
      " |  update(self, img=None, pos=(20, 50), bgColor=(255, 0, 255), textColor=(255, 255, 255), scale=3, thickness=3)\n",
      " |      Update the frame rate and optionally display it on the image.\n",
      " |\n",
      " |      :param img: Image to display FPS on. If None, just returns the FPS value.\n",
      " |      :param pos: Position to display FPS on the image.\n",
      " |      :param bgColor: Background color of the FPS text.\n",
      " |      :param textColor: Text color of the FPS display.\n",
      " |      :param scale: Font scale of the FPS text.\n",
      " |      :param thickness: Thickness of the FPS text.\n",
      " |      :return: FPS value, and optionally the image with FPS drawn on it.\n",
      " |\n",
      " |  ----------------------------------------------------------------------\n",
      " |  Data descriptors defined here:\n",
      " |\n",
      " |  __dict__\n",
      " |      dictionary for instance variables\n",
      " |\n",
      " |  __weakref__\n",
      " |      list of weak references to the object\n",
      "\n"
     ]
    }
   ],
   "source": [
    "from cvzone.FPS import FPS\n",
    "\n",
    "help(FPS)"
   ]
  },
  {
   "cell_type": "code",
   "execution_count": 4,
   "metadata": {},
   "outputs": [],
   "source": [
    "from cvzone.FPS import FPS\n",
    "import cv2\n",
    "\n",
    "# Initialize the FPS class with an average count of 30 frames for smoothing\n",
    "fpsReader = FPS(avgCount=30)\n",
    "\n",
    "cap = cv2.VideoCapture(0)\n",
    "# cap.set(cv2.CAP_PROP_FPS, 30)\n",
    "\n",
    "while True:\n",
    "    success, img = cap.read()\n",
    "\n",
    "    # Update the FPS counter and draw the FPS on the image\n",
    "    # fpsReader.update returns the current FPS and the updated image\n",
    "    fps, img = fpsReader.update(\n",
    "        img,\n",
    "        pos=(4, 40),\n",
    "        bgColor=(255, 0, 255),\n",
    "        textColor=(255, 255, 255),\n",
    "        scale=3,\n",
    "        thickness=3,\n",
    "    )\n",
    "\n",
    "    cv2.imshow(\"Image\", img)\n",
    "\n",
    "    if cv2.waitKey(1) == ord(\"q\"):\n",
    "        break\n",
    "\n",
    "cap.release()\n",
    "cv2.destroyAllWindows()"
   ]
  }
 ],
 "metadata": {
  "kernelspec": {
   "display_name": "Python 3",
   "language": "python",
   "name": "python3"
  },
  "language_info": {
   "codemirror_mode": {
    "name": "ipython",
    "version": 3
   },
   "file_extension": ".py",
   "mimetype": "text/x-python",
   "name": "python",
   "nbconvert_exporter": "python",
   "pygments_lexer": "ipython3",
   "version": "3.12.4"
  }
 },
 "nbformat": 4,
 "nbformat_minor": 2
}
