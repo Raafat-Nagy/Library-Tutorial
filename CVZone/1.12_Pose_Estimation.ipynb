{
 "cells": [
  {
   "cell_type": "markdown",
   "metadata": {},
   "source": [
    "## **Pose Estimation Module**"
   ]
  },
  {
   "cell_type": "code",
   "execution_count": 3,
   "metadata": {},
   "outputs": [
    {
     "name": "stdout",
     "output_type": "stream",
     "text": [
      "Help on class PoseDetector in module cvzone.PoseModule:\n",
      "\n",
      "class PoseDetector(builtins.object)\n",
      " |  PoseDetector(staticMode=False, modelComplexity=1, smoothLandmarks=True, enableSegmentation=False, smoothSegmentation=True, detectionCon=0.5, trackCon=0.5)\n",
      " |\n",
      " |  Estimates Pose points of a human body using the mediapipe library.\n",
      " |\n",
      " |  Methods defined here:\n",
      " |\n",
      " |  __init__(self, staticMode=False, modelComplexity=1, smoothLandmarks=True, enableSegmentation=False, smoothSegmentation=True, detectionCon=0.5, trackCon=0.5)\n",
      " |      :param mode: In static mode, detection is done on each image: slower\n",
      " |      :param upBody: Upper boy only flag\n",
      " |      :param smooth: Smoothness Flag\n",
      " |      :param detectionCon: Minimum Detection Confidence Threshold\n",
      " |      :param trackCon: Minimum Tracking Confidence Threshold\n",
      " |\n",
      " |  angleCheck(self, myAngle, targetAngle, offset=20)\n",
      " |\n",
      " |  findAngle(self, p1, p2, p3, img=None, color=(255, 0, 255), scale=5)\n",
      " |      Finds angle between three points.\n",
      " |\n",
      " |      :param p1: Point1 - (x1,y1)\n",
      " |      :param p2: Point2 - (x2,y2)\n",
      " |      :param p3: Point3 - (x3,y3)\n",
      " |      :param img: Image to draw output on. If no image input output img is None\n",
      " |      :return:\n",
      " |\n",
      " |  findDistance(self, p1, p2, img=None, color=(255, 0, 255), scale=5)\n",
      " |      Find the distance between two landmarks input should be (x1,y1) (x2,y2)\n",
      " |      :param p1: Point1 (x1,y1)\n",
      " |      :param p2: Point2 (x2,y2)\n",
      " |      :param img: Image to draw output on. If no image input output img is None\n",
      " |      :return: Distance between the points\n",
      " |               Image with output drawn\n",
      " |               Line information\n",
      " |\n",
      " |  findPose(self, img, draw=True)\n",
      " |      Find the pose landmarks in an Image of BGR color space.\n",
      " |      :param img: Image to find the pose in.\n",
      " |      :param draw: Flag to draw the output on the image.\n",
      " |      :return: Image with or without drawings\n",
      " |\n",
      " |  findPosition(self, img, draw=True, bboxWithHands=False)\n",
      " |\n",
      " |  ----------------------------------------------------------------------\n",
      " |  Data descriptors defined here:\n",
      " |\n",
      " |  __dict__\n",
      " |      dictionary for instance variables\n",
      " |\n",
      " |  __weakref__\n",
      " |      list of weak references to the object\n",
      "\n"
     ]
    }
   ],
   "source": [
    "from cvzone.PoseModule import PoseDetector\n",
    "\n",
    "help(PoseDetector)"
   ]
  },
  {
   "cell_type": "code",
   "execution_count": 1,
   "metadata": {},
   "outputs": [],
   "source": [
    "from cvzone.PoseModule import PoseDetector\n",
    "import cv2\n",
    "\n",
    "cap = cv2.VideoCapture(0)\n",
    "\n",
    "# Initialize the PoseDetector class with the given parameters\n",
    "detector = PoseDetector(\n",
    "    staticMode=False,\n",
    "    modelComplexity=1,\n",
    "    smoothLandmarks=True,\n",
    "    enableSegmentation=False,\n",
    "    smoothSegmentation=True,\n",
    "    detectionCon=0.5,\n",
    "    trackCon=0.5,\n",
    ")\n",
    "\n",
    "while True:\n",
    "    success, img = cap.read()\n",
    "\n",
    "    img = detector.findPose(img)\n",
    "\n",
    "    # Find the landmarks, bounding box, and center of the body in the frame\n",
    "    lmList, bboxInfo = detector.findPosition(img, draw=False, bboxWithHands=False)\n",
    "\n",
    "    if lmList:\n",
    "        # Calculate the distance between landmarks 11 and 15 and draw it on the image\n",
    "        length, img, info = detector.findDistance(\n",
    "            lmList[11][0:2], lmList[15][0:2], img=img, color=(255, 0, 0), scale=10\n",
    "        )\n",
    "\n",
    "        # Calculate the angle between landmarks 11, 13, and 15 and draw it on the image\n",
    "        angle, img = detector.findAngle(\n",
    "            lmList[11][0:2],\n",
    "            lmList[13][0:2],\n",
    "            lmList[15][0:2],\n",
    "            img=img,\n",
    "            color=(0, 0, 255),\n",
    "            scale=10,\n",
    "        )\n",
    "\n",
    "    # Display the frame in a window\n",
    "    cv2.imshow(\"Image\", img)\n",
    "\n",
    "    if cv2.waitKey(1) & 0xFF == ord(\"q\"):\n",
    "        break\n",
    "\n",
    "cap.release()\n",
    "cv2.destroyAllWindows()"
   ]
  }
 ],
 "metadata": {
  "kernelspec": {
   "display_name": "Python 3",
   "language": "python",
   "name": "python3"
  },
  "language_info": {
   "codemirror_mode": {
    "name": "ipython",
    "version": 3
   },
   "file_extension": ".py",
   "mimetype": "text/x-python",
   "name": "python",
   "nbconvert_exporter": "python",
   "pygments_lexer": "ipython3",
   "version": "3.12.4"
  }
 },
 "nbformat": 4,
 "nbformat_minor": 2
}
