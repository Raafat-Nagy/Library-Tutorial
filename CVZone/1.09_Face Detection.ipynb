{
 "cells": [
  {
   "cell_type": "markdown",
   "metadata": {},
   "source": [
    "## **Face Detection Module**\n"
   ]
  },
  {
   "cell_type": "code",
   "execution_count": 1,
   "metadata": {},
   "outputs": [
    {
     "name": "stdout",
     "output_type": "stream",
     "text": [
      "Help on class FaceDetector in module cvzone.FaceDetectionModule:\n",
      "\n",
      "class FaceDetector(builtins.object)\n",
      " |  FaceDetector(minDetectionCon=0.5, modelSelection=0)\n",
      " |\n",
      " |  Find faces in realtime using the light weight model provided in the mediapipe\n",
      " |  library.\n",
      " |\n",
      " |  Methods defined here:\n",
      " |\n",
      " |  __init__(self, minDetectionCon=0.5, modelSelection=0)\n",
      " |      :param minDetectionCon: Minimum confidence value ([0.0, 1.0]) for face\n",
      " |      detection to be considered successful. See details in\n",
      " |      https://solutions.mediapipe.dev/face_detection#min_detection_confidence.\n",
      " |\n",
      " |      :param modelSelection: 0 or 1. 0 to select a short-range model that works\n",
      " |      best for faces within 2 meters from the camera, and 1 for a full-range\n",
      " |      model best for faces within 5 meters. See details in\n",
      " |      https://solutions.mediapipe.dev/face_detection#model_selection.\n",
      " |\n",
      " |  findFaces(self, img, draw=True)\n",
      " |      Find faces in an image and return the bbox info\n",
      " |      :param img: Image to find the faces in.\n",
      " |      :param draw: Flag to draw the output on the image.\n",
      " |      :return: Image with or without drawings.\n",
      " |               Bounding Box list.\n",
      " |\n",
      " |  ----------------------------------------------------------------------\n",
      " |  Data descriptors defined here:\n",
      " |\n",
      " |  __dict__\n",
      " |      dictionary for instance variables\n",
      " |\n",
      " |  __weakref__\n",
      " |      list of weak references to the object\n",
      "\n"
     ]
    }
   ],
   "source": [
    "from cvzone.FaceDetectionModule import FaceDetector\n",
    "\n",
    "help(FaceDetector)"
   ]
  },
  {
   "cell_type": "code",
   "execution_count": 4,
   "metadata": {},
   "outputs": [],
   "source": [
    "import cvzone\n",
    "from cvzone.FaceDetectionModule import FaceDetector\n",
    "import cv2\n",
    "\n",
    "cap = cv2.VideoCapture(0)\n",
    "\n",
    "# Initialize the FaceDetector object\n",
    "detector = FaceDetector(minDetectionCon=0.5, modelSelection=0)\n",
    "\n",
    "while True:\n",
    "    success, img = cap.read()\n",
    "\n",
    "    # Detect faces in the image\n",
    "    img, bboxs = detector.findFaces(img, draw=False)\n",
    "\n",
    "    # Check if any face is detected\n",
    "    if bboxs:\n",
    "        # Loop through each bounding box\n",
    "        for bbox in bboxs:\n",
    "            # bbox contains 'id', 'bbox', 'score', 'center'\n",
    "            \n",
    "            center = bbox[\"center\"]\n",
    "            x, y, w, h = bbox['bbox']\n",
    "            score = int(bbox['score'][0] * 100)\n",
    "\n",
    "            cv2.circle(img, center, 5, (255, 0, 255), cv2.FILLED)\n",
    "            cvzone.putTextRect(img, f'{score}%', (x, y - 10))\n",
    "            cvzone.cornerRect(img, (x, y, w, h))\n",
    "\n",
    "    cv2.imshow(\"Image\", img)\n",
    "    \n",
    "\n",
    "    if cv2.waitKey(5) & 0xFF == ord(\"q\"):\n",
    "        break\n",
    "\n",
    "cap.release()\n",
    "cv2.destroyAllWindows()"
   ]
  },
  {
   "cell_type": "code",
   "execution_count": 11,
   "metadata": {},
   "outputs": [
    {
     "data": {
      "text/plain": [
       "dict_keys(['id', 'bbox', 'score', 'center'])"
      ]
     },
     "execution_count": 11,
     "metadata": {},
     "output_type": "execute_result"
    }
   ],
   "source": [
    "bboxs[0].keys()"
   ]
  }
 ],
 "metadata": {
  "kernelspec": {
   "display_name": "Python 3",
   "language": "python",
   "name": "python3"
  },
  "language_info": {
   "codemirror_mode": {
    "name": "ipython",
    "version": 3
   },
   "file_extension": ".py",
   "mimetype": "text/x-python",
   "name": "python",
   "nbconvert_exporter": "python",
   "pygments_lexer": "ipython3",
   "version": "3.12.4"
  }
 },
 "nbformat": 4,
 "nbformat_minor": 2
}
