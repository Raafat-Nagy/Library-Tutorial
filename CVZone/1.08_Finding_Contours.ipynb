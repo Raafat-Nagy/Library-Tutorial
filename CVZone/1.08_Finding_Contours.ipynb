{
 "cells": [
  {
   "cell_type": "markdown",
   "metadata": {},
   "source": [
    "## **Finding Contours**"
   ]
  },
  {
   "cell_type": "code",
   "execution_count": 10,
   "metadata": {},
   "outputs": [
    {
     "name": "stdout",
     "output_type": "stream",
     "text": [
      "Help on function findContours in module cvzone.Utils:\n",
      "\n",
      "findContours(img, imgPre, minArea=1000, maxArea=inf, sort=True, filter=None, drawCon=True, c=(255, 0, 0), ct=(255, 0, 255), retrType=0, approxType=1)\n",
      "    Finds Contours in an image.\n",
      "    Sorts them based on area\n",
      "    Can use filtration to get based on x corner points\n",
      "    e.g. filter = [3,4] will return triangles and rectangles both\n",
      "\n",
      "    :param img: Image on which we want to draw.\n",
      "    :param imgPre: Image on which we want to find contours.\n",
      "    :param minArea: Minimum Area to detect as valid contour.\n",
      "    :param maxArea: Maximum Area to detect as valid contour.\n",
      "    :param sort: True will sort the contours by area (biggest first).\n",
      "    :param filter: List of filters based on the corner points e.g. [3, 4, 5].\n",
      "                   If None, no filtering will be done.\n",
      "    :param drawCon: Draw contours boolean.\n",
      "    :param c: Color to draw the contours.\n",
      "    :param ct: Color for Text\n",
      "    :param retrType: Retrieval type for cv2.findContours (default is cv2.RETR_EXTERNAL).\n",
      "    :param approxType: Approximation type for cv2.findContours (default is cv2.CHAIN_APPROX_NONE).\n",
      "\n",
      "    :return: Found contours with [contours, Area, BoundingBox, Center].\n",
      "\n"
     ]
    }
   ],
   "source": [
    "import cvzone\n",
    "\n",
    "help(cvzone.findContours)"
   ]
  },
  {
   "cell_type": "code",
   "execution_count": 9,
   "metadata": {},
   "outputs": [],
   "source": [
    "import cv2\n",
    "import cvzone\n",
    "import numpy as np\n",
    "\n",
    "imgShapes = cvzone.downloadImageFromUrl(\n",
    "    url=\"https://github.com/cvzone/cvzone/blob/master/Results/shapes.png?raw=true\"\n",
    ")\n",
    "\n",
    "imgCanny = cv2.Canny(imgShapes, 50, 150)\n",
    "\n",
    "imgDilated = cv2.dilate(imgCanny, np.ones((5, 5), np.uint8), iterations=1)\n",
    "\n",
    "# Find contours in the image without any corner filtering\n",
    "imgContours, conFound = cvzone.findContours(\n",
    "    imgShapes,\n",
    "    imgDilated,\n",
    "    minArea=1000,\n",
    "    sort=True,\n",
    "    filter=None,\n",
    "    drawCon=True,\n",
    "    c=(0, 0, 255),\n",
    "    ct=(0, 0, 0),\n",
    "    retrType=cv2.RETR_EXTERNAL,\n",
    "    approxType=cv2.CHAIN_APPROX_NONE,\n",
    ")\n",
    "\n",
    "# Find contours in the image and filter them based on corner points (either 3 or 4 corners)\n",
    "imgContoursFiltered, conFoundFiltered = cvzone.findContours(\n",
    "    imgShapes,\n",
    "    imgDilated,\n",
    "    minArea=1000,\n",
    "    sort=True,\n",
    "    filter=[3, 4],\n",
    "    drawCon=True,\n",
    "    c=(0, 0, 255),\n",
    "    ct=(0, 0, 0),\n",
    "    retrType=cv2.RETR_EXTERNAL,\n",
    "    approxType=cv2.CHAIN_APPROX_NONE,\n",
    ")\n",
    "\n",
    "cv2.imshow(\"Image\", imgShapes)\n",
    "\n",
    "# Display the image with all found contours\n",
    "cv2.imshow(\"Image Contours\", imgContours)\n",
    "\n",
    "# Display the image with filtered contours (either 3 or 4 corners)\n",
    "cv2.imshow(\"Image Contours Filtered\", imgContoursFiltered)\n",
    "\n",
    "if cv2.waitKey(0) == ord(\"q\"):\n",
    "    cv2.destroyAllWindows()"
   ]
  }
 ],
 "metadata": {
  "kernelspec": {
   "display_name": "Python 3",
   "language": "python",
   "name": "python3"
  },
  "language_info": {
   "codemirror_mode": {
    "name": "ipython",
    "version": 3
   },
   "file_extension": ".py",
   "mimetype": "text/x-python",
   "name": "python",
   "nbconvert_exporter": "python",
   "pygments_lexer": "ipython3",
   "version": "3.12.4"
  }
 },
 "nbformat": 4,
 "nbformat_minor": 2
}
