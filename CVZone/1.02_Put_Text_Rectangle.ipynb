{
 "cells": [
  {
   "cell_type": "markdown",
   "metadata": {},
   "source": [
    "## **Put Text Rectangle**"
   ]
  },
  {
   "cell_type": "code",
   "execution_count": 1,
   "metadata": {},
   "outputs": [
    {
     "name": "stdout",
     "output_type": "stream",
     "text": [
      "Help on function putTextRect in module cvzone.Utils:\n",
      "\n",
      "putTextRect(img, text, pos, scale=3, thickness=3, colorT=(255, 255, 255), colorR=(255, 0, 255), font=1, offset=10, border=None, colorB=(0, 255, 0))\n",
      "    Creates Text with Rectangle Background\n",
      "    :param img: Image to put text rect on\n",
      "    :param text: Text inside the rect\n",
      "    :param pos: Starting position of the rect x1,y1\n",
      "    :param scale: Scale of the text\n",
      "    :param thickness: Thickness of the text\n",
      "    :param colorT: Color of the Text\n",
      "    :param colorR: Color of the Rectangle\n",
      "    :param font: Font used. Must be cv2.FONT....\n",
      "    :param offset: Clearance around the text\n",
      "    :param border: Outline around the rect\n",
      "    :param colorB: Color of the outline\n",
      "    :return: image, rect (x1,y1,x2,y2)\n",
      "\n"
     ]
    }
   ],
   "source": [
    "import cvzone\n",
    "\n",
    "help(cvzone.putTextRect)"
   ]
  },
  {
   "cell_type": "code",
   "execution_count": null,
   "metadata": {},
   "outputs": [],
   "source": [
    "import cv2\n",
    "import cvzone\n",
    "\n",
    "cap = cv2.VideoCapture(0)\n",
    "\n",
    "while True:\n",
    "    ret, frame = cap.read()\n",
    "    if not ret:\n",
    "        break\n",
    "\n",
    "    # Add a rectangle and put text inside it on the image\n",
    "    cvzone.putTextRect(\n",
    "        frame,\n",
    "        \"Raafat\",\n",
    "        (50, 100),\n",
    "        scale=2,\n",
    "        thickness=2,\n",
    "        colorT=(255, 255, 255),\n",
    "        colorR=(255, 0, 255),\n",
    "        font=2,\n",
    "        offset=10,\n",
    "        border=2,\n",
    "        colorB=(0, 0, 0),\n",
    "    )\n",
    "\n",
    "    cv2.imshow(\"Image\", frame)\n",
    "\n",
    "    if cv2.waitKey(1) == ord(\"q\"):\n",
    "        break\n",
    "\n",
    "cv2.destroyAllWindows()\n",
    "cap.release()\n"
   ]
  }
 ],
 "metadata": {
  "kernelspec": {
   "display_name": "Python 3",
   "language": "python",
   "name": "python3"
  },
  "language_info": {
   "codemirror_mode": {
    "name": "ipython",
    "version": 3
   },
   "file_extension": ".py",
   "mimetype": "text/x-python",
   "name": "python",
   "nbconvert_exporter": "python",
   "pygments_lexer": "ipython3",
   "version": "3.12.4"
  }
 },
 "nbformat": 4,
 "nbformat_minor": 2
}
