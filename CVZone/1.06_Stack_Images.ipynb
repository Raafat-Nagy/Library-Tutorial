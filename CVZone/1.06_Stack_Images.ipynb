{
 "cells": [
  {
   "cell_type": "markdown",
   "metadata": {},
   "source": [
    "## **Stack Images**"
   ]
  },
  {
   "cell_type": "code",
   "execution_count": null,
   "metadata": {},
   "outputs": [
    {
     "name": "stdout",
     "output_type": "stream",
     "text": [
      "Help on function stackImages in module cvzone.Utils:\n",
      "\n",
      "stackImages(_imgList, cols, scale)\n",
      "    Stack Images together to display in a single window\n",
      "    :param _imgList: list of images to stack\n",
      "    :param cols: the num of img in a row\n",
      "    :param scale: bigger~1+ ans smaller~1-\n",
      "    :return: Stacked Image\n",
      "\n"
     ]
    }
   ],
   "source": [
    "import cvzone\n",
    "\n",
    "help(cvzone.stackImages)"
   ]
  },
  {
   "cell_type": "code",
   "execution_count": null,
   "metadata": {},
   "outputs": [],
   "source": [
    "import cv2\n",
    "import cvzone\n",
    "\n",
    "cap = cv2.VideoCapture(0)\n",
    "\n",
    "while True:\n",
    "    # Read image frame from camera\n",
    "    success, img = cap.read()\n",
    "\n",
    "    # Convert the image to grayscale\n",
    "    imgGray = cv2.cvtColor(img, cv2.COLOR_BGR2GRAY)\n",
    "\n",
    "    # Resize the image to be smaller (0.1x of original size)\n",
    "    imgSmall = cv2.resize(img, (0, 0), None, 0.1, 0.1)\n",
    "\n",
    "    # Resize the image to be larger (3x of original size)\n",
    "    imgBig = cv2.resize(img, (0, 0), None, 3, 3)\n",
    "\n",
    "    # Apply Canny edge detection on the grayscale image\n",
    "    imgCanny = cv2.Canny(imgGray, 50, 150)\n",
    "\n",
    "    # Convert the image to HSV color space\n",
    "    imgHSV = cv2.cvtColor(img, cv2.COLOR_BGR2HSV)\n",
    "\n",
    "    # Create a list of all processed images\n",
    "    imgList = [img, imgGray, imgCanny, imgSmall, imgBig, imgHSV]\n",
    "\n",
    "    # Stack the images together using cvzone's stackImages function\n",
    "    stackedImg = cvzone.stackImages(imgList, cols=3, scale=0.5)\n",
    "\n",
    "    cv2.imshow(\"Stacked Image\", stackedImg)\n",
    "\n",
    "    if cv2.waitKey(1) == ord(\"q\"):\n",
    "        break\n",
    "\n",
    "cap.release()\n",
    "cv2.destroyAllWindows()"
   ]
  }
 ],
 "metadata": {
  "kernelspec": {
   "display_name": "Python 3",
   "language": "python",
   "name": "python3"
  },
  "language_info": {
   "codemirror_mode": {
    "name": "ipython",
    "version": 3
   },
   "file_extension": ".py",
   "mimetype": "text/x-python",
   "name": "python",
   "nbconvert_exporter": "python",
   "pygments_lexer": "ipython3",
   "version": "3.12.4"
  }
 },
 "nbformat": 4,
 "nbformat_minor": 2
}
