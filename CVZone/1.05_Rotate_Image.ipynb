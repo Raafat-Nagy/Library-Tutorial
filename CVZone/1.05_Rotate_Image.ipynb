{
 "cells": [
  {
   "cell_type": "markdown",
   "metadata": {},
   "source": [
    "## **Rotate Image**"
   ]
  },
  {
   "cell_type": "code",
   "execution_count": null,
   "metadata": {},
   "outputs": [
    {
     "name": "stdout",
     "output_type": "stream",
     "text": [
      "Help on function rotateImage in module cvzone.Utils:\n",
      "\n",
      "rotateImage(imgInput, angle, scale=1, keepSize=False)\n",
      "    Rotates an image around it's center while optionally keeping the original image dimensions.\n",
      "\n",
      "    :param imgInput: The input image to be rotated. Should be an ndarray.\n",
      "    :param angle: The angle by which the image is to be rotated. Should be a float.\n",
      "    :param scale: A scaling factor that allows the image to be scaled while rotating. Default is 1. Optional.\n",
      "    :param keepSize: If True, keeps the dimensions of the rotated image the same as the input.\n",
      "                     If False, adjusts dimensions to fit the entire rotated image. Default is False. Optional.\n",
      "\n",
      "    :return: The rotated image as an ndarray.\n",
      "\n",
      "    Example:\n",
      "        rotated_img = rotateImage(img, 90, keepSize=True)\n",
      "\n"
     ]
    }
   ],
   "source": [
    "import cvzone\n",
    "\n",
    "help(cvzone.rotateImage)"
   ]
  },
  {
   "cell_type": "code",
   "execution_count": null,
   "metadata": {},
   "outputs": [],
   "source": [
    "import cv2\n",
    "import cvzone\n",
    "\n",
    "cap = cv2.VideoCapture(0)\n",
    "\n",
    "while True:\n",
    "    success, img = cap.read()\n",
    "\n",
    "    rotated_img = cvzone.rotateImage(img, angle=60, scale=1, keepSize=False)\n",
    "    # rotated_img = cvzone.rotateImage(img, 60, scale=1, keepSize=True)\n",
    "\n",
    "    cv2.imshow(\"Image Rotated 60\", rotated_img)\n",
    "    if cv2.waitKey(1) == ord(\"q\"):\n",
    "        break\n",
    "\n",
    "cap.release()\n",
    "cv2.destroyAllWindows()"
   ]
  }
 ],
 "metadata": {
  "kernelspec": {
   "display_name": "Python 3",
   "language": "python",
   "name": "python3"
  },
  "language_info": {
   "codemirror_mode": {
    "name": "ipython",
    "version": 3
   },
   "file_extension": ".py",
   "mimetype": "text/x-python",
   "name": "python",
   "nbconvert_exporter": "python",
   "pygments_lexer": "ipython3",
   "version": "3.12.4"
  }
 },
 "nbformat": 4,
 "nbformat_minor": 2
}
