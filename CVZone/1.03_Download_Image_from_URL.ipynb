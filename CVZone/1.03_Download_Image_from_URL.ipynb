{
 "cells": [
  {
   "cell_type": "markdown",
   "metadata": {},
   "source": [
    "## **Download Image from URL**"
   ]
  },
  {
   "cell_type": "code",
   "execution_count": 1,
   "metadata": {},
   "outputs": [
    {
     "name": "stdout",
     "output_type": "stream",
     "text": [
      "Help on function downloadImageFromUrl in module cvzone.Utils:\n",
      "\n",
      "downloadImageFromUrl(url, keepTransparency=False)\n",
      "    Download an image from a given URL and return it as an OpenCV image.\n",
      "\n",
      "    :param url: The URL of the image to download\n",
      "    :param keep_transparency: Whether to keep the alpha channel (transparency) in the image (default: False)\n",
      "    :return: The downloaded image in OpenCV format\n",
      "\n"
     ]
    }
   ],
   "source": [
    "import cvzone\n",
    "\n",
    "help(cvzone.downloadImageFromUrl)"
   ]
  },
  {
   "cell_type": "code",
   "execution_count": null,
   "metadata": {},
   "outputs": [],
   "source": [
    "import cv2\n",
    "import cvzone\n",
    "\n",
    "imgNormal = cvzone.downloadImageFromUrl(\n",
    "    url=\"https://github.com/cvzone/cvzone/blob/master/Results/shapes.png?raw=true\"\n",
    ")\n",
    "\n",
    "imgPNG = cvzone.downloadImageFromUrl(\n",
    "    url=\"https://github.com/cvzone/cvzone/blob/master/Results/cvzoneLogo.png?raw=true\",\n",
    "    keepTransparency=False,\n",
    ")\n",
    "imgPNG = cv2.resize(imgPNG, (0, 0), None, 3, 3)\n",
    "\n",
    "cv2.imshow(\"Image Normal\", imgNormal)\n",
    "cv2.imshow(\"Transparent Image\", imgPNG)\n",
    "\n",
    "if cv2.waitKey(0) == ord(\"q\"):\n",
    "    cv2.destroyAllWindows()"
   ]
  }
 ],
 "metadata": {
  "kernelspec": {
   "display_name": "Python 3",
   "language": "python",
   "name": "python3"
  },
  "language_info": {
   "codemirror_mode": {
    "name": "ipython",
    "version": 3
   },
   "file_extension": ".py",
   "mimetype": "text/x-python",
   "name": "python",
   "nbconvert_exporter": "python",
   "pygments_lexer": "ipython3",
   "version": "3.12.4"
  }
 },
 "nbformat": 4,
 "nbformat_minor": 2
}
