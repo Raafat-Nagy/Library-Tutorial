{
 "cells": [
  {
   "cell_type": "markdown",
   "metadata": {},
   "source": [
    "## **Face Mesh Module**\n"
   ]
  },
  {
   "cell_type": "code",
   "execution_count": 1,
   "metadata": {},
   "outputs": [
    {
     "name": "stdout",
     "output_type": "stream",
     "text": [
      "Help on class FaceMeshDetector in module cvzone.FaceMeshModule:\n",
      "\n",
      "class FaceMeshDetector(builtins.object)\n",
      " |  FaceMeshDetector(staticMode=False, maxFaces=2, minDetectionCon=0.5, minTrackCon=0.5)\n",
      " |\n",
      " |  Face Mesh Detector to find 468 Landmarks using the mediapipe library.\n",
      " |  Helps acquire the landmark points in pixel format\n",
      " |\n",
      " |  Methods defined here:\n",
      " |\n",
      " |  __init__(self, staticMode=False, maxFaces=2, minDetectionCon=0.5, minTrackCon=0.5)\n",
      " |      :param staticMode: In static mode, detection is done on each image: slower\n",
      " |      :param maxFaces: Maximum number of faces to detect\n",
      " |      :param minDetectionCon: Minimum Detection Confidence Threshold\n",
      " |      :param minTrackCon: Minimum Tracking Confidence Threshold\n",
      " |\n",
      " |  findDistance(self, p1, p2, img=None)\n",
      " |      Find the distance between two landmarks based on their\n",
      " |      index numbers.\n",
      " |      :param p1: Point1\n",
      " |      :param p2: Point2\n",
      " |      :param img: Image to draw on.\n",
      " |      :param draw: Flag to draw the output on the image.\n",
      " |      :return: Distance between the points\n",
      " |               Image with output drawn\n",
      " |               Line information\n",
      " |\n",
      " |  findFaceMesh(self, img, draw=True)\n",
      " |      Finds face landmarks in BGR Image.\n",
      " |      :param img: Image to find the face landmarks in.\n",
      " |      :param draw: Flag to draw the output on the image.\n",
      " |      :return: Image with or without drawings\n",
      " |\n",
      " |  ----------------------------------------------------------------------\n",
      " |  Data descriptors defined here:\n",
      " |\n",
      " |  __dict__\n",
      " |      dictionary for instance variables\n",
      " |\n",
      " |  __weakref__\n",
      " |      list of weak references to the object\n",
      "\n"
     ]
    }
   ],
   "source": [
    "from cvzone.FaceMeshModule import FaceMeshDetector\n",
    "\n",
    "help(FaceMeshDetector)"
   ]
  },
  {
   "cell_type": "code",
   "execution_count": 2,
   "metadata": {},
   "outputs": [],
   "source": [
    "from cvzone.FaceMeshModule import FaceMeshDetector\n",
    "import cv2\n",
    "\n",
    "cap = cv2.VideoCapture(0)\n",
    "\n",
    "# Initialize FaceMeshDetector object\n",
    "detector = FaceMeshDetector(\n",
    "    staticMode=False,\n",
    "    maxFaces=2,\n",
    "    minDetectionCon=0.5,\n",
    "    minTrackCon=0.5,\n",
    ")\n",
    "\n",
    "while True:\n",
    "    success, img = cap.read()\n",
    "\n",
    "    # Find face mesh in the image\n",
    "    img, faces = detector.findFaceMesh(img, draw=True)\n",
    "\n",
    "    # Check if any faces are detected\n",
    "    if faces:\n",
    "        # Loop through each detected face\n",
    "        for face in faces:\n",
    "            # Get specific points for the eye\n",
    "            leftEyeUpPoint = face[159]\n",
    "            leftEyeDownPoint = face[23]\n",
    "            cv2.circle(img, leftEyeUpPoint, 3, (0, 255, 0), -1)\n",
    "            cv2.circle(img, leftEyeDownPoint, 3, (0, 255, 0), -1)\n",
    "\n",
    "            # Calculate the vertical distance between the eye points\n",
    "            # info: Additional information (like coordinates)\n",
    "            leftEyeVerticalDistance, info = detector.findDistance(\n",
    "                leftEyeUpPoint, leftEyeDownPoint\n",
    "            )\n",
    "\n",
    "            # Print the vertical distance for debugging or information\n",
    "            # print(leftEyeVerticalDistance)\n",
    "\n",
    "    cv2.imshow(\"Image\", img)\n",
    "\n",
    "    if cv2.waitKey(5) & 0xFF == ord(\"q\"):\n",
    "        break\n",
    "\n",
    "cap.release()\n",
    "cv2.destroyAllWindows()"
   ]
  }
 ],
 "metadata": {
  "kernelspec": {
   "display_name": "Python 3",
   "language": "python",
   "name": "python3"
  },
  "language_info": {
   "codemirror_mode": {
    "name": "ipython",
    "version": 3
   },
   "file_extension": ".py",
   "mimetype": "text/x-python",
   "name": "python",
   "nbconvert_exporter": "python",
   "pygments_lexer": "ipython3",
   "version": "3.12.4"
  }
 },
 "nbformat": 4,
 "nbformat_minor": 2
}
