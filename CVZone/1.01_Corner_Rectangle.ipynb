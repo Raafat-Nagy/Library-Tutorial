{
 "cells": [
  {
   "cell_type": "markdown",
   "metadata": {},
   "source": [
    "## **Corner Rectangle**\n"
   ]
  },
  {
   "cell_type": "code",
   "execution_count": 1,
   "metadata": {},
   "outputs": [
    {
     "name": "stdout",
     "output_type": "stream",
     "text": [
      "Help on function cornerRect in module cvzone.Utils:\n",
      "\n",
      "cornerRect(img, bbox, l=30, t=5, rt=1, colorR=(255, 0, 255), colorC=(0, 255, 0))\n",
      "    :param img: Image to draw on.\n",
      "    :param bbox: Bounding box [x, y, w, h]\n",
      "    :param l: length of the corner line\n",
      "    :param t: thickness of the corner line\n",
      "    :param rt: thickness of the rectangle\n",
      "    :param colorR: Color of the Rectangle\n",
      "    :param colorC: Color of the Corners\n",
      "    :return:\n",
      "\n"
     ]
    }
   ],
   "source": [
    "import cvzone\n",
    "\n",
    "help(cvzone.cornerRect)"
   ]
  },
  {
   "cell_type": "code",
   "execution_count": 2,
   "metadata": {},
   "outputs": [],
   "source": [
    "import cv2\n",
    "import cvzone\n",
    "\n",
    "cap = cv2.VideoCapture(0)\n",
    "\n",
    "while True:\n",
    "    ret, frame = cap.read()\n",
    "    if not ret:\n",
    "        break\n",
    "\n",
    "    # Add a rectangle with styled corners to the image\n",
    "    frame = cvzone.cornerRect(\n",
    "        frame,\n",
    "        (200, 200, 300, 200),\n",
    "        l=30,\n",
    "        t=5,\n",
    "        rt=1,\n",
    "        colorR=(255, 0, 255),\n",
    "        colorC=(0, 255, 0),\n",
    "    )\n",
    "\n",
    "    cv2.imshow(\"Image\", frame)\n",
    "\n",
    "    if cv2.waitKey(1) == ord(\"q\"):\n",
    "        break\n",
    "\n",
    "cap.release()\n",
    "cv2.destroyAllWindows()"
   ]
  }
 ],
 "metadata": {
  "kernelspec": {
   "display_name": "Python 3",
   "language": "python",
   "name": "python3"
  },
  "language_info": {
   "codemirror_mode": {
    "name": "ipython",
    "version": 3
   },
   "file_extension": ".py",
   "mimetype": "text/x-python",
   "name": "python",
   "nbconvert_exporter": "python",
   "pygments_lexer": "ipython3",
   "version": "3.12.4"
  }
 },
 "nbformat": 4,
 "nbformat_minor": 2
}
