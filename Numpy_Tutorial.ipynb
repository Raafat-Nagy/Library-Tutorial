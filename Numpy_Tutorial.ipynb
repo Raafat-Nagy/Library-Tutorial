{
 "cells": [
  {
   "cell_type": "markdown",
   "metadata": {},
   "source": [
    "# **Numpy Tutorial**"
   ]
  },
  {
   "cell_type": "markdown",
   "metadata": {},
   "source": [
    "---"
   ]
  },
  {
   "cell_type": "markdown",
   "metadata": {},
   "source": [
    "## **Create NumPy Arrays**"
   ]
  },
  {
   "cell_type": "markdown",
   "metadata": {},
   "source": [
    "### **Table of Contents** ###\n",
    "\n",
    "- **Install and Import Numpy**\n",
    "- **Create NumPy Arrays**\n",
    "  - `np.array()`\n",
    "  - `np.arange()`\n",
    "  - `np.linspace()`"
   ]
  },
  {
   "cell_type": "markdown",
   "metadata": {},
   "source": [
    "### **Install and Import Numpy**"
   ]
  },
  {
   "cell_type": "code",
   "execution_count": null,
   "metadata": {},
   "outputs": [],
   "source": [
    "# !pip install numpy"
   ]
  },
  {
   "cell_type": "code",
   "execution_count": null,
   "metadata": {},
   "outputs": [],
   "source": [
    "import numpy as np"
   ]
  },
  {
   "cell_type": "markdown",
   "metadata": {},
   "source": [
    "### **Create NumPy Arrays**"
   ]
  },
  {
   "cell_type": "markdown",
   "metadata": {},
   "source": [
    "##### **`np.array()`**"
   ]
  },
  {
   "cell_type": "code",
   "execution_count": null,
   "metadata": {},
   "outputs": [
    {
     "name": "stdout",
     "output_type": "stream",
     "text": [
      "[1 2 3]\n"
     ]
    }
   ],
   "source": [
    "# Create and print a NumPy array 'a' containing the elements 1, 2, 3.\n",
    "a = np.array([1, 2, 3])\n",
    "print(a)"
   ]
  },
  {
   "cell_type": "markdown",
   "metadata": {},
   "source": [
    "##### **`np.arange()`**"
   ]
  },
  {
   "cell_type": "markdown",
   "metadata": {},
   "source": [
    "Another way to implement an array is using `np.arange()`. This function will return an array of evenly spaced values within a given interval."
   ]
  },
  {
   "cell_type": "code",
   "execution_count": null,
   "metadata": {},
   "outputs": [
    {
     "name": "stdout",
     "output_type": "stream",
     "text": [
      "[0 1 2]\n"
     ]
    }
   ],
   "source": [
    "# Create an array with 3 integers, starting from the default integer 0.\n",
    "b = np.arange(3)\n",
    "print(b)"
   ]
  },
  {
   "cell_type": "code",
   "execution_count": null,
   "metadata": {},
   "outputs": [
    {
     "name": "stdout",
     "output_type": "stream",
     "text": [
      "[ 1  4  7 10 13 16 19]\n"
     ]
    }
   ],
   "source": [
    "# Create an array that starts from the integer 1, ends at 20, incremented by 3.\n",
    "c = np.arange(1, 20, 3)\n",
    "print(c)"
   ]
  },
  {
   "cell_type": "markdown",
   "metadata": {},
   "source": [
    "##### **`np.linspace()`**"
   ]
  },
  {
   "cell_type": "markdown",
   "metadata": {},
   "source": [
    "Create an array with five evenly spaced values in the interval from 0 to 100?"
   ]
  },
  {
   "cell_type": "code",
   "execution_count": null,
   "metadata": {},
   "outputs": [
    {
     "name": "stdout",
     "output_type": "stream",
     "text": [
      "[  0  25  50  75 100]\n"
     ]
    }
   ],
   "source": [
    "lin_spaced_arr = np.linspace(0, 100, 5, dtype=int)\n",
    "print(lin_spaced_arr)"
   ]
  },
  {
   "cell_type": "markdown",
   "metadata": {},
   "source": [
    "---\n",
    "---"
   ]
  },
  {
   "cell_type": "markdown",
   "metadata": {},
   "source": [
    "## **Multidimensional Arrays**\n"
   ]
  },
  {
   "cell_type": "markdown",
   "metadata": {},
   "source": [
    "### **Table of Contents** ###\n",
    "\n",
    "- Creating Multidimensional Arrays\n",
    "- Reshaping Arrays"
   ]
  },
  {
   "cell_type": "markdown",
   "metadata": {},
   "source": [
    "---"
   ]
  },
  {
   "cell_type": "code",
   "execution_count": null,
   "metadata": {},
   "outputs": [],
   "source": [
    "import numpy as np"
   ]
  },
  {
   "cell_type": "markdown",
   "metadata": {},
   "source": [
    "### **Creating Multidimensional Arrays**\n",
    "Let's start by creating 1D, 2D, and 3D arrays."
   ]
  },
  {
   "cell_type": "code",
   "execution_count": null,
   "metadata": {},
   "outputs": [
    {
     "name": "stdout",
     "output_type": "stream",
     "text": [
      "1D Array:\n",
      " [1 2 3 4 5 6]\n"
     ]
    }
   ],
   "source": [
    "# 1-D array\n",
    "one_dim_arr = np.array([1, 2, 3, 4, 5, 6])\n",
    "print(\"1D Array:\\n\", one_dim_arr)"
   ]
  },
  {
   "cell_type": "code",
   "execution_count": null,
   "metadata": {},
   "outputs": [
    {
     "name": "stdout",
     "output_type": "stream",
     "text": [
      "2D Array:\n",
      " [[1 2 3]\n",
      " [4 5 6]]\n"
     ]
    }
   ],
   "source": [
    "# 2-D array\n",
    "two_dim_arr = np.array([[1, 2, 3], [4, 5, 6]])\n",
    "print(\"2D Array:\\n\", two_dim_arr)"
   ]
  },
  {
   "cell_type": "code",
   "execution_count": null,
   "metadata": {},
   "outputs": [
    {
     "name": "stdout",
     "output_type": "stream",
     "text": [
      "3D Array:\n",
      " [[[1 2 3]\n",
      "  [4 5 6]]]\n"
     ]
    }
   ],
   "source": [
    "# 3-D array\n",
    "three_dim_arr = np.array([[[1, 2, 3], [4, 5, 6]]])\n",
    "print(\"3D Array:\\n\", three_dim_arr)"
   ]
  },
  {
   "cell_type": "markdown",
   "metadata": {},
   "source": [
    "### **Reshaping Arrays**\n",
    "An alternative way to create a multidimensional array is by reshaping a 1-D array. Using `np.reshape()`, you can rearrange elements into a new shape.\n"
   ]
  },
  {
   "cell_type": "code",
   "execution_count": null,
   "metadata": {},
   "outputs": [
    {
     "name": "stdout",
     "output_type": "stream",
     "text": [
      "Reshaped 2D Array:\n",
      " [[1 2 3]\n",
      " [4 5 6]]\n"
     ]
    }
   ],
   "source": [
    "# 1-D array\n",
    "one_dim_arr = np.array([1, 2, 3, 4, 5, 6])\n",
    "\n",
    "# Multidimensional array using reshape()\n",
    "multi_dim_arr = np.reshape(one_dim_arr, (2, 3))\n",
    "\n",
    "# Print the new 2-D array with two rows and three columns\n",
    "print(\"Reshaped 2D Array:\\n\", multi_dim_arr)"
   ]
  },
  {
   "cell_type": "markdown",
   "metadata": {},
   "source": [
    "---\n",
    "---"
   ]
  },
  {
   "cell_type": "markdown",
   "metadata": {},
   "source": [
    "## **Attributes of NumPy Arrays**\n"
   ]
  },
  {
   "cell_type": "markdown",
   "metadata": {},
   "source": [
    "### **Table of Contents** ###\n",
    "\n",
    "- **Introduction**\n",
    "- **Creating Multidimensional Arrays**\n",
    "- **Finding Dimension, Shape, Size, Data-Type, ItemSize and Num of Bytes**\n",
    "  - `ndarray.ndim`\n",
    "  - `ndarray.shape`\n",
    "  - `ndarray.size`\n",
    "  - `ndarray.dtype`\n",
    "  - `ndarray.itemsize`\n",
    "  - `ndarray.nbytes`\n",
    "- **Function to Analyze Array Attributes**"
   ]
  },
  {
   "cell_type": "markdown",
   "metadata": {},
   "source": [
    "---"
   ]
  },
  {
   "cell_type": "markdown",
   "metadata": {},
   "source": [
    "### **Introduction** ###\n",
    "NumPy arrays have several useful attributes that help us understand their structure, including dimensions, shape, size, and data type. This notebook explores these attributes with examples."
   ]
  },
  {
   "cell_type": "code",
   "execution_count": null,
   "metadata": {},
   "outputs": [],
   "source": [
    "import numpy as np"
   ]
  },
  {
   "cell_type": "markdown",
   "metadata": {},
   "source": [
    "### **Creating a NumPy Array** ###\n",
    "Let's create a simple 2D NumPy array to explore its attributes."
   ]
  },
  {
   "cell_type": "code",
   "execution_count": null,
   "metadata": {},
   "outputs": [
    {
     "name": "stdout",
     "output_type": "stream",
     "text": [
      "[[1 2 3]\n",
      " [4 5 6]]\n"
     ]
    }
   ],
   "source": [
    "# Create a 2D array (2 rows, 3 columns)\n",
    "a = np.array([[1, 2, 3], [4, 5, 6]])\n",
    "print(a)"
   ]
  },
  {
   "cell_type": "markdown",
   "metadata": {},
   "source": [
    "### **Finding Dimension, Shape, Size, Data-Type, ItemSize and Num of Bytes**"
   ]
  },
  {
   "cell_type": "markdown",
   "metadata": {},
   "source": [
    "##### **Number of Dimensions**\n",
    "\n",
    "`ndarray.ndim` stores the number of dimensions of the array."
   ]
  },
  {
   "cell_type": "code",
   "execution_count": null,
   "metadata": {},
   "outputs": [
    {
     "name": "stdout",
     "output_type": "stream",
     "text": [
      "ndim: 2\n"
     ]
    }
   ],
   "source": [
    "print(\"ndim:\", a.ndim)"
   ]
  },
  {
   "cell_type": "markdown",
   "metadata": {},
   "source": [
    "##### **Shape of the Array**\n",
    "\n",
    "`ndarray.shape` returns a tuple representing the shape (rows, columns) of the array.\n"
   ]
  },
  {
   "cell_type": "code",
   "execution_count": null,
   "metadata": {},
   "outputs": [
    {
     "name": "stdout",
     "output_type": "stream",
     "text": [
      "Shape (rows, columns): (2, 3)\n"
     ]
    }
   ],
   "source": [
    "print(\"Shape (rows, columns):\", a.shape)"
   ]
  },
  {
   "cell_type": "markdown",
   "metadata": {},
   "source": [
    "##### **Total Number of Elements**\n",
    "\n",
    "`ndarray.size` returns the total number of elements in the array."
   ]
  },
  {
   "cell_type": "code",
   "execution_count": null,
   "metadata": {},
   "outputs": [
    {
     "name": "stdout",
     "output_type": "stream",
     "text": [
      "Size: 6\n"
     ]
    }
   ],
   "source": [
    "print(\"Size:\", a.size)"
   ]
  },
  {
   "cell_type": "markdown",
   "metadata": {},
   "source": [
    "##### **Data Type of Elements**\n",
    "\n",
    "`ndarray.dtype` shows the data type of the elements in the array."
   ]
  },
  {
   "cell_type": "code",
   "execution_count": null,
   "metadata": {},
   "outputs": [
    {
     "name": "stdout",
     "output_type": "stream",
     "text": [
      "dtype: int32\n"
     ]
    }
   ],
   "source": [
    "print(\"dtype:\", a.dtype)"
   ]
  },
  {
   "cell_type": "markdown",
   "metadata": {},
   "source": [
    "##### **Memory Usage Information**"
   ]
  },
  {
   "cell_type": "markdown",
   "metadata": {},
   "source": [
    "**Item Size:**\n",
    "\n",
    "`ndarray.itemsize` returns the memory size (in bytes) of each element in the array."
   ]
  },
  {
   "cell_type": "code",
   "execution_count": null,
   "metadata": {},
   "outputs": [
    {
     "name": "stdout",
     "output_type": "stream",
     "text": [
      "Item size (bytes per element): 4\n"
     ]
    }
   ],
   "source": [
    "print(\"Item size (bytes per element):\", a.itemsize)"
   ]
  },
  {
   "cell_type": "markdown",
   "metadata": {},
   "source": [
    "**Total Size of the Array in Bytes:**\n",
    "\n",
    "`ndarray.nbytes` calculates the total memory size occupied by the array.\n"
   ]
  },
  {
   "cell_type": "code",
   "execution_count": null,
   "metadata": {},
   "outputs": [
    {
     "name": "stdout",
     "output_type": "stream",
     "text": [
      "Total memory size (bytes): 24\n",
      "Total memory size (bytes): 24\n"
     ]
    }
   ],
   "source": [
    "print(\"Total memory size (bytes):\", a.nbytes)\n",
    "print(\"Total memory size (bytes):\", (a.size * a.itemsize))"
   ]
  },
  {
   "cell_type": "markdown",
   "metadata": {},
   "source": [
    "---"
   ]
  },
  {
   "cell_type": "markdown",
   "metadata": {},
   "source": [
    "### **Function to Analyze Array Attributes**"
   ]
  },
  {
   "cell_type": "code",
   "execution_count": null,
   "metadata": {},
   "outputs": [],
   "source": [
    "def analyze_array(arr):\n",
    "    print(\"Array:\\n\", arr)\n",
    "    print(\"\\nNumber of dimensions (ndim):\", arr.ndim)\n",
    "    print(\"Shape:\", arr.shape)\n",
    "    print(\"Total number of elements (size):\", arr.size)\n",
    "    print(\"Data type (dtype):\", arr.dtype)\n",
    "    print(\"Item size (bytes per element):\", arr.itemsize)\n",
    "    print(\"Total memory size (bytes):\", arr.nbytes)"
   ]
  },
  {
   "cell_type": "code",
   "execution_count": null,
   "metadata": {},
   "outputs": [
    {
     "name": "stdout",
     "output_type": "stream",
     "text": [
      "Array:\n",
      " [1 2 3 4 5]\n",
      "\n",
      "Number of dimensions (ndim): 1\n",
      "Shape: (5,)\n",
      "Total number of elements (size): 5\n",
      "Data type (dtype): int32\n",
      "Item size (bytes per element): 4\n",
      "Total memory size (bytes): 20\n"
     ]
    }
   ],
   "source": [
    "# Create a 1D array (5 elements)\n",
    "b = np.array([1, 2, 3, 4, 5])\n",
    "\n",
    "# Analyze the array\n",
    "analyze_array(b)"
   ]
  },
  {
   "cell_type": "code",
   "execution_count": null,
   "metadata": {},
   "outputs": [
    {
     "name": "stdout",
     "output_type": "stream",
     "text": [
      "Array:\n",
      " [[ 1  2  3  4]\n",
      " [ 5  6  7  8]\n",
      " [ 9 10 11 12]]\n",
      "\n",
      "Number of dimensions (ndim): 2\n",
      "Shape: (3, 4)\n",
      "Total number of elements (size): 12\n",
      "Data type (dtype): int32\n",
      "Item size (bytes per element): 4\n",
      "Total memory size (bytes): 48\n"
     ]
    }
   ],
   "source": [
    "# Create a 2D array (3 rows, 4 columns)\n",
    "c = np.array([[1, 2, 3, 4], [5, 6, 7, 8], [9, 10, 11, 12]])\n",
    "\n",
    "# Analyze the array\n",
    "analyze_array(c)"
   ]
  },
  {
   "cell_type": "code",
   "execution_count": null,
   "metadata": {},
   "outputs": [
    {
     "name": "stdout",
     "output_type": "stream",
     "text": [
      "Array:\n",
      " [[[ 1  2  3  4]\n",
      "  [ 5  6  7  8]\n",
      "  [ 9 10 11 12]]\n",
      "\n",
      " [[13 14 15 16]\n",
      "  [17 18 19 20]\n",
      "  [21 22 23 24]]]\n",
      "\n",
      "Number of dimensions (ndim): 3\n",
      "Shape: (2, 3, 4)\n",
      "Total number of elements (size): 24\n",
      "Data type (dtype): int32\n",
      "Item size (bytes per element): 4\n",
      "Total memory size (bytes): 96\n"
     ]
    }
   ],
   "source": [
    "# Create a 3D array (2 blocks, 3 rows, 4 columns)\n",
    "d = np.array(\n",
    "    [\n",
    "        [[1, 2, 3, 4], [5, 6, 7, 8], [9, 10, 11, 12]],\n",
    "        [[13, 14, 15, 16], [17, 18, 19, 20], [21, 22, 23, 24]],\n",
    "    ]\n",
    ")\n",
    "\n",
    "# Analyze the array\n",
    "analyze_array(d)"
   ]
  },
  {
   "cell_type": "markdown",
   "metadata": {},
   "source": [
    "---\n",
    "---"
   ]
  },
  {
   "cell_type": "markdown",
   "metadata": {},
   "source": [
    "## **More Functions to Create NumPy Arrays**"
   ]
  },
  {
   "cell_type": "markdown",
   "metadata": {},
   "source": [
    "NumPy provides various functions to create arrays easily, including ones filled with specific values or random numbers.\n"
   ]
  },
  {
   "cell_type": "markdown",
   "metadata": {},
   "source": [
    "### **Table of Contents** ###\n",
    "\n",
    "- **Creating Arrays with Specific Values**\n",
    "  - `np.ones()`\n",
    "  - `np.zeros()`\n",
    "  - `np.full()`\n",
    "  - `np.empty()`\n",
    "- **Creating Random Arrays**\n",
    "  - `np.random.rand()`\n",
    "  - `np.random.random()`\n",
    "  - `np.random.randint()`\n",
    "  - `np.random.normal()`\n",
    "- **Creating Identity and Diagonal Matrices**\n",
    "  - `np.eye()`\n",
    "  - `np.diag()`"
   ]
  },
  {
   "cell_type": "code",
   "execution_count": null,
   "metadata": {},
   "outputs": [],
   "source": [
    "import numpy as np"
   ]
  },
  {
   "cell_type": "markdown",
   "metadata": {},
   "source": [
    "---"
   ]
  },
  {
   "cell_type": "markdown",
   "metadata": {},
   "source": [
    "### **Creating Arrays with Specific Values** ###"
   ]
  },
  {
   "cell_type": "markdown",
   "metadata": {},
   "source": [
    "##### **`np.ones()`**"
   ]
  },
  {
   "cell_type": "code",
   "execution_count": null,
   "metadata": {},
   "outputs": [
    {
     "name": "stdout",
     "output_type": "stream",
     "text": [
      "Ones Array:\n",
      " [1. 1. 1.]\n"
     ]
    }
   ],
   "source": [
    "# Creates an array filled with ones.\n",
    "ones_arr = np.ones(3)\n",
    "print(\"Ones Array:\\n\", ones_arr)"
   ]
  },
  {
   "cell_type": "markdown",
   "metadata": {},
   "source": [
    "##### **`np.zeros()`**"
   ]
  },
  {
   "cell_type": "code",
   "execution_count": null,
   "metadata": {},
   "outputs": [
    {
     "name": "stdout",
     "output_type": "stream",
     "text": [
      "Zeros Array:\n",
      " [0. 0. 0.]\n"
     ]
    }
   ],
   "source": [
    "# Creates an array filled with zeros.\n",
    "zeros_arr = np.zeros(3)\n",
    "print(\"Zeros Array:\\n\", zeros_arr)"
   ]
  },
  {
   "cell_type": "markdown",
   "metadata": {},
   "source": [
    "##### **`np.full()`**"
   ]
  },
  {
   "cell_type": "code",
   "execution_count": null,
   "metadata": {},
   "outputs": [
    {
     "name": "stdout",
     "output_type": "stream",
     "text": [
      "Full Array:\n",
      " [[5 5 5]\n",
      " [5 5 5]]\n"
     ]
    }
   ],
   "source": [
    "# Creating an array filled with a constant value\n",
    "a = np.full((2, 3), 5)\n",
    "print(\"Full Array:\\n\", a)"
   ]
  },
  {
   "cell_type": "markdown",
   "metadata": {},
   "source": [
    "##### **`np.empty()`**"
   ]
  },
  {
   "cell_type": "code",
   "execution_count": null,
   "metadata": {},
   "outputs": [
    {
     "name": "stdout",
     "output_type": "stream",
     "text": [
      "Empty Array:\n",
      " [1. 1. 1.]\n"
     ]
    }
   ],
   "source": [
    "# Creates an uninitialized array of given shape.\n",
    "empty_arr = np.empty(3)\n",
    "print(\"Empty Array:\\n\", empty_arr)"
   ]
  },
  {
   "cell_type": "markdown",
   "metadata": {},
   "source": [
    "---"
   ]
  },
  {
   "cell_type": "markdown",
   "metadata": {},
   "source": [
    "### **Creating Random Arrays**"
   ]
  },
  {
   "cell_type": "markdown",
   "metadata": {},
   "source": [
    "##### **`np.random.rand()`**"
   ]
  },
  {
   "cell_type": "code",
   "execution_count": null,
   "metadata": {},
   "outputs": [
    {
     "name": "stdout",
     "output_type": "stream",
     "text": [
      "Random Array (rand):\n",
      " [0.60201348 0.56802377 0.59910824]\n"
     ]
    }
   ],
   "source": [
    "# Generates random floating-point numbers between 0 and 1.\n",
    "rand_arr = np.random.rand(3)\n",
    "print(\"Random Array (rand):\\n\", rand_arr)"
   ]
  },
  {
   "cell_type": "markdown",
   "metadata": {},
   "source": [
    "##### **`np.random.random()`**"
   ]
  },
  {
   "cell_type": "code",
   "execution_count": null,
   "metadata": {},
   "outputs": [
    {
     "name": "stdout",
     "output_type": "stream",
     "text": [
      "Random Array (random):\n",
      " [0.80730082 0.16467785 0.18710266]\n"
     ]
    }
   ],
   "source": [
    "# Generates random floating-point numbers between 0 and 1.\n",
    "rand_random_arr = np.random.random(3)\n",
    "print(\"Random Array (random):\\n\", rand_random_arr)"
   ]
  },
  {
   "cell_type": "markdown",
   "metadata": {},
   "source": [
    "##### **Difference Between `np.random.rand(3)` and `np.random.random(3)`**\n",
    "- Both generate random numbers between 0 and 1.\n",
    "- Difference in syntax:\n",
    "  - `np.random.rand()` uses arguments without parentheses.\n",
    "  - `np.random.random()` uses arguments inside parentheses."
   ]
  },
  {
   "cell_type": "markdown",
   "metadata": {},
   "source": [
    "##### **`np.random.randint()`**"
   ]
  },
  {
   "cell_type": "code",
   "execution_count": null,
   "metadata": {},
   "outputs": [
    {
     "name": "stdout",
     "output_type": "stream",
     "text": [
      "Random Integer Array:\n",
      " [43 36 21]\n"
     ]
    }
   ],
   "source": [
    "# Generates random integers within a specified range.\n",
    "rand_int_arr = np.random.randint(low=10, high=50, size=3)\n",
    "print(\"Random Integer Array:\\n\", rand_int_arr)"
   ]
  },
  {
   "cell_type": "markdown",
   "metadata": {},
   "source": [
    "##### **`np.random.normal()`**"
   ]
  },
  {
   "cell_type": "markdown",
   "metadata": {},
   "source": [
    "Generates random numbers sampled from a normal (Gaussian) distribution."
   ]
  },
  {
   "cell_type": "code",
   "execution_count": null,
   "metadata": {},
   "outputs": [
    {
     "name": "stdout",
     "output_type": "stream",
     "text": [
      "Random Normal Array:\n",
      " [-0.63137561  1.6418319  -1.01857842]\n"
     ]
    }
   ],
   "source": [
    "# Generate an array of 3 random numbers with a mean of 0 and a standard deviation of 1.\n",
    "rand_normal_arr = np.random.normal(loc=0, scale=1, size=3)\n",
    "print(\"Random Normal Array:\\n\", rand_normal_arr)"
   ]
  },
  {
   "cell_type": "markdown",
   "metadata": {},
   "source": [
    "- `loc`: Mean\n",
    "- `scale`: Standard deviation\n",
    "- `size`: Array size"
   ]
  },
  {
   "cell_type": "markdown",
   "metadata": {},
   "source": [
    "---"
   ]
  },
  {
   "cell_type": "markdown",
   "metadata": {},
   "source": [
    "### **Creating Identity and Diagonal Matrices**\n"
   ]
  },
  {
   "cell_type": "markdown",
   "metadata": {},
   "source": [
    "##### **`np.eye()`**"
   ]
  },
  {
   "cell_type": "code",
   "execution_count": null,
   "metadata": {},
   "outputs": [
    {
     "name": "stdout",
     "output_type": "stream",
     "text": [
      "Identity Matrix:\n",
      " [[1 0 0]\n",
      " [0 1 0]\n",
      " [0 0 1]]\n"
     ]
    }
   ],
   "source": [
    "# Creating an identity matrix\n",
    "identity_matrix = np.eye(3, dtype=int)\n",
    "print(\"Identity Matrix:\\n\", identity_matrix)"
   ]
  },
  {
   "cell_type": "markdown",
   "metadata": {},
   "source": [
    "##### **`np.diag()`**"
   ]
  },
  {
   "cell_type": "markdown",
   "metadata": {},
   "source": [
    "Creates a diagonal matrix with specified values."
   ]
  },
  {
   "cell_type": "code",
   "execution_count": null,
   "metadata": {},
   "outputs": [
    {
     "name": "stdout",
     "output_type": "stream",
     "text": [
      "Diagonal Matrix:\n",
      " [[1 0 0]\n",
      " [0 5 0]\n",
      " [0 0 9]]\n"
     ]
    }
   ],
   "source": [
    "diag_arr = np.diag([1, 5, 9])\n",
    "print(\"Diagonal Matrix:\\n\", diag_arr)"
   ]
  },
  {
   "cell_type": "code",
   "execution_count": null,
   "metadata": {},
   "outputs": [
    {
     "name": "stdout",
     "output_type": "stream",
     "text": [
      "Diagonal Matrix:\n",
      " [[1 0 0]\n",
      " [0 1 0]\n",
      " [0 0 1]]\n"
     ]
    }
   ],
   "source": [
    "diag_arr = np.diag([1, 1, 1])\n",
    "print(\"Diagonal Matrix:\\n\", diag_arr)"
   ]
  },
  {
   "cell_type": "markdown",
   "metadata": {},
   "source": [
    "---\n",
    "---"
   ]
  },
  {
   "cell_type": "markdown",
   "metadata": {},
   "source": [
    "## **Save and Load NumPy Array**\n"
   ]
  },
  {
   "cell_type": "code",
   "execution_count": null,
   "metadata": {},
   "outputs": [],
   "source": [
    "import numpy as np"
   ]
  },
  {
   "cell_type": "code",
   "execution_count": null,
   "metadata": {},
   "outputs": [
    {
     "name": "stdout",
     "output_type": "stream",
     "text": [
      "Original Array:\n",
      " [[ 0  1  2  3]\n",
      " [ 4  5  6  7]\n",
      " [ 8  9 10 11]]\n"
     ]
    }
   ],
   "source": [
    "# Create a NumPy array\n",
    "np_array = np.arange(12).reshape((3, 4))\n",
    "print(\"Original Array:\\n\", np_array)"
   ]
  },
  {
   "cell_type": "markdown",
   "metadata": {},
   "source": [
    "### **Saving a NumPy Array**\n",
    "\n",
    "NumPy provides the `np.save()` function to save an array to a `.npy` file."
   ]
  },
  {
   "cell_type": "code",
   "execution_count": null,
   "metadata": {},
   "outputs": [
    {
     "name": "stdout",
     "output_type": "stream",
     "text": [
      "Array saved to 'np_array.npy'\n"
     ]
    }
   ],
   "source": [
    "# Save the array to a file\n",
    "np.save(\"np_array.npy\", np_array)\n",
    "print(\"Array saved to 'np_array.npy'\")"
   ]
  },
  {
   "cell_type": "markdown",
   "metadata": {},
   "source": [
    "### **Loading a NumPy Array**\n",
    "To load a saved NumPy array from a `.npy` file, use the `np.load()` function."
   ]
  },
  {
   "cell_type": "code",
   "execution_count": null,
   "metadata": {},
   "outputs": [
    {
     "name": "stdout",
     "output_type": "stream",
     "text": [
      "Loaded Array:\n",
      " [[ 0  1  2  3]\n",
      " [ 4  5  6  7]\n",
      " [ 8  9 10 11]]\n"
     ]
    }
   ],
   "source": [
    "# Load the array from the file\n",
    "loaded_array = np.load(\"np_array.npy\")\n",
    "print(\"Loaded Array:\\n\", loaded_array)"
   ]
  },
  {
   "cell_type": "markdown",
   "metadata": {},
   "source": [
    "---\n",
    "---"
   ]
  },
  {
   "cell_type": "markdown",
   "metadata": {},
   "source": [
    "## **Views and Copies in NumPy**"
   ]
  },
  {
   "cell_type": "code",
   "execution_count": null,
   "metadata": {},
   "outputs": [],
   "source": [
    "import numpy as np"
   ]
  },
  {
   "cell_type": "markdown",
   "metadata": {},
   "source": [
    "### **Table of Contents**\n",
    "1. **View (Shallow Copy)**\n",
    "2. **Practical Example: Modifying a Subarray**\n",
    "3. **Deep Copy**\n",
    "\n",
    "---"
   ]
  },
  {
   "cell_type": "markdown",
   "metadata": {},
   "source": [
    "### **View (Shallow Copy)**\n",
    "\n",
    "A **view** is a shallow copy of an array. It creates a new array object that shares the same data as the original array. This means that modifying the view will also modify the original array."
   ]
  },
  {
   "cell_type": "code",
   "execution_count": null,
   "metadata": {},
   "outputs": [
    {
     "name": "stdout",
     "output_type": "stream",
     "text": [
      "Original Array: [1 2 3 4 5]\n",
      "View Array: [1 2 3 4 5]\n"
     ]
    }
   ],
   "source": [
    "# Create an array\n",
    "original_array = np.array([1, 2, 3, 4, 5])\n",
    "\n",
    "# Create a view of the array\n",
    "view_array = original_array.view()\n",
    "\n",
    "print(\"Original Array:\", original_array)\n",
    "print(\"View Array:\", view_array)"
   ]
  },
  {
   "cell_type": "code",
   "execution_count": null,
   "metadata": {},
   "outputs": [
    {
     "name": "stdout",
     "output_type": "stream",
     "text": [
      "After modifying the view and original array:\n",
      "\n",
      "Original Array: [100   2   3   4 200]\n",
      "View Array: [100   2   3   4 200]\n"
     ]
    }
   ],
   "source": [
    "# Modify the view and original array\n",
    "original_array[0] = 100\n",
    "view_array[-1] = 200\n",
    "\n",
    "print(\"After modifying the view and original array:\")\n",
    "print(\"\\nOriginal Array:\", original_array)\n",
    "print(\"View Array:\", view_array)"
   ]
  },
  {
   "cell_type": "markdown",
   "metadata": {},
   "source": [
    "---"
   ]
  },
  {
   "cell_type": "markdown",
   "metadata": {},
   "source": [
    "### **Practical Example: Modifying a Subarray**\n",
    "\n",
    "When working with subarrays, it’s important to understand whether you’re creating a view or a copy. By default, slicing an array creates a **view**, which means modifying the subarray will also modify the original array."
   ]
  },
  {
   "cell_type": "code",
   "execution_count": null,
   "metadata": {},
   "outputs": [
    {
     "name": "stdout",
     "output_type": "stream",
     "text": [
      "Original Array:\n",
      " [[12  5  2  4]\n",
      " [ 7  6  8  8]\n",
      " [ 1  6  7  7]]\n"
     ]
    }
   ],
   "source": [
    "# Create a 2D array\n",
    "array_2d = np.array([[12, 5, 2, 4], [7, 6, 8, 8], [1, 6, 7, 7]])\n",
    "print(\"Original Array:\\n\", array_2d)"
   ]
  },
  {
   "cell_type": "code",
   "execution_count": null,
   "metadata": {},
   "outputs": [
    {
     "name": "stdout",
     "output_type": "stream",
     "text": [
      "Subarray (View):\n",
      " [[12  5]\n",
      " [ 7  6]]\n"
     ]
    }
   ],
   "source": [
    "# Create a subarray (this is a view)\n",
    "sub_array = array_2d[:2, :2]\n",
    "print(\"Subarray (View):\\n\", sub_array)"
   ]
  },
  {
   "cell_type": "code",
   "execution_count": null,
   "metadata": {},
   "outputs": [
    {
     "name": "stdout",
     "output_type": "stream",
     "text": [
      "After modifying the subarray and original array:\n",
      "\n",
      "Original Array:\n",
      " [[100 200   2   4]\n",
      " [  7   6   8   8]\n",
      " [  1   6   7   7]]\n",
      "\n",
      "Subarray (View):\n",
      " [[100 200]\n",
      " [  7   6]]\n"
     ]
    }
   ],
   "source": [
    "# Modify the subarray and original array\n",
    "array_2d[0, 0] = 100\n",
    "sub_array[0, 1] = 200\n",
    "\n",
    "print(\"After modifying the subarray and original array:\\n\")\n",
    "print(\"Original Array:\\n\", array_2d)\n",
    "print(\"\\nSubarray (View):\\n\", sub_array)"
   ]
  },
  {
   "cell_type": "markdown",
   "metadata": {},
   "source": [
    "---"
   ]
  },
  {
   "cell_type": "markdown",
   "metadata": {},
   "source": [
    "### **Deep Copy**\n",
    "\n",
    "A **deep copy** creates a completely independent copy of the array. Changes made to the deep copy do not affect the original array, and vice versa."
   ]
  },
  {
   "cell_type": "code",
   "execution_count": null,
   "metadata": {},
   "outputs": [
    {
     "name": "stdout",
     "output_type": "stream",
     "text": [
      "Original Array: [1 2 3 4 5]\n",
      "Deep Copy Array: [1 2 3 4 5]\n"
     ]
    }
   ],
   "source": [
    "# Create an array\n",
    "original_array = np.array([1, 2, 3, 4, 5])\n",
    "\n",
    "# Create a deep copy of the array\n",
    "deep_copy_array = original_array.copy()\n",
    "\n",
    "print(\"Original Array:\", original_array)\n",
    "print(\"Deep Copy Array:\", deep_copy_array)"
   ]
  },
  {
   "cell_type": "code",
   "execution_count": null,
   "metadata": {},
   "outputs": [
    {
     "name": "stdout",
     "output_type": "stream",
     "text": [
      "After modifying the deep copy and original array:\n",
      "\n",
      "Original Array: [100   2   3   4 200]\n",
      "Deep Copy Array: [100   2   3   4   5]\n"
     ]
    }
   ],
   "source": [
    "# Modify the deep copy and original array\n",
    "original_array[-1] = 200\n",
    "deep_copy_array[0] = 100\n",
    "\n",
    "print(\"After modifying the deep copy and original array:\\n\")\n",
    "print(\"Original Array:\", original_array)\n",
    "print(\"Deep Copy Array:\", deep_copy_array)"
   ]
  },
  {
   "cell_type": "markdown",
   "metadata": {},
   "source": [
    "---\n",
    "---"
   ]
  },
  {
   "cell_type": "markdown",
   "metadata": {},
   "source": [
    "## **NumPy Array Shape Manipulation**\n"
   ]
  },
  {
   "cell_type": "markdown",
   "metadata": {},
   "source": [
    "### **Table of Contents**\n",
    "- Introduction\n",
    "- Reshaping Arrays\n",
    "  - `np.reshape()`\n",
    "- Flattening Arrays\n",
    "  - `np.ravel()`\n",
    "- Removing Single-Dimension Entries\n",
    "  - `np.squeeze()`\n",
    "\n",
    "---"
   ]
  },
  {
   "cell_type": "markdown",
   "metadata": {},
   "source": [
    "### **Introduction**\n",
    "NumPy provides powerful functions to manipulate array shapes efficiently. You can reshape arrays, flatten them, and remove unnecessary dimensions easily."
   ]
  },
  {
   "cell_type": "code",
   "execution_count": null,
   "metadata": {},
   "outputs": [],
   "source": [
    "import numpy as np"
   ]
  },
  {
   "cell_type": "markdown",
   "metadata": {},
   "source": [
    "### **Reshaping Arrays**"
   ]
  },
  {
   "cell_type": "markdown",
   "metadata": {},
   "source": [
    "##### **`np.reshape()`:** Used to change the shape of an array without modifying its data.\n"
   ]
  },
  {
   "cell_type": "markdown",
   "metadata": {},
   "source": [
    "**Example:** Reshape a 1D array into 2D and 3D.\n"
   ]
  },
  {
   "cell_type": "code",
   "execution_count": null,
   "metadata": {},
   "outputs": [
    {
     "name": "stdout",
     "output_type": "stream",
     "text": [
      "Original array:\n",
      "[ 0  1  2  3  4  5  6  7  8  9 10 11 12 13 14 15 16 17 18 19 20 21 22 23]\n",
      "Shape: (24,)\n"
     ]
    }
   ],
   "source": [
    "original_array = np.arange(24)\n",
    "print(\"Original array:\")\n",
    "print(original_array)\n",
    "print(\"Shape:\", original_array.shape)"
   ]
  },
  {
   "cell_type": "code",
   "execution_count": null,
   "metadata": {},
   "outputs": [
    {
     "name": "stdout",
     "output_type": "stream",
     "text": [
      "Reshaped to (3,8):\n",
      " [[ 0  1  2  3  4  5  6  7]\n",
      " [ 8  9 10 11 12 13 14 15]\n",
      " [16 17 18 19 20 21 22 23]]\n",
      "Shape: (3, 8)\n"
     ]
    }
   ],
   "source": [
    "# Reshape to (3,8)\n",
    "reshaped_3_8 = original_array.reshape((3, 8))\n",
    "print(\"Reshaped to (3,8):\\n\", reshaped_3_8)\n",
    "print(\"Shape:\", reshaped_3_8.shape)"
   ]
  },
  {
   "cell_type": "code",
   "execution_count": null,
   "metadata": {},
   "outputs": [
    {
     "name": "stdout",
     "output_type": "stream",
     "text": [
      "Reshaped to (2,3,4):\n",
      " [[[ 0  1  2  3]\n",
      "  [ 4  5  6  7]\n",
      "  [ 8  9 10 11]]\n",
      "\n",
      " [[12 13 14 15]\n",
      "  [16 17 18 19]\n",
      "  [20 21 22 23]]]\n",
      "Shape: (2, 3, 4)\n"
     ]
    }
   ],
   "source": [
    "# Reshape to (2,3,4)\n",
    "reshaped_3d = original_array.reshape((2, 3, 4))\n",
    "print(\"Reshaped to (2,3,4):\\n\", reshaped_3d)\n",
    "print(\"Shape:\", reshaped_3d.shape)"
   ]
  },
  {
   "cell_type": "markdown",
   "metadata": {},
   "source": [
    "---"
   ]
  },
  {
   "cell_type": "markdown",
   "metadata": {},
   "source": [
    "### **Flattening Arrays**"
   ]
  },
  {
   "cell_type": "markdown",
   "metadata": {},
   "source": [
    "##### **`np.ravel()`:** Returns a 1D flattened array from any multi-dimensional array."
   ]
  },
  {
   "cell_type": "markdown",
   "metadata": {},
   "source": [
    "**Example:** Flatten a 3D array."
   ]
  },
  {
   "cell_type": "code",
   "execution_count": null,
   "metadata": {},
   "outputs": [
    {
     "name": "stdout",
     "output_type": "stream",
     "text": [
      "3D Array:\n",
      " [[[ 0  1  2  3]\n",
      "  [ 4  5  6  7]\n",
      "  [ 8  9 10 11]]\n",
      "\n",
      " [[12 13 14 15]\n",
      "  [16 17 18 19]\n",
      "  [20 21 22 23]]]\n"
     ]
    }
   ],
   "source": [
    "print(\"3D Array:\\n\", reshaped_3d)"
   ]
  },
  {
   "cell_type": "code",
   "execution_count": null,
   "metadata": {},
   "outputs": [
    {
     "name": "stdout",
     "output_type": "stream",
     "text": [
      "Flattened array:\n",
      " [ 0  1  2  3  4  5  6  7  8  9 10 11 12 13 14 15 16 17 18 19 20 21 22 23]\n",
      "Shape: (24,)\n"
     ]
    }
   ],
   "source": [
    "flattened_array = reshaped_3d.ravel()\n",
    "print(\"Flattened array:\\n\", flattened_array)\n",
    "print(\"Shape:\", flattened_array.shape)"
   ]
  },
  {
   "cell_type": "markdown",
   "metadata": {},
   "source": [
    "---"
   ]
  },
  {
   "cell_type": "markdown",
   "metadata": {},
   "source": [
    "### **Removing Single-Dimension Entries**"
   ]
  },
  {
   "cell_type": "markdown",
   "metadata": {},
   "source": [
    "##### **`np.squeeze()`**\n",
    "- Removes axes with size 1 from an array.\n",
    "- `np.squeeze(arr, axis=n)` removes a specific axis if its size is 1."
   ]
  },
  {
   "cell_type": "code",
   "execution_count": null,
   "metadata": {},
   "outputs": [
    {
     "name": "stdout",
     "output_type": "stream",
     "text": [
      "Original shape: (1, 24, 1)\n",
      "Shape after squeeze: (24,)\n"
     ]
    }
   ],
   "source": [
    "# Example 1: Remove all single-dimension axes\n",
    "a = np.arange(24).reshape(1, 24, 1)\n",
    "squeezed_a = np.squeeze(a)\n",
    "print(\"Original shape:\", a.shape)\n",
    "print(\"Shape after squeeze:\", squeezed_a.shape)"
   ]
  },
  {
   "cell_type": "code",
   "execution_count": null,
   "metadata": {},
   "outputs": [
    {
     "name": "stdout",
     "output_type": "stream",
     "text": [
      "Original shape: (1, 6, 4)\n",
      "Shape after squeezing axis 0: (6, 4)\n"
     ]
    }
   ],
   "source": [
    "# Example 2: Remove axis 0 only\n",
    "a = np.arange(24).reshape(1, 6, 4)\n",
    "squeezed_a = np.squeeze(a, axis=0)\n",
    "print(\"Original shape:\", a.shape)\n",
    "print(\"Shape after squeezing axis 0:\", squeezed_a.shape)"
   ]
  },
  {
   "cell_type": "code",
   "execution_count": null,
   "metadata": {},
   "outputs": [
    {
     "name": "stdout",
     "output_type": "stream",
     "text": [
      "Original shape: (1, 24, 1)\n",
      "Shape after squeezing axis 2: (1, 24)\n"
     ]
    }
   ],
   "source": [
    "# Example 3: Remove axis 2 only\n",
    "a = np.arange(24).reshape(1, 24, 1)\n",
    "squeezed_a = np.squeeze(a, axis=2)\n",
    "print(\"Original shape:\", a.shape)\n",
    "print(\"Shape after squeezing axis 2:\", squeezed_a.shape)"
   ]
  },
  {
   "cell_type": "code",
   "execution_count": null,
   "metadata": {},
   "outputs": [
    {
     "name": "stdout",
     "output_type": "stream",
     "text": [
      "Original shape: (2, 3, 4)\n",
      "Shape after squeeze (unchanged): (2, 3, 4)\n"
     ]
    }
   ],
   "source": [
    "# Example 4: Attempt to remove a non-singleton axis (no change)\n",
    "a = np.arange(24).reshape(2, 3, 4)\n",
    "squeezed_a = np.squeeze(a)\n",
    "print(\"Original shape:\", a.shape)\n",
    "print(\"Shape after squeeze (unchanged):\", squeezed_a.shape)"
   ]
  },
  {
   "cell_type": "markdown",
   "metadata": {},
   "source": [
    "---\n",
    "---"
   ]
  },
  {
   "cell_type": "markdown",
   "metadata": {},
   "source": [
    "## **Indexing and Slicing**\n"
   ]
  },
  {
   "cell_type": "markdown",
   "metadata": {},
   "source": [
    "### **Table of Contents**\n",
    "\n",
    "1. **Indexing**\n",
    "   - Indexing in 1D Arrays\n",
    "   - Indexing in 2D Arrays\n",
    "2. **Slicing**\n",
    "   - Slicing in 1D Arrays\n",
    "   - Slicing in 2D Arrays\n",
    "\n",
    "---"
   ]
  },
  {
   "cell_type": "code",
   "execution_count": null,
   "metadata": {},
   "outputs": [],
   "source": [
    "import numpy as np"
   ]
  },
  {
   "cell_type": "markdown",
   "metadata": {},
   "source": [
    "### **1. Indexing**\n"
   ]
  },
  {
   "cell_type": "markdown",
   "metadata": {},
   "source": [
    "#### **1.1 Indexing in 1D Arrays**\n"
   ]
  },
  {
   "cell_type": "markdown",
   "metadata": {},
   "source": [
    "Indexing allows you to access specific elements in an array. In 1D arrays, you use a single index to access an element."
   ]
  },
  {
   "cell_type": "code",
   "execution_count": null,
   "metadata": {},
   "outputs": [
    {
     "name": "stdout",
     "output_type": "stream",
     "text": [
      "1D Array: [ 1  2  3  4  5  6  7  8  9 10]\n"
     ]
    }
   ],
   "source": [
    "# Create a 1D array\n",
    "one_dim = np.arange(1, 11)\n",
    "print(\"1D Array:\", one_dim)"
   ]
  },
  {
   "cell_type": "code",
   "execution_count": null,
   "metadata": {},
   "outputs": [
    {
     "name": "stdout",
     "output_type": "stream",
     "text": [
      "Third element: 3\n"
     ]
    }
   ],
   "source": [
    "# Select the third element (index 2)\n",
    "print(\"Third element:\", one_dim[2])"
   ]
  },
  {
   "cell_type": "code",
   "execution_count": null,
   "metadata": {},
   "outputs": [
    {
     "name": "stdout",
     "output_type": "stream",
     "text": [
      "First element: 1\n"
     ]
    }
   ],
   "source": [
    "# Select the first element (index 0)\n",
    "print(\"First element:\", one_dim[0])"
   ]
  },
  {
   "cell_type": "code",
   "execution_count": null,
   "metadata": {},
   "outputs": [
    {
     "name": "stdout",
     "output_type": "stream",
     "text": [
      "Last element: 10\n"
     ]
    }
   ],
   "source": [
    "# Select the last element (index -1)\n",
    "print(\"Last element:\", one_dim[-1])"
   ]
  },
  {
   "cell_type": "markdown",
   "metadata": {},
   "source": [
    "#### **1.2 Indexing in 2D Arrays**\n"
   ]
  },
  {
   "cell_type": "markdown",
   "metadata": {},
   "source": [
    "- For multidimensional arrays of shape `n`, to index a specific element, you must input `n` indices, one for each dimension.\n",
    "\n",
    "- In 2D arrays, you need to provide two indices: one for the row and one for the column.\n",
    "\n"
   ]
  },
  {
   "cell_type": "code",
   "execution_count": null,
   "metadata": {},
   "outputs": [
    {
     "name": "stdout",
     "output_type": "stream",
     "text": [
      "2D Array:\n",
      " [[1 2 3]\n",
      " [4 5 6]\n",
      " [7 8 9]]\n"
     ]
    }
   ],
   "source": [
    "# Create a 2D array\n",
    "two_dim = np.arange(1, 10).reshape((3, 3))\n",
    "print(\"2D Array:\\n\", two_dim)"
   ]
  },
  {
   "cell_type": "code",
   "execution_count": null,
   "metadata": {},
   "outputs": [
    {
     "name": "stdout",
     "output_type": "stream",
     "text": [
      "Element at [2, 1]: 8\n"
     ]
    }
   ],
   "source": [
    "# Select element number 8 (row 2, column 1)\n",
    "print(\"Element at [2, 1]:\", two_dim[2, 1])"
   ]
  },
  {
   "cell_type": "code",
   "execution_count": null,
   "metadata": {},
   "outputs": [
    {
     "name": "stdout",
     "output_type": "stream",
     "text": [
      "Element at [0, 2]: 3\n"
     ]
    }
   ],
   "source": [
    "# Select element number 3 (row 0, column 2)\n",
    "print(\"Element at [0, 2]:\", two_dim[0, 2])"
   ]
  },
  {
   "cell_type": "markdown",
   "metadata": {},
   "source": [
    "---"
   ]
  },
  {
   "cell_type": "markdown",
   "metadata": {},
   "source": [
    "### **2. Slicing**\n"
   ]
  },
  {
   "cell_type": "markdown",
   "metadata": {},
   "source": [
    "#### **2.1 Slicing in 1D Arrays**\n"
   ]
  },
  {
   "cell_type": "markdown",
   "metadata": {},
   "source": [
    "Slicing allows you to extract a portion of an array. The syntax is:\n",
    "\n",
    "`array[start:end:step]`\n",
    "\n",
    "- start: The starting index (inclusive). Default is 0.\n",
    "- end: The ending index (exclusive). Default is the length of the array.\n",
    "- step: The step size. Default is 1."
   ]
  },
  {
   "cell_type": "code",
   "execution_count": null,
   "metadata": {},
   "outputs": [
    {
     "name": "stdout",
     "output_type": "stream",
     "text": [
      "1D Array:\n",
      " [ 1  2  3  4  5  6  7  8  9 10]\n"
     ]
    }
   ],
   "source": [
    "print(\"1D Array:\\n\", one_dim)"
   ]
  },
  {
   "cell_type": "code",
   "execution_count": null,
   "metadata": {},
   "outputs": [
    {
     "name": "stdout",
     "output_type": "stream",
     "text": [
      "[2 3 4]\n"
     ]
    }
   ],
   "source": [
    "# Slice the array to get [2, 3, 4]\n",
    "print(one_dim[1:4])"
   ]
  },
  {
   "cell_type": "code",
   "execution_count": null,
   "metadata": {},
   "outputs": [
    {
     "name": "stdout",
     "output_type": "stream",
     "text": [
      "[1 2 3]\n"
     ]
    }
   ],
   "source": [
    "# Slice the array to get [1, 2, 3]\n",
    "print(one_dim[:3])"
   ]
  },
  {
   "cell_type": "code",
   "execution_count": null,
   "metadata": {},
   "outputs": [
    {
     "name": "stdout",
     "output_type": "stream",
     "text": [
      "[ 3  4  5  6  7  8  9 10]\n"
     ]
    }
   ],
   "source": [
    "# Slice the array to get elements from index 2 to the end\n",
    "print(one_dim[2:])"
   ]
  },
  {
   "cell_type": "code",
   "execution_count": null,
   "metadata": {},
   "outputs": [
    {
     "name": "stdout",
     "output_type": "stream",
     "text": [
      "Slice with step 2: [1 3 5 7 9]\n"
     ]
    }
   ],
   "source": [
    "# Slice the array to get every second element\n",
    "print(\"Slice with step 2:\", one_dim[::2])"
   ]
  },
  {
   "cell_type": "markdown",
   "metadata": {},
   "source": [
    "#### **2.2 Slicing in 2D Arrays**\n"
   ]
  },
  {
   "cell_type": "markdown",
   "metadata": {},
   "source": [
    "In 2D arrays, slicing works similarly, but you need to specify slices for both rows and columns. The syntax is:\n",
    "\n",
    "`array[start_row:end_row:step, start_col:end_col:step]`"
   ]
  },
  {
   "cell_type": "code",
   "execution_count": null,
   "metadata": {},
   "outputs": [
    {
     "name": "stdout",
     "output_type": "stream",
     "text": [
      "2D Array:\n",
      " [[1 2 3]\n",
      " [4 5 6]\n",
      " [7 8 9]]\n"
     ]
    }
   ],
   "source": [
    "print(\"2D Array:\\n\", two_dim)"
   ]
  },
  {
   "cell_type": "code",
   "execution_count": null,
   "metadata": {},
   "outputs": [
    {
     "name": "stdout",
     "output_type": "stream",
     "text": [
      "First two rows:\n",
      " [[1 2 3]\n",
      " [4 5 6]]\n"
     ]
    }
   ],
   "source": [
    "# Slice the array to get the first two rows\n",
    "print(\"First two rows:\\n\", two_dim[:2])"
   ]
  },
  {
   "cell_type": "code",
   "execution_count": null,
   "metadata": {},
   "outputs": [
    {
     "name": "stdout",
     "output_type": "stream",
     "text": [
      "Last two rows:\n",
      " [[4 5 6]\n",
      " [7 8 9]]\n"
     ]
    }
   ],
   "source": [
    "# Slice the array to get the last two rows\n",
    "sliced_two_dim_rows = two_dim[1:3]\n",
    "print(\"Last two rows:\\n\", sliced_two_dim_rows)"
   ]
  },
  {
   "cell_type": "code",
   "execution_count": null,
   "metadata": {},
   "outputs": [
    {
     "name": "stdout",
     "output_type": "stream",
     "text": [
      "First column:\n",
      " [1 4 7]\n"
     ]
    }
   ],
   "source": [
    "# Slice the array to get the first column\n",
    "sliced_two_dim_cols = two_dim[:, 0]\n",
    "print(\"First column:\\n\", sliced_two_dim_cols)"
   ]
  },
  {
   "cell_type": "code",
   "execution_count": null,
   "metadata": {},
   "outputs": [
    {
     "name": "stdout",
     "output_type": "stream",
     "text": [
      "Every second row and column:\n",
      " [[1 3]\n",
      " [7 9]]\n"
     ]
    }
   ],
   "source": [
    "# Slice the array to get every second row and column\n",
    "print(\"Every second row and column:\\n\", two_dim[::2, ::2])"
   ]
  },
  {
   "cell_type": "markdown",
   "metadata": {},
   "source": [
    "---\n",
    "---"
   ]
  },
  {
   "cell_type": "markdown",
   "metadata": {},
   "source": [
    "## **Stacking in NumPy**\n"
   ]
  },
  {
   "cell_type": "code",
   "execution_count": null,
   "metadata": {},
   "outputs": [],
   "source": [
    "import numpy as np"
   ]
  },
  {
   "cell_type": "markdown",
   "metadata": {},
   "source": [
    "\n",
    "### **Table of Contents**\n",
    "1. **Introduction to Stacking**\n",
    "2. **Vertical Stacking (`np.vstack()`)**\n",
    "3. **Horizontal Stacking (`np.hstack()`)**\n",
    "\n",
    "---"
   ]
  },
  {
   "cell_type": "markdown",
   "metadata": {},
   "source": [
    "### **Introduction to Stacking**\n"
   ]
  },
  {
   "cell_type": "markdown",
   "metadata": {},
   "source": [
    "Stacking is a powerful feature in NumPy that allows you to combine two or more arrays either **vertically** or **horizontally**. This is done along a new axis, providing increased flexibility in array manipulation."
   ]
  },
  {
   "cell_type": "markdown",
   "metadata": {},
   "source": [
    "---"
   ]
  },
  {
   "cell_type": "markdown",
   "metadata": {},
   "source": [
    "### **Vertical Stacking (`np.vstack()`)**\n",
    "\n",
    "- Vertical stacking combines arrays row-wise. \n",
    "- The arrays must have the same number of columns."
   ]
  },
  {
   "cell_type": "code",
   "execution_count": null,
   "metadata": {},
   "outputs": [
    {
     "name": "stdout",
     "output_type": "stream",
     "text": [
      "Vertical Stack (1D arrays):\n",
      " [[1 2 3]\n",
      " [4 5 6]]\n"
     ]
    }
   ],
   "source": [
    "# Example 1: Stacking 1D arrays vertically\n",
    "vert_stack_1d = np.vstack((np.array([1, 2, 3]), np.array([4, 5, 6])))\n",
    "print(\"Vertical Stack (1D arrays):\\n\", vert_stack_1d)"
   ]
  },
  {
   "cell_type": "code",
   "execution_count": null,
   "metadata": {},
   "outputs": [
    {
     "name": "stdout",
     "output_type": "stream",
     "text": [
      "Array 1:\n",
      " [[1 1]\n",
      " [2 2]]\n",
      "\n",
      "Array 2:\n",
      " [[3 3]\n",
      " [4 4]]\n"
     ]
    }
   ],
   "source": [
    "# Example 2: Stacking 2D arrays vertically\n",
    "a1 = np.array([[1, 1], [2, 2]])\n",
    "a2 = np.array([[3, 3], [4, 4]])\n",
    "\n",
    "print(\"Array 1:\\n\", a1)\n",
    "print(\"\\nArray 2:\\n\", a2)"
   ]
  },
  {
   "cell_type": "code",
   "execution_count": null,
   "metadata": {},
   "outputs": [
    {
     "name": "stdout",
     "output_type": "stream",
     "text": [
      "Vertical Stack (2D arrays):\n",
      " [[1 1]\n",
      " [2 2]\n",
      " [3 3]\n",
      " [4 4]]\n"
     ]
    }
   ],
   "source": [
    "vert_stack_2d = np.vstack((a1, a2))\n",
    "print(\"Vertical Stack (2D arrays):\\n\", vert_stack_2d)"
   ]
  },
  {
   "cell_type": "markdown",
   "metadata": {},
   "source": [
    "---"
   ]
  },
  {
   "cell_type": "markdown",
   "metadata": {},
   "source": [
    "### **Horizontal Stacking (`np.hstack()`)**\n",
    "- Horizontal stacking combines arrays column-wise. \n",
    "- The arrays must have the same number of rows."
   ]
  },
  {
   "cell_type": "code",
   "execution_count": null,
   "metadata": {},
   "outputs": [
    {
     "name": "stdout",
     "output_type": "stream",
     "text": [
      "Horizontal Stack (1D arrays):\n",
      " [1 2 3 4 5 6]\n"
     ]
    }
   ],
   "source": [
    "# Example 1: Stacking 1D arrays horizontally\n",
    "horz_stack_1d = np.hstack((np.array([1, 2, 3]), np.array([4, 5, 6])))\n",
    "print(\"Horizontal Stack (1D arrays):\\n\", horz_stack_1d)"
   ]
  },
  {
   "cell_type": "code",
   "execution_count": null,
   "metadata": {},
   "outputs": [
    {
     "name": "stdout",
     "output_type": "stream",
     "text": [
      "Array 1:\n",
      " [[1 1]\n",
      " [2 2]]\n",
      "\n",
      "Array 2:\n",
      " [[3 3]\n",
      " [4 4]]\n"
     ]
    }
   ],
   "source": [
    "# Example 2: Stacking 2D arrays horizontally\n",
    "a1 = np.array([[1, 1], [2, 2]])\n",
    "a2 = np.array([[3, 3], [4, 4]])\n",
    "\n",
    "print(\"Array 1:\\n\", a1)\n",
    "print(\"\\nArray 2:\\n\", a2)"
   ]
  },
  {
   "cell_type": "code",
   "execution_count": null,
   "metadata": {},
   "outputs": [
    {
     "name": "stdout",
     "output_type": "stream",
     "text": [
      "Horizontal Stack (2D arrays):\n",
      " [[1 1 3 3]\n",
      " [2 2 4 4]]\n"
     ]
    }
   ],
   "source": [
    "horz_stack_2d = np.hstack((a1, a2))\n",
    "print(\"Horizontal Stack (2D arrays):\\n\", horz_stack_2d)"
   ]
  },
  {
   "cell_type": "markdown",
   "metadata": {},
   "source": [
    "---\n",
    "---"
   ]
  },
  {
   "cell_type": "markdown",
   "metadata": {},
   "source": [
    "## **Splitting NumPy Arrays**"
   ]
  },
  {
   "cell_type": "markdown",
   "metadata": {},
   "source": [
    "**Reference:** https://numpy.org/doc/stable/reference/generated/numpy.split.html"
   ]
  },
  {
   "cell_type": "code",
   "execution_count": null,
   "metadata": {},
   "outputs": [],
   "source": [
    "import numpy as np"
   ]
  },
  {
   "cell_type": "markdown",
   "metadata": {},
   "source": [
    "### **Table of Contents**\n",
    "1. **Introduction to Splitting**\n",
    "2. **Functions for Splitting**\n",
    "   - `np.split()`\n",
    "   - `np.hsplit()`\n",
    "   - `np.vsplit()`\n",
    "\n",
    "---"
   ]
  },
  {
   "cell_type": "markdown",
   "metadata": {},
   "source": [
    "### **1. Introduction to Splitting**\n",
    "\n",
    "Splitting is the process of dividing a NumPy array into multiple subarrays. This is useful for tasks like data preprocessing, cross-validation, or dividing data into training and testing sets.\n",
    "\n",
    "NumPy provides several functions for splitting arrays:\n",
    "- `np.split()`: Splits an array into multiple subarrays along a specified axis.\n",
    "- `np.hsplit()`: Splits an array horizontally (column-wise).\n",
    "- `np.vsplit()`: Splits an array vertically (row-wise).\n",
    "\n",
    "---"
   ]
  },
  {
   "cell_type": "markdown",
   "metadata": {},
   "source": [
    "### **2. Functions for Splitting**\n"
   ]
  },
  {
   "cell_type": "markdown",
   "metadata": {},
   "source": [
    "#### **2.1 `np.split()`**\n",
    "\n",
    "The `np.split()` function splits an array into multiple subarrays along a specified axis. You can specify the indices where the splits should occur."
   ]
  },
  {
   "cell_type": "code",
   "execution_count": null,
   "metadata": {},
   "outputs": [
    {
     "name": "stdout",
     "output_type": "stream",
     "text": [
      "1D Array: [0 1 2 3 4 5 6 7 8 9]\n"
     ]
    }
   ],
   "source": [
    "# Create a 1D array\n",
    "array_1d = np.arange(10)\n",
    "print(\"1D Array:\", array_1d)"
   ]
  },
  {
   "cell_type": "code",
   "execution_count": null,
   "metadata": {},
   "outputs": [
    {
     "name": "stdout",
     "output_type": "stream",
     "text": [
      "Split Arrays:\n",
      "Part 1: [0 1]\n",
      "Part 2: [2]\n",
      "Part 3: [3 4 5 6]\n",
      "Part 4: [7 8 9]\n"
     ]
    }
   ],
   "source": [
    "# Split the array at indices [2, 3, 7]\n",
    "split_arrays = np.split(array_1d, indices_or_sections=[2, 3, 7])\n",
    "\n",
    "print(\"Split Arrays:\")\n",
    "for i, arr in enumerate(split_arrays):\n",
    "    print(f\"Part {i+1}:\", arr)"
   ]
  },
  {
   "cell_type": "code",
   "execution_count": null,
   "metadata": {},
   "outputs": [
    {
     "name": "stdout",
     "output_type": "stream",
     "text": [
      "Unpacked Split Arrays:\n",
      "Part 1: [0 1]\n",
      "Part 2: [2]\n",
      "Part 3: [3 4 5 6]\n",
      "Part 4: [7 8 9]\n"
     ]
    }
   ],
   "source": [
    "# N split points lead to N + 1 subarrays\n",
    "s1, s2, s3, s4 = np.split(array_1d, [2, 3, 7])\n",
    "print(\"Unpacked Split Arrays:\")\n",
    "print(\"Part 1:\", s1)\n",
    "print(\"Part 2:\", s2)\n",
    "print(\"Part 3:\", s3)\n",
    "print(\"Part 4:\", s4)"
   ]
  },
  {
   "cell_type": "markdown",
   "metadata": {},
   "source": [
    "---"
   ]
  },
  {
   "cell_type": "markdown",
   "metadata": {},
   "source": [
    "#### **2.2 `np.hsplit()`**\n",
    "The `np.hsplit()` function splits an array horizontally (column-wise). You can specify the number of sections or the column indices where the splits should occur."
   ]
  },
  {
   "cell_type": "code",
   "execution_count": null,
   "metadata": {},
   "outputs": [
    {
     "name": "stdout",
     "output_type": "stream",
     "text": [
      "2D Array:\n",
      " [[ 0  1  2  3]\n",
      " [ 4  5  6  7]\n",
      " [ 8  9 10 11]\n",
      " [12 13 14 15]]\n"
     ]
    }
   ],
   "source": [
    "# Create a 2D array\n",
    "array_2d = np.arange(16).reshape((4, 4))\n",
    "print(\"2D Array:\\n\", array_2d)"
   ]
  },
  {
   "cell_type": "code",
   "execution_count": null,
   "metadata": {},
   "outputs": [
    {
     "name": "stdout",
     "output_type": "stream",
     "text": [
      "Horizontally Split Arrays (2 equal parts):\n",
      "Part 1:\n",
      " [[ 0  1]\n",
      " [ 4  5]\n",
      " [ 8  9]\n",
      " [12 13]]\n",
      "Part 2:\n",
      " [[ 2  3]\n",
      " [ 6  7]\n",
      " [10 11]\n",
      " [14 15]]\n"
     ]
    }
   ],
   "source": [
    "# Split the array horizontally into 2 equal parts\n",
    "hsplit_arrays = np.hsplit(array_2d, indices_or_sections=2)\n",
    "print(\"Horizontally Split Arrays (2 equal parts):\")\n",
    "for i, arr in enumerate(hsplit_arrays):\n",
    "    print(f\"Part {i+1}:\\n\", arr)"
   ]
  },
  {
   "cell_type": "code",
   "execution_count": null,
   "metadata": {},
   "outputs": [
    {
     "name": "stdout",
     "output_type": "stream",
     "text": [
      "Horizontally Split Arrays (at columns 1 and 3):\n",
      "Part 1:\n",
      " [[ 0]\n",
      " [ 4]\n",
      " [ 8]\n",
      " [12]]\n",
      "Part 2:\n",
      " [[ 1  2]\n",
      " [ 5  6]\n",
      " [ 9 10]\n",
      " [13 14]]\n",
      "Part 3:\n",
      " [[ 3]\n",
      " [ 7]\n",
      " [11]\n",
      " [15]]\n"
     ]
    }
   ],
   "source": [
    "# Split the array at columns 1 and 3\n",
    "hsplit_arrays = np.hsplit(array_2d, indices_or_sections=[1, 3])\n",
    "print(\"Horizontally Split Arrays (at columns 1 and 3):\")\n",
    "for i, arr in enumerate(hsplit_arrays):\n",
    "    print(f\"Part {i+1}:\\n\", arr)"
   ]
  },
  {
   "cell_type": "markdown",
   "metadata": {},
   "source": [
    "---"
   ]
  },
  {
   "cell_type": "markdown",
   "metadata": {},
   "source": [
    "#### **2.3 `np.vsplit()`**\n",
    "The `np.vsplit()` function splits an array vertically (row-wise). You can specify the number of sections or the row indices where the splits should occur."
   ]
  },
  {
   "cell_type": "code",
   "execution_count": null,
   "metadata": {},
   "outputs": [
    {
     "name": "stdout",
     "output_type": "stream",
     "text": [
      "2D Array:\n",
      " [[ 0  1  2  3]\n",
      " [ 4  5  6  7]\n",
      " [ 8  9 10 11]\n",
      " [12 13 14 15]]\n"
     ]
    }
   ],
   "source": [
    "# Create a 2D array\n",
    "array_2d = np.arange(16).reshape((4, 4))\n",
    "print(\"2D Array:\\n\", array_2d)"
   ]
  },
  {
   "cell_type": "code",
   "execution_count": null,
   "metadata": {},
   "outputs": [
    {
     "name": "stdout",
     "output_type": "stream",
     "text": [
      "Vertically Split Arrays (2 equal parts):\n",
      "Part 1:\n",
      " [[0 1 2 3]\n",
      " [4 5 6 7]]\n",
      "Part 2:\n",
      " [[ 8  9 10 11]\n",
      " [12 13 14 15]]\n"
     ]
    }
   ],
   "source": [
    "# Split the array vertically into 2 equal parts\n",
    "vsplit_arrays = np.vsplit(array_2d, indices_or_sections=2)\n",
    "print(\"Vertically Split Arrays (2 equal parts):\")\n",
    "for i, arr in enumerate(vsplit_arrays):\n",
    "    print(f\"Part {i+1}:\\n\", arr)"
   ]
  },
  {
   "cell_type": "code",
   "execution_count": null,
   "metadata": {},
   "outputs": [
    {
     "name": "stdout",
     "output_type": "stream",
     "text": [
      "Vertically Split Arrays (at rows 1 and 3):\n",
      "Part 1:\n",
      " [[0 1 2 3]]\n",
      "Part 2:\n",
      " [[ 4  5  6  7]\n",
      " [ 8  9 10 11]]\n",
      "Part 3:\n",
      " [[12 13 14 15]]\n"
     ]
    }
   ],
   "source": [
    "# Split the array at rows 1 and 3\n",
    "vsplit_arrays = np.vsplit(array_2d, indices_or_sections=[1, 3])\n",
    "print(\"Vertically Split Arrays (at rows 1 and 3):\")\n",
    "for i, arr in enumerate(vsplit_arrays):\n",
    "    print(f\"Part {i+1}:\\n\", arr)"
   ]
  },
  {
   "cell_type": "markdown",
   "metadata": {},
   "source": [
    "---\n",
    "---"
   ]
  },
  {
   "cell_type": "markdown",
   "metadata": {},
   "source": [
    "## **Broadcasting in NumPy**"
   ]
  },
  {
   "cell_type": "code",
   "execution_count": null,
   "metadata": {},
   "outputs": [],
   "source": [
    "import numpy as np"
   ]
  },
  {
   "cell_type": "markdown",
   "metadata": {},
   "source": [
    "### **Table of Contents**\n",
    "1. **Introduction to Broadcasting**\n",
    "2. **Rules of Broadcasting**\n",
    "3. **Practical Examples**\n",
    "   - Example 1: Broadcasting a Scalar to an Array\n",
    "   - Example 2: Broadcasting a 1D Array to a 2D Array\n",
    "   - Example 3: Broadcasting a 1D Array to a 2D Array (Different Shapes)\n",
    "   - Example 4: Broadcasting with Mismatched Shapes\n",
    "   - Example 5: Broadcasting Arrays with Different Dimensions\n",
    "   - Example 6: Broadcasting Shapes `(3, 2)` and `(3,)`\n",
    "\n",
    "---"
   ]
  },
  {
   "cell_type": "markdown",
   "metadata": {},
   "source": [
    "### **1. Introduction to Broadcasting**\n",
    "\n",
    "Broadcasting is a powerful feature in NumPy that allows arithmetic operations between arrays of different shapes. Instead of explicitly reshaping arrays to make them compatible, NumPy automatically broadcasts the smaller array across the larger one, making operations efficient and concise.\n",
    "\n",
    "---"
   ]
  },
  {
   "cell_type": "markdown",
   "metadata": {},
   "source": [
    "### **2. Rules of Broadcasting**\n",
    "\n",
    "For two arrays to be broadcastable, the following rules must be satisfied:\n",
    "1. **Rule 1**: If the arrays have different numbers of dimensions, the shape of the smaller array is padded with ones on its **left side**.\n",
    "2. **Rule 2**: If the shapes of the arrays do not match in any dimension, the array with shape equal to 1 in that dimension is stretched to match the other shape.\n",
    "3. **Rule 3**: If in any dimension the sizes disagree and neither is equal to 1, an error is raised.\n",
    "\n",
    "---"
   ]
  },
  {
   "cell_type": "markdown",
   "metadata": {},
   "source": [
    "### **3. Practical Examples**\n"
   ]
  },
  {
   "cell_type": "markdown",
   "metadata": {},
   "source": [
    "#### **Example 1: Broadcasting a Scalar to an Array**"
   ]
  },
  {
   "cell_type": "code",
   "execution_count": null,
   "metadata": {},
   "outputs": [
    {
     "name": "stdout",
     "output_type": "stream",
     "text": [
      "1D Array: [1 2 3 4]\n",
      "1D Array Shape: (4,)\n"
     ]
    }
   ],
   "source": [
    "# Create a 1D array\n",
    "array_1d = np.array([1, 2, 3, 4])\n",
    "print(\"1D Array:\", array_1d)\n",
    "print(\"1D Array Shape:\", array_1d.shape)"
   ]
  },
  {
   "cell_type": "code",
   "execution_count": null,
   "metadata": {},
   "outputs": [
    {
     "name": "stdout",
     "output_type": "stream",
     "text": [
      "After Broadcasting (Scalar Addition): [11 12 13 14]\n"
     ]
    }
   ],
   "source": [
    "# Add a scalar to the array (broadcasting)\n",
    "result = array_1d + 10\n",
    "print(\"After Broadcasting (Scalar Addition):\", result)"
   ]
  },
  {
   "cell_type": "markdown",
   "metadata": {},
   "source": [
    "##### **Explanation of Broadcasting Rules**\n",
    "\n",
    "- **Shape of `array_1d`**: `(4,)`\n",
    "- **Shape of scalar `10`**: `()` (scalar has no dimensions)\n",
    "- **Rule 1**: The scalar is treated as a 1D array with shape `(1,)`.\n",
    "- **Rule 2**: The scalar is stretched to match the shape of `array_1d`, becoming `[10, 10, 10, 10]`.\n",
    "  - **Shape of `array_1d`**: `(4,)`\n",
    "  - **Shape of scalar after stretching**: `(4,)`\n",
    "- **Result**: The operation is applied.\n",
    "\n",
    "---"
   ]
  },
  {
   "cell_type": "markdown",
   "metadata": {},
   "source": [
    "#### **Example 2: Broadcasting a 1D Array to a 2D Array**"
   ]
  },
  {
   "cell_type": "code",
   "execution_count": null,
   "metadata": {},
   "outputs": [
    {
     "name": "stdout",
     "output_type": "stream",
     "text": [
      "2D Array:\n",
      " [[1. 1. 1.]\n",
      " [1. 1. 1.]]\n",
      "2D Array Shape: (2, 3)\n"
     ]
    }
   ],
   "source": [
    "# Create a 2D array\n",
    "array_2d = np.ones((2, 3))\n",
    "print(\"2D Array:\\n\", array_2d)\n",
    "print(\"2D Array Shape:\", array_2d.shape)"
   ]
  },
  {
   "cell_type": "code",
   "execution_count": null,
   "metadata": {},
   "outputs": [
    {
     "name": "stdout",
     "output_type": "stream",
     "text": [
      "1D Array: [0 1 2]\n",
      "1D Array Shape: (3,)\n"
     ]
    }
   ],
   "source": [
    "# Create a 1D array\n",
    "array_1d = np.arange(3)\n",
    "print(\"1D Array:\", array_1d)\n",
    "print(\"1D Array Shape:\", array_1d.shape)"
   ]
  },
  {
   "cell_type": "code",
   "execution_count": null,
   "metadata": {},
   "outputs": [
    {
     "name": "stdout",
     "output_type": "stream",
     "text": [
      "After Broadcasting (2D + 1D):\n",
      " [[1. 2. 3.]\n",
      " [1. 2. 3.]]\n"
     ]
    }
   ],
   "source": [
    "# Add the 1D array to the 2D array (broadcasting)\n",
    "result = array_2d + array_1d\n",
    "print(\"After Broadcasting (2D + 1D):\\n\", result)"
   ]
  },
  {
   "cell_type": "markdown",
   "metadata": {},
   "source": [
    "##### **Explanation of Broadcasting Rules**\n",
    "- **Shape of `array_2d`**: `(2, 3)`\n",
    "- **Shape of `array_1d`**: `(3,)`\n",
    "- **Rule 1**: The 1D array is treated as a 2D array with shape `(1, 3)`.\n",
    "- **Rule 2**: The 1D array is stretched along the first dimension to match `array_2d`, becoming:\n",
    "  ```\n",
    "  [[0, 1, 2],\n",
    "   [0, 1, 2]]\n",
    "  ```\n",
    "  - **Shape of `array_2d`**: `(2, 3)`\n",
    "  - **Shape of `array_1d` after stretching**: `(2, 3)`\n",
    "- **Result**: The operation is applied.\n",
    "\n",
    "---"
   ]
  },
  {
   "cell_type": "markdown",
   "metadata": {},
   "source": [
    "#### **Example 3: Broadcasting a 1D Array to a 2D Array**"
   ]
  },
  {
   "cell_type": "code",
   "execution_count": null,
   "metadata": {},
   "outputs": [
    {
     "name": "stdout",
     "output_type": "stream",
     "text": [
      "2D Array:\n",
      " [[0]\n",
      " [1]\n",
      " [2]]\n",
      "2D Array Shape: (3, 1)\n"
     ]
    }
   ],
   "source": [
    "# Create a 2D array\n",
    "array_2d = np.arange(3).reshape((3, 1))\n",
    "print(\"2D Array:\\n\", array_2d)\n",
    "print(\"2D Array Shape:\", array_2d.shape)"
   ]
  },
  {
   "cell_type": "code",
   "execution_count": null,
   "metadata": {},
   "outputs": [
    {
     "name": "stdout",
     "output_type": "stream",
     "text": [
      "1D Array: [0 1 2]\n",
      "1D Array Shape: (3,)\n"
     ]
    }
   ],
   "source": [
    "# Create a 1D array\n",
    "array_1d = np.arange(3)\n",
    "print(\"1D Array:\", array_1d)\n",
    "print(\"1D Array Shape:\", array_1d.shape)"
   ]
  },
  {
   "cell_type": "code",
   "execution_count": null,
   "metadata": {},
   "outputs": [
    {
     "name": "stdout",
     "output_type": "stream",
     "text": [
      "After Broadcasting (2D + 1D):\n",
      " [[0 1 2]\n",
      " [1 2 3]\n",
      " [2 3 4]]\n"
     ]
    }
   ],
   "source": [
    "# Add the 1D array to the 2D array (broadcasting)\n",
    "result = array_1d + array_2d\n",
    "print(\"After Broadcasting (2D + 1D):\\n\", result)"
   ]
  },
  {
   "cell_type": "markdown",
   "metadata": {},
   "source": [
    "##### **Explanation of Broadcasting Rules**\n",
    "- **Shape of `array_2d`**: `(3, 1)`\n",
    "- **Shape of `array_1d`**: `(3,)`\n",
    "- **Rule 1**: The 1D array is treated as a 2D array with shape `(1, 3)`.\n",
    "- **Rule 2**: Both arrays are stretched to shape `(3, 3)`:\n",
    "  - `array_2d` becomes:\n",
    "    ```\n",
    "    [[0, 0, 0],\n",
    "     [1, 1, 1],\n",
    "     [2, 2, 2]]\n",
    "    ```\n",
    "  - `array_1d` becomes:\n",
    "    ```\n",
    "    [[0, 1, 2],\n",
    "     [0, 1, 2],\n",
    "     [0, 1, 2]]\n",
    "    ```\n",
    "  - **Shape of `array_2d` after stretching**: `(3, 3)`\n",
    "  - **Shape of `array_1d` after stretching**: `(3, 3)`\n",
    "- **Result**: The operation is applied.\n",
    "\n",
    "---\n"
   ]
  },
  {
   "cell_type": "markdown",
   "metadata": {},
   "source": [
    "#### **Example 4: Broadcasting with Mismatched Shapes**"
   ]
  },
  {
   "cell_type": "code",
   "execution_count": null,
   "metadata": {},
   "outputs": [
    {
     "name": "stdout",
     "output_type": "stream",
     "text": [
      "2D Array:\n",
      " [[0 1 2]\n",
      " [3 4 5]]\n",
      "2D Array Shape: (2, 3)\n"
     ]
    }
   ],
   "source": [
    "# Create a 2D array\n",
    "array_2d = np.arange(6).reshape((2, 3))\n",
    "print(\"2D Array:\\n\", array_2d)\n",
    "print(\"2D Array Shape:\", array_2d.shape)"
   ]
  },
  {
   "cell_type": "code",
   "execution_count": null,
   "metadata": {},
   "outputs": [
    {
     "name": "stdout",
     "output_type": "stream",
     "text": [
      "2D Array:\n",
      " [[0]\n",
      " [1]]\n",
      "2D Array Shape: (2, 1)\n"
     ]
    }
   ],
   "source": [
    "# Create a 2D array\n",
    "array_2d_2 = np.arange(2).reshape((2, 1))\n",
    "print(\"2D Array:\\n\", array_2d_2)\n",
    "print(\"2D Array Shape:\", array_2d_2.shape)"
   ]
  },
  {
   "cell_type": "code",
   "execution_count": null,
   "metadata": {},
   "outputs": [
    {
     "name": "stdout",
     "output_type": "stream",
     "text": [
      "After Broadcasting (2D + 2D):\n",
      " [[0 1 2]\n",
      " [4 5 6]]\n"
     ]
    }
   ],
   "source": [
    "# Add the two arrays (broadcasting)\n",
    "result = array_2d + array_2d_2\n",
    "print(\"After Broadcasting (2D + 2D):\\n\", result)"
   ]
  },
  {
   "cell_type": "markdown",
   "metadata": {},
   "source": [
    "##### **Explanation of Broadcasting Rules**\n",
    "- **Shape of `array_2d`**: `(2, 3)`\n",
    "- **Shape of `array_2d_2`**: `(2, 1)`\n",
    "- **Rule 1**: Both arrays already have the same number of dimensions.\n",
    "- **Rule 2**: The second array is stretched along the second dimension to match `array_2d`, becoming:\n",
    "  ```\n",
    "  [[0, 0, 0],\n",
    "   [1, 1, 1]]\n",
    "  ```\n",
    "  - **Shape of `array_2d`**: `(2, 3)`\n",
    "  - **Shape of `array_2d_2` after stretching**: `(2, 3)`\n",
    "- **Result**: The operation is applied.\n",
    "\n",
    "---\n"
   ]
  },
  {
   "cell_type": "markdown",
   "metadata": {},
   "source": [
    "#### **Example 5: Broadcasting Arrays with Different Dimensions**"
   ]
  },
  {
   "cell_type": "code",
   "execution_count": null,
   "metadata": {},
   "outputs": [
    {
     "name": "stdout",
     "output_type": "stream",
     "text": [
      "3D Array:\n",
      " [[[ 0  1]\n",
      "  [ 2  3]\n",
      "  [ 4  5]]\n",
      "\n",
      " [[ 6  7]\n",
      "  [ 8  9]\n",
      "  [10 11]]]\n"
     ]
    }
   ],
   "source": [
    "# Create a 3D array\n",
    "array_3d = np.arange(12).reshape((2, 3, 2))\n",
    "print(\"3D Array:\\n\", array_3d)"
   ]
  },
  {
   "cell_type": "code",
   "execution_count": null,
   "metadata": {},
   "outputs": [
    {
     "name": "stdout",
     "output_type": "stream",
     "text": [
      "1D Array: [0 1]\n"
     ]
    }
   ],
   "source": [
    "# Create a 1D array\n",
    "array_1d = np.arange(2)\n",
    "print(\"1D Array:\", array_1d)"
   ]
  },
  {
   "cell_type": "code",
   "execution_count": null,
   "metadata": {},
   "outputs": [
    {
     "name": "stdout",
     "output_type": "stream",
     "text": [
      "After Broadcasting (3D + 1D):\n",
      " [[[ 0  2]\n",
      "  [ 2  4]\n",
      "  [ 4  6]]\n",
      "\n",
      " [[ 6  8]\n",
      "  [ 8 10]\n",
      "  [10 12]]]\n"
     ]
    }
   ],
   "source": [
    "# Add the 1D array to the 3D array (broadcasting)\n",
    "result = array_3d + array_1d\n",
    "print(\"After Broadcasting (3D + 1D):\\n\", result)"
   ]
  },
  {
   "cell_type": "markdown",
   "metadata": {},
   "source": [
    "#### **Explanation of Broadcasting Rules**\n",
    "- **Shape of `array_3d`**: `(2, 3, 2)`\n",
    "- **Shape of `array_1d`**: `(2,)`\n",
    "- **Rule 1**: The 1D array is treated as a 3D array with shape `(1, 1, 2)`.\n",
    "- **Rule 2**: The 1D array is stretched along the first and second dimensions to match `array_3d`, becoming:\n",
    "  ```\n",
    "  [[[0, 1],\n",
    "    [0, 1],\n",
    "    [0, 1]],\n",
    "\n",
    "   [[0, 1],\n",
    "    [0, 1],\n",
    "    [0, 1]]]\n",
    "  ```\n",
    "  - **Shape of `array_3d`**: `(2, 3, 2)`\n",
    "  - **Shape of `array_1d` after stretching**: `(2, 3, 2)`\n",
    "- **Result**: The operation is applied.\n",
    "\n",
    "---\n"
   ]
  },
  {
   "cell_type": "markdown",
   "metadata": {},
   "source": [
    "#### **Example 6: Broadcasting Shapes `(3, 2)` and `(3,)`**\n"
   ]
  },
  {
   "cell_type": "code",
   "execution_count": null,
   "metadata": {},
   "outputs": [
    {
     "name": "stdout",
     "output_type": "stream",
     "text": [
      "2D Array (Shape (3, 2)):\n",
      " [[1 2]\n",
      " [3 4]\n",
      " [5 6]]\n"
     ]
    }
   ],
   "source": [
    "# Create a 2D array with shape (3, 2)\n",
    "array_2d = np.arange(1, 7).reshape(3, 2)\n",
    "print(\"2D Array (Shape (3, 2)):\\n\", array_2d)"
   ]
  },
  {
   "cell_type": "code",
   "execution_count": null,
   "metadata": {},
   "outputs": [
    {
     "name": "stdout",
     "output_type": "stream",
     "text": [
      "1D Array (Shape (3,)): [0 1 2]\n"
     ]
    }
   ],
   "source": [
    "# Create a 1D array with shape (3,)\n",
    "array_1d = np.arange(3)\n",
    "print(\"1D Array (Shape (3,)):\", array_1d)"
   ]
  },
  {
   "cell_type": "code",
   "execution_count": null,
   "metadata": {},
   "outputs": [
    {
     "ename": "ValueError",
     "evalue": "operands could not be broadcast together with shapes (3,2) (3,) ",
     "output_type": "error",
     "traceback": [
      "\u001b[1;31m---------------------------------------------------------------------------\u001b[0m\n",
      "\u001b[1;31mValueError\u001b[0m                                Traceback (most recent call last)\n",
      "Cell \u001b[1;32mIn[127], line 1\u001b[0m\n",
      "\u001b[1;32m----> 1\u001b[0m result \u001b[38;5;241m=\u001b[39m \u001b[43marray_2d\u001b[49m\u001b[43m \u001b[49m\u001b[38;5;241;43m+\u001b[39;49m\u001b[43m \u001b[49m\u001b[43marray_1d\u001b[49m\n",
      "\u001b[0;32m      2\u001b[0m \u001b[38;5;28mprint\u001b[39m(\u001b[38;5;124m\"\u001b[39m\u001b[38;5;124mAfter Broadcasting (1D + 2D):\u001b[39m\u001b[38;5;130;01m\\n\u001b[39;00m\u001b[38;5;124m\"\u001b[39m, result)\n",
      "\n",
      "\u001b[1;31mValueError\u001b[0m: operands could not be broadcast together with shapes (3,2) (3,) "
     ]
    }
   ],
   "source": [
    "result = array_2d + array_1d\n",
    "print(\"After Broadcasting (1D + 2D):\\n\", result)"
   ]
  },
  {
   "cell_type": "markdown",
   "metadata": {},
   "source": [
    "##### **Explanation of Broadcasting Rules**\n",
    "- **Shape of `array_2d`**: `(3, 2)`\n",
    "- **Shape of `array_1d`**: `(3,)`\n",
    "- **Rule 1**: The 1D array is treated as a 2D array with shape `(1, 3)`.\n",
    "- **Rule 2**: The 1D array is stretched along the first dimension to match `array_2d`, becoming:\n",
    "  ```\n",
    "  [[0, 1, 2],\n",
    "   [0, 1, 2],\n",
    "   [0, 1, 2]]\n",
    "  ```\n",
    "  - **Shape of `array_2d`**: `(3, 2)`\n",
    "  - **Shape of `array_1d` after stretching**: `(3, 3)`\n",
    "- **Rule 3**: Sizes in the second dimension disagree (2 vs. 3), and neither is 1 → **Broadcasting fails**.\n",
    "- **Result** ValueError: operands could not be broadcast together with shapes `(3,2) (3,)` \n",
    "---\n"
   ]
  },
  {
   "attachments": {
    "image.png": {
     "image/png": "[encoded data removed]"
    }
   },
   "cell_type": "markdown",
   "metadata": {},
   "source": [
    "![image.png](attachment:image.png)"
   ]
  },
  {
   "cell_type": "markdown",
   "metadata": {},
   "source": [
    "---\n",
    "---"
   ]
  },
  {
   "cell_type": "markdown",
   "metadata": {},
   "source": [
    "## **NumPy Sorting**\n",
    "**(`np.sort`, In-Place Sorting `array.sort()`, Inverse Sorting, and `np.argsort`)**"
   ]
  },
  {
   "cell_type": "code",
   "execution_count": null,
   "metadata": {},
   "outputs": [],
   "source": [
    "import numpy as np"
   ]
  },
  {
   "cell_type": "markdown",
   "metadata": {},
   "source": [
    "---\n"
   ]
  },
  {
   "cell_type": "markdown",
   "metadata": {},
   "source": [
    "### **Table of Contents**\n",
    "1. **Functions for Sorting**\n",
    "   - **2.1 `np.sort()`**\n",
    "     - Examples for `np.sort()`\n",
    "   - **2.2 In-Place Sorting `array.sort()`**\n",
    "     - Examples for In-Place Sorting\n",
    "   - **2.3 Inverse Sorting (Descending Order)**\n",
    "     - Examples for Inverse Sorting\n",
    "   - **2.4 `np.argsort()`**\n",
    "     - Examples for `np.argsort()`\n",
    "2. **Advanced Examples**\n",
    "   - Sorting Structured Arrays\n",
    "\n",
    "---"
   ]
  },
  {
   "cell_type": "markdown",
   "metadata": {},
   "source": [
    "### **2. Functions for Sorting**"
   ]
  },
  {
   "cell_type": "markdown",
   "metadata": {},
   "source": [
    "#### **2.1 `np.sort()`**"
   ]
  },
  {
   "cell_type": "markdown",
   "metadata": {},
   "source": [
    "The [`np.sort()`](https://numpy.org/doc/stable/reference/generated/numpy.sort.html) function returns a sorted copy of the input array. By default, it sorts along the last axis.\n",
    "\n",
    "**Syntax:**\n",
    "```python\n",
    "np.sort(array, axis=-1, kind=None, order=None)\n",
    "```\n",
    "\n",
    "- **`array`**: Input array to be sorted.\n",
    "- **`axis`**: Axis along which to sort. Default is `-1` (last axis).\n",
    "- **`kind`**: Sorting algorithm (e.g., `'quicksort'`, `'mergesort'`, `'heapsort'`). Default is `'quicksort'`.\n",
    "- **`order`**: For structured arrays, specifies the field to sort by.\n"
   ]
  },
  {
   "cell_type": "code",
   "execution_count": null,
   "metadata": {},
   "outputs": [],
   "source": [
    "# help(np.sort)"
   ]
  },
  {
   "cell_type": "markdown",
   "metadata": {},
   "source": [
    "---"
   ]
  },
  {
   "cell_type": "markdown",
   "metadata": {},
   "source": [
    "\n",
    "##### **Example 1: Sorting a 1D Array**\n"
   ]
  },
  {
   "cell_type": "code",
   "execution_count": null,
   "metadata": {},
   "outputs": [
    {
     "name": "stdout",
     "output_type": "stream",
     "text": [
      "Original 1D Array: [3 1 4 1 5 9 2 6 5]\n"
     ]
    }
   ],
   "source": [
    "# Create a 1D array\n",
    "array_1d = np.array([3, 1, 4, 1, 5, 9, 2, 6, 5])\n",
    "print(\"Original 1D Array:\", array_1d)"
   ]
  },
  {
   "cell_type": "code",
   "execution_count": null,
   "metadata": {},
   "outputs": [
    {
     "name": "stdout",
     "output_type": "stream",
     "text": [
      "Sorted 1D Array: [1 1 2 3 4 5 5 6 9]\n",
      "Original 1D Array After Sorting: [3 1 4 1 5 9 2 6 5]\n"
     ]
    }
   ],
   "source": [
    "# Sort the array\n",
    "sorted_array = np.sort(array_1d)\n",
    "print(\"Sorted 1D Array:\", sorted_array)\n",
    "print(\"Original 1D Array After Sorting:\", array_1d)"
   ]
  },
  {
   "cell_type": "markdown",
   "metadata": {},
   "source": [
    "\n",
    "##### **Example 2: Sorting a 2D Array Along Rows**\n"
   ]
  },
  {
   "cell_type": "code",
   "execution_count": null,
   "metadata": {},
   "outputs": [
    {
     "name": "stdout",
     "output_type": "stream",
     "text": [
      "Original 2D Array:\n",
      " [[3 1 4]\n",
      " [7 5 9]\n",
      " [2 6 8]]\n"
     ]
    }
   ],
   "source": [
    "# Create a 2D array\n",
    "array_2d = np.array([[3, 1, 4], [7, 5, 9], [2, 6, 8]])\n",
    "print(\"Original 2D Array:\\n\", array_2d)"
   ]
  },
  {
   "cell_type": "code",
   "execution_count": null,
   "metadata": {},
   "outputs": [
    {
     "name": "stdout",
     "output_type": "stream",
     "text": [
      "Sorted along rows:\n",
      " [[2 1 4]\n",
      " [3 5 8]\n",
      " [7 6 9]]\n"
     ]
    }
   ],
   "source": [
    "# Sort along rows (axis=0)\n",
    "sorted_rows = np.sort(array_2d, axis=0)\n",
    "print(\"Sorted along rows:\\n\", sorted_rows)"
   ]
  },
  {
   "cell_type": "markdown",
   "metadata": {},
   "source": [
    "##### **Example 3: Sorting a 2D Array Along Columns**\n"
   ]
  },
  {
   "cell_type": "code",
   "execution_count": null,
   "metadata": {},
   "outputs": [
    {
     "name": "stdout",
     "output_type": "stream",
     "text": [
      "Original 2D Array:\n",
      " [[3 1 4]\n",
      " [7 5 9]\n",
      " [2 6 8]]\n"
     ]
    }
   ],
   "source": [
    "# Create a 2D array\n",
    "array_2d = np.array([[3, 1, 4], [7, 5, 9], [2, 6, 8]])\n",
    "print(\"Original 2D Array:\\n\", array_2d)"
   ]
  },
  {
   "cell_type": "code",
   "execution_count": null,
   "metadata": {},
   "outputs": [
    {
     "name": "stdout",
     "output_type": "stream",
     "text": [
      "Sorted along columns:\n",
      " [[1 3 4]\n",
      " [5 7 9]\n",
      " [2 6 8]]\n"
     ]
    }
   ],
   "source": [
    "# Sort along columns (axis=1)\n",
    "sorted_columns = np.sort(array_2d, axis=1)\n",
    "print(\"Sorted along columns:\\n\", sorted_columns)"
   ]
  },
  {
   "cell_type": "markdown",
   "metadata": {},
   "source": [
    "---"
   ]
  },
  {
   "cell_type": "markdown",
   "metadata": {},
   "source": [
    "#### **2.2 In-Place Sorting**"
   ]
  },
  {
   "cell_type": "markdown",
   "metadata": {},
   "source": [
    "\n",
    "In-place sorting modifies the original array directly instead of returning a new sorted array. This is useful when you want to save memory by avoiding the creation of a new array.\n",
    "\n",
    "---\n"
   ]
  },
  {
   "cell_type": "markdown",
   "metadata": {},
   "source": [
    "##### **Example 1: In-Place Sorting of a 1D Array**"
   ]
  },
  {
   "cell_type": "code",
   "execution_count": null,
   "metadata": {},
   "outputs": [
    {
     "name": "stdout",
     "output_type": "stream",
     "text": [
      "Original 1D Array: [3 1 4 1 5 9 2 6 5]\n"
     ]
    }
   ],
   "source": [
    "# Create a 1D array\n",
    "array_1d = np.array([3, 1, 4, 1, 5, 9, 2, 6, 5])\n",
    "print(\"Original 1D Array:\", array_1d)"
   ]
  },
  {
   "cell_type": "code",
   "execution_count": null,
   "metadata": {},
   "outputs": [
    {
     "name": "stdout",
     "output_type": "stream",
     "text": [
      "Sorted 1D Array (in-place): [1 1 2 3 4 5 5 6 9]\n"
     ]
    }
   ],
   "source": [
    "# Sort the array in-place\n",
    "array_1d.sort()\n",
    "print(\"Sorted 1D Array (in-place):\", array_1d)"
   ]
  },
  {
   "cell_type": "markdown",
   "metadata": {},
   "source": [
    "##### **Example 2: In-Place Sorting of a 2D Array Along Rows**"
   ]
  },
  {
   "cell_type": "code",
   "execution_count": null,
   "metadata": {},
   "outputs": [
    {
     "name": "stdout",
     "output_type": "stream",
     "text": [
      "Original 2D Array:\n",
      " [[3 1 4]\n",
      " [7 5 9]\n",
      " [2 6 8]]\n"
     ]
    }
   ],
   "source": [
    "# Create a 2D array\n",
    "array_2d = np.array([[3, 1, 4], [7, 5, 9], [2, 6, 8]])\n",
    "print(\"Original 2D Array:\\n\", array_2d)"
   ]
  },
  {
   "cell_type": "code",
   "execution_count": null,
   "metadata": {},
   "outputs": [
    {
     "name": "stdout",
     "output_type": "stream",
     "text": [
      "Sorted along rows (in-place):\n",
      " [[2 1 4]\n",
      " [3 5 8]\n",
      " [7 6 9]]\n"
     ]
    }
   ],
   "source": [
    "# Sort along rows (axis=0) in-place\n",
    "array_2d.sort(axis=0)\n",
    "print(\"Sorted along rows (in-place):\\n\", array_2d)"
   ]
  },
  {
   "cell_type": "markdown",
   "metadata": {},
   "source": [
    "---"
   ]
  },
  {
   "cell_type": "markdown",
   "metadata": {},
   "source": [
    "#### **2.3 Inverse Sorting (Descending Order)**"
   ]
  },
  {
   "cell_type": "markdown",
   "metadata": {},
   "source": [
    "\n",
    "To sort an array in **descending order**, you can use slicing with `[::-1]` after sorting in ascending order.\n",
    "\n",
    "---\n"
   ]
  },
  {
   "cell_type": "markdown",
   "metadata": {},
   "source": [
    "##### **Example 1: Sorting a 1D Array in Descending Order**"
   ]
  },
  {
   "cell_type": "code",
   "execution_count": null,
   "metadata": {},
   "outputs": [
    {
     "name": "stdout",
     "output_type": "stream",
     "text": [
      "Original 1D Array: [3 1 4 1 5 9 2 6 5]\n"
     ]
    }
   ],
   "source": [
    "# Create a 1D array\n",
    "array_1d = np.array([3, 1, 4, 1, 5, 9, 2, 6, 5])\n",
    "print(\"Original 1D Array:\", array_1d)"
   ]
  },
  {
   "cell_type": "code",
   "execution_count": null,
   "metadata": {},
   "outputs": [
    {
     "name": "stdout",
     "output_type": "stream",
     "text": [
      "Sorted in Descending Order: [9 6 5 5 4 3 2 1 1]\n"
     ]
    }
   ],
   "source": [
    "# Sort in ascending order, then reverse for descending\n",
    "sorted_descending = np.sort(array_1d)[::-1]\n",
    "print(\"Sorted in Descending Order:\", sorted_descending)"
   ]
  },
  {
   "cell_type": "markdown",
   "metadata": {},
   "source": [
    "##### **Example 2: Sorting a 2D Array in Descending Order Along Columns**"
   ]
  },
  {
   "cell_type": "code",
   "execution_count": null,
   "metadata": {},
   "outputs": [
    {
     "name": "stdout",
     "output_type": "stream",
     "text": [
      "Original 2D Array:\n",
      " [[3 1 4]\n",
      " [7 5 9]\n",
      " [2 6 8]]\n"
     ]
    }
   ],
   "source": [
    "# Create a 2D array\n",
    "array_2d = np.array([[3, 1, 4], [7, 5, 9], [2, 6, 8]])\n",
    "print(\"Original 2D Array:\\n\", array_2d)"
   ]
  },
  {
   "cell_type": "code",
   "execution_count": null,
   "metadata": {},
   "outputs": [
    {
     "name": "stdout",
     "output_type": "stream",
     "text": [
      "Sorted along columns (descending):\n",
      " [[7 6 9]\n",
      " [3 5 8]\n",
      " [2 1 4]]\n"
     ]
    }
   ],
   "source": [
    "# Sort along columns in descending order\n",
    "sorted_descending_columns = np.sort(array_2d, axis=0)[::-1]\n",
    "print(\"Sorted along columns (descending):\\n\", sorted_descending_columns)"
   ]
  },
  {
   "cell_type": "markdown",
   "metadata": {},
   "source": [
    "\n",
    "---\n"
   ]
  },
  {
   "cell_type": "markdown",
   "metadata": {},
   "source": [
    "#### **2.4 `np.argsort()`**"
   ]
  },
  {
   "cell_type": "markdown",
   "metadata": {},
   "source": [
    "The [`np.argsort()`](https://numpy.org/doc/stable/reference/generated/numpy.argsort.html) function returns the indices that would sort the array. This is useful for rearranging other arrays based on the sorted order.\n",
    "\n",
    "**Syntax:**\n",
    "```python\n",
    "np.argsort(array, axis=-1, kind=None, order=None)\n",
    "```\n",
    "\n",
    "- **`array`**: Input array.\n",
    "- **`axis`**: Axis along which to sort. Default is `-1` (last axis).\n",
    "- **`kind`**: Sorting algorithm. Default is `'quicksort'`.\n",
    "- **`order`**: For structured arrays, specifies the field to sort by.\n"
   ]
  },
  {
   "cell_type": "code",
   "execution_count": null,
   "metadata": {},
   "outputs": [],
   "source": [
    "# help(np.argsort)"
   ]
  },
  {
   "cell_type": "markdown",
   "metadata": {},
   "source": [
    "---"
   ]
  },
  {
   "cell_type": "markdown",
   "metadata": {},
   "source": [
    "##### **Example 1: Getting Indices for Sorting a 1D Array**"
   ]
  },
  {
   "cell_type": "code",
   "execution_count": null,
   "metadata": {},
   "outputs": [
    {
     "name": "stdout",
     "output_type": "stream",
     "text": [
      "Original 1D Array: [13 21 44 11 15 19 12 16 15]\n"
     ]
    }
   ],
   "source": [
    "# Create a 1D array\n",
    "array_1d = np.array([13, 21, 44, 11, 15, 19, 12, 16, 15])\n",
    "print(\"Original 1D Array:\", array_1d)"
   ]
  },
  {
   "cell_type": "code",
   "execution_count": null,
   "metadata": {},
   "outputs": [
    {
     "name": "stdout",
     "output_type": "stream",
     "text": [
      "Indices that would sort the array: [3 6 0 4 8 7 5 1 2]\n"
     ]
    }
   ],
   "source": [
    "# Get the indices that would sort the array\n",
    "sorted_indices = np.argsort(array_1d)\n",
    "print(\"Indices that would sort the array:\", sorted_indices)"
   ]
  },
  {
   "cell_type": "code",
   "execution_count": null,
   "metadata": {},
   "outputs": [
    {
     "name": "stdout",
     "output_type": "stream",
     "text": [
      "Rearranged array using indices: [11 12 13 15 15 16 19 21 44]\n"
     ]
    }
   ],
   "source": [
    "# Use the indices to rearrange the original array\n",
    "print(\"Rearranged array using indices:\", array_1d[sorted_indices])"
   ]
  },
  {
   "cell_type": "markdown",
   "metadata": {},
   "source": [
    "---"
   ]
  },
  {
   "cell_type": "markdown",
   "metadata": {},
   "source": [
    "### **3. Advanced Examples**"
   ]
  },
  {
   "cell_type": "markdown",
   "metadata": {},
   "source": [
    "\n",
    "#### **3.1 Sorting Structured Arrays**\n"
   ]
  },
  {
   "cell_type": "markdown",
   "metadata": {},
   "source": [
    "**Example: Sorting by a Specific Field**\n"
   ]
  },
  {
   "cell_type": "code",
   "execution_count": null,
   "metadata": {},
   "outputs": [
    {
     "name": "stdout",
     "output_type": "stream",
     "text": [
      "dtype:\n",
      " [('name', 'S10'), ('age', <class 'int'>), ('height', <class 'float'>)]\n",
      "\n",
      "Original Structured Array:\n",
      " [(b'Alice', 25, 5.5) (b'Bob', 30, 5.8) (b'Charlie', 20, 5.7)]\n"
     ]
    }
   ],
   "source": [
    "# Create a structured array\n",
    "dtype = [(\"name\", \"S10\"), (\"age\", int), (\"height\", float)]\n",
    "data = np.array(\n",
    "    [(\"Alice\", 25, 5.5), (\"Bob\", 30, 5.8), (\"Charlie\", 20, 5.7)], dtype=dtype\n",
    ")\n",
    "print(\"dtype:\\n\", dtype)\n",
    "print(\"\\nOriginal Structured Array:\\n\", data)"
   ]
  },
  {
   "cell_type": "code",
   "execution_count": null,
   "metadata": {},
   "outputs": [
    {
     "name": "stdout",
     "output_type": "stream",
     "text": [
      "Sorted by age:\n",
      " [(b'Charlie', 20, 5.7) (b'Alice', 25, 5.5) (b'Bob', 30, 5.8)]\n"
     ]
    }
   ],
   "source": [
    "# Sort by age\n",
    "sorted_by_age = np.sort(data, order=\"age\")\n",
    "print(\"Sorted by age:\\n\", sorted_by_age)"
   ]
  },
  {
   "cell_type": "code",
   "execution_count": null,
   "metadata": {},
   "outputs": [
    {
     "name": "stdout",
     "output_type": "stream",
     "text": [
      "Sorted by height (descending):\n",
      " [(b'Bob', 30, 5.8) (b'Charlie', 20, 5.7) (b'Alice', 25, 5.5)]\n"
     ]
    }
   ],
   "source": [
    "# Sort by height in descending order\n",
    "sorted_by_height_descending = np.sort(data, order=\"height\")[::-1]\n",
    "print(\"Sorted by height (descending):\\n\", sorted_by_height_descending)"
   ]
  },
  {
   "cell_type": "markdown",
   "metadata": {},
   "source": [
    "---\n",
    "---"
   ]
  },
  {
   "cell_type": "markdown",
   "metadata": {},
   "source": [
    "## **Useful NumPy Functions**"
   ]
  },
  {
   "cell_type": "code",
   "execution_count": 1,
   "metadata": {},
   "outputs": [],
   "source": [
    "import numpy as np"
   ]
  },
  {
   "cell_type": "markdown",
   "metadata": {},
   "source": [
    "---"
   ]
  },
  {
   "cell_type": "markdown",
   "metadata": {},
   "source": [
    "### **Table of Contents**\n",
    "1. **Logical Operations**\n",
    "   - `np.all()`\n",
    "   - `np.any()`\n",
    "2. **Conditional Operations**\n",
    "   - `np.where()`\n",
    "3. **Handling Missing Values**\n",
    "   - `np.isnan()`\n",
    "4. **Array Manipulation**\n",
    "   - `np.unique()`\n",
    "   - `np.argmax()` and `np.argmin()`\n",
    "   - `np.clip()`\n",
    "   - `np.reshape()`\n",
    "5. **Mathematical Operations**\n",
    "   - `np.sum()`\n",
    "   - `np.mean()`\n",
    "   - `np.max()` and `np.min()`\n",
    "---\n"
   ]
  },
  {
   "cell_type": "markdown",
   "metadata": {},
   "source": [
    "### **1. Logical Operations**"
   ]
  },
  {
   "cell_type": "markdown",
   "metadata": {},
   "source": [
    "\n",
    "#### **`np.all()`**\n"
   ]
  },
  {
   "cell_type": "markdown",
   "metadata": {},
   "source": [
    "Checks if **all elements** in an array evaluate to `True` along a specified axis.\n",
    "\n",
    "**Syntax:**\n",
    "```python\n",
    "np.all(array, axis=None)\n",
    "```\n",
    "\n",
    "- **`array`**: Input array.\n",
    "- **`axis`**: Axis along which to check. If `None`, checks all elements in the array.\n"
   ]
  },
  {
   "cell_type": "code",
   "execution_count": 2,
   "metadata": {},
   "outputs": [
    {
     "name": "stdout",
     "output_type": "stream",
     "text": [
      "[ True  True False  True]\n",
      "Are all elements True? False\n"
     ]
    }
   ],
   "source": [
    "# Check if all elements in a 1D array are True\n",
    "array_1d = np.array([True, True, False, True])\n",
    "print(array_1d)\n",
    "print(\"Are all elements True?\", np.all(array_1d))"
   ]
  },
  {
   "cell_type": "code",
   "execution_count": 3,
   "metadata": {},
   "outputs": [
    {
     "name": "stdout",
     "output_type": "stream",
     "text": [
      "[[ True  True]\n",
      " [False  True]\n",
      " [ True  True]]\n"
     ]
    }
   ],
   "source": [
    "array_2d = np.array([[True, True], [False, True], [True, True]])\n",
    "print(array_2d)"
   ]
  },
  {
   "cell_type": "code",
   "execution_count": 4,
   "metadata": {},
   "outputs": [
    {
     "name": "stdout",
     "output_type": "stream",
     "text": [
      "[[ True]\n",
      " [False]\n",
      " [ True]]\n"
     ]
    }
   ],
   "source": [
    "# Check if all elements along rows in a 2D array are True\n",
    "print(np.all(array_2d, axis=1, keepdims=True))"
   ]
  },
  {
   "cell_type": "code",
   "execution_count": null,
   "metadata": {},
   "outputs": [
    {
     "name": "stdout",
     "output_type": "stream",
     "text": [
      "[[False  True]]\n"
     ]
    }
   ],
   "source": [
    "# Check if all elements along columns in a 2D array are True\n",
    "print(np.all(array_2d, axis=0, keepdims=True))"
   ]
  },
  {
   "cell_type": "markdown",
   "metadata": {},
   "source": [
    "\n",
    "---\n"
   ]
  },
  {
   "cell_type": "markdown",
   "metadata": {},
   "source": [
    "\n",
    "#### **`np.any()`**\n"
   ]
  },
  {
   "cell_type": "markdown",
   "metadata": {},
   "source": [
    "Checks if **any element** in an array evaluates to `True` along a specified axis.\n",
    "\n",
    "**Syntax:**\n",
    "```python\n",
    "np.any(array, axis=None)\n",
    "```\n",
    "\n",
    "- **`array`**: Input array.\n",
    "- **`axis`**: Axis along which to check. If `None`, checks all elements in the array.\n"
   ]
  },
  {
   "cell_type": "code",
   "execution_count": 6,
   "metadata": {},
   "outputs": [
    {
     "name": "stdout",
     "output_type": "stream",
     "text": [
      "Is any element True? True\n"
     ]
    }
   ],
   "source": [
    "# Check if any element in a 1D array is True\n",
    "array_1d = np.array([False, False, True, False])\n",
    "print(\"Is any element True?\", np.any(array_1d))"
   ]
  },
  {
   "cell_type": "code",
   "execution_count": null,
   "metadata": {},
   "outputs": [
    {
     "name": "stdout",
     "output_type": "stream",
     "text": [
      "[[False False]\n",
      " [ True False]\n",
      " [False False]]\n"
     ]
    }
   ],
   "source": [
    "array_2d = np.array([[False, False], [True, False], [False, False]])\n",
    "print(array_2d)"
   ]
  },
  {
   "cell_type": "code",
   "execution_count": null,
   "metadata": {},
   "outputs": [
    {
     "name": "stdout",
     "output_type": "stream",
     "text": [
      "[[False]\n",
      " [ True]\n",
      " [False]]\n"
     ]
    }
   ],
   "source": [
    "# Check if any element along rows in a 2D array is True\n",
    "print(np.any(array_2d, axis=1, keepdims=True))"
   ]
  },
  {
   "cell_type": "code",
   "execution_count": null,
   "metadata": {},
   "outputs": [
    {
     "name": "stdout",
     "output_type": "stream",
     "text": [
      "[[ True False]]\n"
     ]
    }
   ],
   "source": [
    "# Check if any element along columns in a 2D array is True\n",
    "print(np.any(array_2d, axis=0, keepdims=True))"
   ]
  },
  {
   "cell_type": "markdown",
   "metadata": {},
   "source": [
    "\n",
    "---\n"
   ]
  },
  {
   "cell_type": "markdown",
   "metadata": {},
   "source": [
    "\n",
    "### **2. Conditional Operations**\n"
   ]
  },
  {
   "cell_type": "markdown",
   "metadata": {},
   "source": [
    "\n",
    "#### **`np.where()`**\n"
   ]
  },
  {
   "cell_type": "markdown",
   "metadata": {},
   "source": [
    "Returns the indices or values where a condition is `True`. It can also replace values based on a condition.\n",
    "\n",
    "**Syntax:**\n",
    "```python\n",
    "np.where(condition, x, y)\n",
    "```\n",
    "\n",
    "- **`condition`**: Condition to check.\n",
    "- **`x`**: Values to return where the condition is `True`.\n",
    "- **`y`**: Values to return where the condition is `False`.\n"
   ]
  },
  {
   "cell_type": "code",
   "execution_count": null,
   "metadata": {},
   "outputs": [
    {
     "name": "stdout",
     "output_type": "stream",
     "text": [
      "Indices where elements > 3: (array([3, 4], dtype=int64),)\n"
     ]
    }
   ],
   "source": [
    "# Find indices where elements are greater than 3\n",
    "array_1d = np.array([1, 2, 3, 4, 5])\n",
    "print(\"Indices where elements > 3:\", np.where(array_1d > 3))"
   ]
  },
  {
   "cell_type": "code",
   "execution_count": null,
   "metadata": {},
   "outputs": [
    {
     "name": "stdout",
     "output_type": "stream",
     "text": [
      "Array after replacement: [ 1  2  3 10 10]\n"
     ]
    }
   ],
   "source": [
    "# Replace elements greater than 3 with 10, otherwise keep the original value\n",
    "print(\"Array after replacement:\", np.where(array_1d > 3, 10, array_1d))"
   ]
  },
  {
   "cell_type": "markdown",
   "metadata": {},
   "source": [
    "\n",
    "---\n"
   ]
  },
  {
   "cell_type": "markdown",
   "metadata": {},
   "source": [
    "\n",
    "### **3. Handling Missing Values**\n"
   ]
  },
  {
   "cell_type": "markdown",
   "metadata": {},
   "source": [
    "#### **`np.isnan()`**"
   ]
  },
  {
   "cell_type": "markdown",
   "metadata": {},
   "source": [
    "Checks for **NaN (Not a Number)** values in an array and returns a boolean array.\n",
    "\n",
    "**Syntax:**\n",
    "```python\n",
    "np.isnan(array)\n",
    "```\n",
    "\n",
    "- **`array`**: Input array.\n"
   ]
  },
  {
   "cell_type": "code",
   "execution_count": null,
   "metadata": {},
   "outputs": [
    {
     "name": "stdout",
     "output_type": "stream",
     "text": [
      "Is NaN? [False False  True False  True]\n"
     ]
    }
   ],
   "source": [
    "# Check for NaN values in a 1D array\n",
    "array_1d = np.array([1, 2, np.nan, 4, np.nan])\n",
    "print(\"Is NaN?\", np.isnan(array_1d))"
   ]
  },
  {
   "cell_type": "code",
   "execution_count": null,
   "metadata": {},
   "outputs": [
    {
     "name": "stdout",
     "output_type": "stream",
     "text": [
      "Array after replacing NaN with 0: [1. 2. 0. 4. 0.]\n"
     ]
    }
   ],
   "source": [
    "# Replace NaN values with 0\n",
    "array_1d[np.isnan(array_1d)] = 0\n",
    "print(\"Array after replacing NaN with 0:\", array_1d)"
   ]
  },
  {
   "cell_type": "markdown",
   "metadata": {},
   "source": [
    "\n",
    "---\n"
   ]
  },
  {
   "cell_type": "markdown",
   "metadata": {},
   "source": [
    "\n",
    "### **4. Array Manipulation**\n"
   ]
  },
  {
   "cell_type": "markdown",
   "metadata": {},
   "source": [
    "\n",
    "#### **`np.unique()`**\n"
   ]
  },
  {
   "cell_type": "markdown",
   "metadata": {},
   "source": [
    "Returns the **unique elements** in an array, sorted in ascending order.\n",
    "\n",
    "**Syntax:**\n",
    "```python\n",
    "np.unique(array, return_index=False, return_counts=False)\n",
    "```\n",
    "\n",
    "- **`array`**: Input array.\n",
    "- **`return_index`**: If `True`, returns the indices of the first occurrences of the unique elements.\n",
    "- **`return_counts`**: If `True`, returns the counts of each unique element.\n"
   ]
  },
  {
   "cell_type": "code",
   "execution_count": 17,
   "metadata": {},
   "outputs": [
    {
     "data": {
      "text/plain": [
       "array([1, 2, 2, 3, 3, 3, 4])"
      ]
     },
     "execution_count": 17,
     "metadata": {},
     "output_type": "execute_result"
    }
   ],
   "source": [
    "array_1d = np.array([1, 2, 2, 3, 3, 3, 4])\n",
    "array_1d"
   ]
  },
  {
   "cell_type": "code",
   "execution_count": 18,
   "metadata": {},
   "outputs": [
    {
     "name": "stdout",
     "output_type": "stream",
     "text": [
      "Unique Elements: [1 2 3 4]\n"
     ]
    }
   ],
   "source": [
    "# Find unique elements in a 1D array\n",
    "print(\"Unique Elements:\", np.unique(array_1d))"
   ]
  },
  {
   "cell_type": "code",
   "execution_count": 19,
   "metadata": {},
   "outputs": [
    {
     "name": "stdout",
     "output_type": "stream",
     "text": [
      "Unique Elements: [1 2 3 4]\n",
      "Indices of first occurrences: [0 1 3 6]\n",
      "Counts of unique elements: [1 2 3 1]\n"
     ]
    }
   ],
   "source": [
    "# Find unique elements with indices and counts\n",
    "unique_elements, indices, counts = np.unique(\n",
    "    array_1d, return_index=True, return_counts=True\n",
    ")\n",
    "\n",
    "print(\"Unique Elements:\", unique_elements)\n",
    "print(\"Indices of first occurrences:\", indices)\n",
    "print(\"Counts of unique elements:\", counts)"
   ]
  },
  {
   "cell_type": "markdown",
   "metadata": {},
   "source": [
    "\n",
    "---\n"
   ]
  },
  {
   "cell_type": "markdown",
   "metadata": {},
   "source": [
    "#### **`np.argmax()` and `np.argmin()`**"
   ]
  },
  {
   "cell_type": "markdown",
   "metadata": {},
   "source": [
    "Returns the **indices of the maximum and minimum values** along an axis.\n",
    "\n",
    "**Syntax:**\n",
    "```python\n",
    "np.argmax(array, axis=None)\n",
    "np.argmin(array, axis=None)\n",
    "```\n",
    "\n",
    "- **`array`**: Input array.\n",
    "- **`axis`**: Axis along which to find the indices. If `None`, works on the flattened array.\n"
   ]
  },
  {
   "cell_type": "code",
   "execution_count": null,
   "metadata": {},
   "outputs": [
    {
     "name": "stdout",
     "output_type": "stream",
     "text": [
      "Index of maximum value: 3\n",
      "Index of minimum value: 0\n"
     ]
    }
   ],
   "source": [
    "# Find index of maximum and minimum in a 1D array\n",
    "array_1d = np.array([1, 5, 3, 9, 2])\n",
    "print(\"Index of maximum value:\", np.argmax(array_1d))  # Output: 3\n",
    "print(\"Index of minimum value:\", np.argmin(array_1d))  # Output: 0"
   ]
  },
  {
   "cell_type": "code",
   "execution_count": 20,
   "metadata": {},
   "outputs": [
    {
     "name": "stdout",
     "output_type": "stream",
     "text": [
      "[[1 5 3]\n",
      " [9 2 8]\n",
      " [4 7 6]]\n"
     ]
    }
   ],
   "source": [
    "array_2d = np.array([[1, 5, 3], [9, 2, 8], [4, 7, 6]])\n",
    "print(array_2d)"
   ]
  },
  {
   "cell_type": "code",
   "execution_count": 21,
   "metadata": {},
   "outputs": [
    {
     "name": "stdout",
     "output_type": "stream",
     "text": [
      "Indices of maximum values along rows:\n",
      " [[1]\n",
      " [0]\n",
      " [1]]\n",
      "Indices of minimum values along rows:\n",
      " [[0]\n",
      " [1]\n",
      " [0]]\n"
     ]
    }
   ],
   "source": [
    "# Find indices of maximum and minimum along rows in a 2D array\n",
    "print(\n",
    "    \"Indices of maximum values along rows:\\n\",\n",
    "    np.argmax(array_2d, axis=1, keepdims=True),\n",
    ")\n",
    "\n",
    "print(\n",
    "    \"Indices of minimum values along rows:\\n\",\n",
    "    np.argmin(array_2d, axis=1, keepdims=True),\n",
    ")"
   ]
  },
  {
   "cell_type": "code",
   "execution_count": 22,
   "metadata": {},
   "outputs": [
    {
     "name": "stdout",
     "output_type": "stream",
     "text": [
      "Indices of maximum values along cols:\n",
      " [[1 2 1]]\n",
      "Indices of minimum values along cols:\n",
      " [[0 1 0]]\n"
     ]
    }
   ],
   "source": [
    "# Find indices of maximum and minimum along cols in a 2D array\n",
    "print(\n",
    "    \"Indices of maximum values along cols:\\n\",\n",
    "    np.argmax(array_2d, axis=0, keepdims=True),\n",
    ")\n",
    "\n",
    "print(\n",
    "    \"Indices of minimum values along cols:\\n\",\n",
    "    np.argmin(array_2d, axis=0, keepdims=True),\n",
    ")"
   ]
  },
  {
   "cell_type": "markdown",
   "metadata": {},
   "source": [
    "\n",
    "---"
   ]
  },
  {
   "cell_type": "markdown",
   "metadata": {},
   "source": [
    "\n",
    "#### **`np.clip()`**\n"
   ]
  },
  {
   "cell_type": "markdown",
   "metadata": {},
   "source": [
    "Limits the values in an array to a specified range.\n",
    "\n",
    "**Syntax:**\n",
    "```python\n",
    "np.clip(array, min, max)\n",
    "```\n",
    "\n",
    "- **`array`**: Input array.\n",
    "- **`min`**: Minimum value.\n",
    "- **`max`**: Maximum value.\n"
   ]
  },
  {
   "cell_type": "code",
   "execution_count": null,
   "metadata": {},
   "outputs": [
    {
     "name": "stdout",
     "output_type": "stream",
     "text": [
      "Clipped array: [2 2 3 4 4]\n"
     ]
    }
   ],
   "source": [
    "# Clip values in a 1D array\n",
    "array_1d = np.array([1, 2, 3, 4, 5])\n",
    "print(\"Clipped array:\", np.clip(array_1d, a_min=2, a_max=4))"
   ]
  },
  {
   "cell_type": "markdown",
   "metadata": {},
   "source": [
    "\n",
    "---\n"
   ]
  },
  {
   "cell_type": "markdown",
   "metadata": {},
   "source": [
    "\n",
    "#### **`np.reshape()`**\n"
   ]
  },
  {
   "cell_type": "markdown",
   "metadata": {},
   "source": [
    "Changes the shape of an array without changing its data.\n",
    "\n",
    "**Syntax:**\n",
    "```python\n",
    "np.reshape(array, new_shape)\n",
    "```\n",
    "\n",
    "- **`array`**: Input array.\n",
    "- **`new_shape`**: New shape (must be compatible with the original shape).\n"
   ]
  },
  {
   "cell_type": "code",
   "execution_count": null,
   "metadata": {},
   "outputs": [
    {
     "name": "stdout",
     "output_type": "stream",
     "text": [
      "Reshaped array:\n",
      " [[1 2 3]\n",
      " [4 5 6]]\n"
     ]
    }
   ],
   "source": [
    "# Reshape a 1D array to a 2D array\n",
    "array_1d = np.array([1, 2, 3, 4, 5, 6])\n",
    "print(\"Reshaped array:\\n\", np.reshape(array_1d, (2, 3)))"
   ]
  },
  {
   "cell_type": "markdown",
   "metadata": {},
   "source": [
    "\n",
    "---\n"
   ]
  },
  {
   "cell_type": "markdown",
   "metadata": {},
   "source": [
    "\n",
    "### **5. Mathematical Operations**\n"
   ]
  },
  {
   "cell_type": "markdown",
   "metadata": {},
   "source": [
    "\n",
    "#### **`np.sum()`**\n"
   ]
  },
  {
   "cell_type": "markdown",
   "metadata": {},
   "source": [
    "Computes the sum of array elements along a specified axis.\n",
    "\n",
    "**Syntax:**\n",
    "```python\n",
    "np.sum(array, axis=None)\n",
    "```\n",
    "\n",
    "- **`array`**: Input array.\n",
    "- **`axis`**: Axis along which to compute the sum. If `None`, sums all elements.\n"
   ]
  },
  {
   "cell_type": "code",
   "execution_count": null,
   "metadata": {},
   "outputs": [
    {
     "name": "stdout",
     "output_type": "stream",
     "text": [
      "Sum of all elements: 15\n"
     ]
    }
   ],
   "source": [
    "# Sum of all elements in a 1D array\n",
    "array_1d = np.array([1, 2, 3, 4, 5])\n",
    "print(\"Sum of all elements:\", np.sum(array_1d))"
   ]
  },
  {
   "cell_type": "code",
   "execution_count": null,
   "metadata": {},
   "outputs": [
    {
     "name": "stdout",
     "output_type": "stream",
     "text": [
      "[[1 2]\n",
      " [3 4]\n",
      " [5 6]]\n"
     ]
    }
   ],
   "source": [
    "array_2d = np.array([[1, 2], [3, 4], [5, 6]])\n",
    "print(array_2d)"
   ]
  },
  {
   "cell_type": "code",
   "execution_count": null,
   "metadata": {},
   "outputs": [
    {
     "name": "stdout",
     "output_type": "stream",
     "text": [
      "Sum along rows:\n",
      " [[ 3]\n",
      " [ 7]\n",
      " [11]]\n"
     ]
    }
   ],
   "source": [
    "# Sum along rows in a 2D array\n",
    "print(\"Sum along rows:\\n\", np.sum(array_2d, axis=1, keepdims=True))"
   ]
  },
  {
   "cell_type": "code",
   "execution_count": null,
   "metadata": {},
   "outputs": [
    {
     "name": "stdout",
     "output_type": "stream",
     "text": [
      "Sum along cols: [ 9 12]\n"
     ]
    }
   ],
   "source": [
    "# Sum along cols in a 2D array\n",
    "print(\"Sum along cols:\", np.sum(array_2d, axis=0))"
   ]
  },
  {
   "cell_type": "markdown",
   "metadata": {},
   "source": [
    "\n",
    "---\n"
   ]
  },
  {
   "cell_type": "markdown",
   "metadata": {},
   "source": [
    "\n",
    "#### **`np.mean()`**\n"
   ]
  },
  {
   "cell_type": "markdown",
   "metadata": {},
   "source": [
    "Computes the mean of array elements along a specified axis.\n",
    "\n",
    "**Syntax:**\n",
    "```python\n",
    "np.mean(array, axis=None)\n",
    "```\n",
    "\n",
    "- **`array`**: Input array.\n",
    "- **`axis`**: Axis along which to compute the mean. If `None`, computes the mean of all elements.\n"
   ]
  },
  {
   "cell_type": "code",
   "execution_count": null,
   "metadata": {},
   "outputs": [
    {
     "name": "stdout",
     "output_type": "stream",
     "text": [
      "Mean of all elements: 3.0\n"
     ]
    }
   ],
   "source": [
    "# Mean of all elements in a 1D array\n",
    "array_1d = np.array([1, 2, 3, 4, 5])\n",
    "print(\"Mean of all elements:\", np.mean(array_1d))"
   ]
  },
  {
   "cell_type": "code",
   "execution_count": null,
   "metadata": {},
   "outputs": [
    {
     "name": "stdout",
     "output_type": "stream",
     "text": [
      "Mean along columns: [3. 4.]\n"
     ]
    }
   ],
   "source": [
    "# Mean along columns in a 2D array\n",
    "array_2d = np.array([[1, 2], [3, 4], [5, 6]])\n",
    "print(\"Mean along columns:\", np.mean(array_2d, axis=0))"
   ]
  },
  {
   "cell_type": "markdown",
   "metadata": {},
   "source": [
    "\n",
    "---\n"
   ]
  },
  {
   "cell_type": "markdown",
   "metadata": {},
   "source": [
    "\n",
    "#### **`np.max()` and `np.min()`**\n"
   ]
  },
  {
   "cell_type": "markdown",
   "metadata": {},
   "source": [
    "Returns the **maximum and minimum values** along a specified axis.\n",
    "\n",
    "**Syntax:**\n",
    "```python\n",
    "np.max(array, axis=None)\n",
    "np.min(array, axis=None)\n",
    "```\n",
    "\n",
    "- **`array`**: Input array.\n",
    "- **`axis`**: Axis along which to find the max/min. If `None`, works on the flattened array.\n"
   ]
  },
  {
   "cell_type": "code",
   "execution_count": null,
   "metadata": {},
   "outputs": [
    {
     "name": "stdout",
     "output_type": "stream",
     "text": [
      "Maximum value: 5\n",
      "Minimum value: 1\n"
     ]
    }
   ],
   "source": [
    "# Maximum and minimum in a 1D array\n",
    "array_1d = np.array([1, 2, 3, 4, 5])\n",
    "print(\"Maximum value:\", np.max(array_1d))\n",
    "print(\"Minimum value:\", np.min(array_1d))"
   ]
  },
  {
   "cell_type": "code",
   "execution_count": null,
   "metadata": {},
   "outputs": [
    {
     "name": "stdout",
     "output_type": "stream",
     "text": [
      "[[1 2]\n",
      " [3 4]\n",
      " [5 6]]\n"
     ]
    }
   ],
   "source": [
    "array_2d = np.array([[1, 2], [3, 4], [5, 6]])\n",
    "print(array_2d)"
   ]
  },
  {
   "cell_type": "code",
   "execution_count": null,
   "metadata": {},
   "outputs": [
    {
     "name": "stdout",
     "output_type": "stream",
     "text": [
      "Maximum along columns: [5 6]\n",
      "Minimum along columns: [1 2]\n"
     ]
    }
   ],
   "source": [
    "# Maximum and minimum along columns in a 2D array\n",
    "array_2d = np.array([[1, 2], [3, 4], [5, 6]])\n",
    "print(\"Maximum along columns:\", np.max(array_2d, axis=0))\n",
    "print(\"Minimum along columns:\", np.min(array_2d, axis=0))"
   ]
  },
  {
   "cell_type": "markdown",
   "metadata": {},
   "source": [
    "---\n",
    "---\n",
    "---"
   ]
  },
  {
   "cell_type": "markdown",
   "metadata": {},
   "source": [
    "## **Vector Arithmetic Operations in NumPy**"
   ]
  },
  {
   "cell_type": "markdown",
   "metadata": {},
   "source": [
    "### **Table of Contents** ###\n",
    "\n",
    "- Defining A Vector\n",
    "- Vector Addition\n",
    "- Vector Subtraction\n",
    "- Vector-Vector Multiplication\n",
    "- Vector Division\n",
    "- Vector .dot() Product\n",
    "- Vector-Scalar Multiplication"
   ]
  },
  {
   "cell_type": "code",
   "execution_count": null,
   "metadata": {},
   "outputs": [],
   "source": [
    "import numpy as np"
   ]
  },
  {
   "cell_type": "markdown",
   "metadata": {},
   "source": [
    "### **Defining Vectors**"
   ]
  },
  {
   "cell_type": "code",
   "execution_count": null,
   "metadata": {},
   "outputs": [
    {
     "name": "stdout",
     "output_type": "stream",
     "text": [
      "Vector_1: [1 2 3]\n",
      "Vector_2: [1 2 3]\n"
     ]
    }
   ],
   "source": [
    "vector1 = np.array([1, 2, 3])\n",
    "vector2 = np.array([1, 2, 3])\n",
    "print(f\"Vector_1: {vector1}\")\n",
    "print(f\"Vector_2: {vector2}\")"
   ]
  },
  {
   "cell_type": "markdown",
   "metadata": {},
   "source": [
    "### **Vector Addition**"
   ]
  },
  {
   "cell_type": "code",
   "execution_count": null,
   "metadata": {},
   "outputs": [
    {
     "name": "stdout",
     "output_type": "stream",
     "text": [
      "Vector_1 + Vector_2: [2 4 6]\n"
     ]
    }
   ],
   "source": [
    "add_result = vector1 + vector2\n",
    "print(f\"Vector_1 + Vector_2: {add_result}\")"
   ]
  },
  {
   "cell_type": "markdown",
   "metadata": {},
   "source": [
    "### **Vector Subtraction**"
   ]
  },
  {
   "cell_type": "code",
   "execution_count": null,
   "metadata": {},
   "outputs": [
    {
     "name": "stdout",
     "output_type": "stream",
     "text": [
      "Vector 3: [0.5 0.5 0.5]\n",
      "\n",
      "Vector_1 - Vector_3: [0.5 1.5 2.5]\n"
     ]
    }
   ],
   "source": [
    "vector3 = np.array([0.5, 0.5, 0.5])\n",
    "print(f\"Vector 3: {vector3}\\n\")\n",
    "\n",
    "sub_result = vector1 - vector3\n",
    "print(f\"Vector_1 - Vector_3: {sub_result}\")"
   ]
  },
  {
   "cell_type": "markdown",
   "metadata": {},
   "source": [
    "### **Vector Multiplication (Element-wise)**\n"
   ]
  },
  {
   "cell_type": "code",
   "execution_count": null,
   "metadata": {},
   "outputs": [
    {
     "name": "stdout",
     "output_type": "stream",
     "text": [
      "Vector_1 * Vector_2: [1 4 9]\n"
     ]
    }
   ],
   "source": [
    "multiplication_result = vector1 * vector2\n",
    "print(f\"Vector_1 * Vector_2: {multiplication_result}\")"
   ]
  },
  {
   "cell_type": "markdown",
   "metadata": {},
   "source": [
    "### **Vector Division (Element-wise)**\n"
   ]
  },
  {
   "cell_type": "code",
   "execution_count": null,
   "metadata": {},
   "outputs": [
    {
     "name": "stdout",
     "output_type": "stream",
     "text": [
      "Vector_1 / Vector_2: [1. 1. 1.]\n"
     ]
    }
   ],
   "source": [
    "division_result = vector1 / vector2\n",
    "print(f\"Vector_1 / Vector_2: {division_result}\")"
   ]
  },
  {
   "cell_type": "markdown",
   "metadata": {},
   "source": [
    "### **Vector Dot Product**\n"
   ]
  },
  {
   "cell_type": "code",
   "execution_count": null,
   "metadata": {},
   "outputs": [
    {
     "name": "stdout",
     "output_type": "stream",
     "text": [
      "Dot Product of Vector_1 and Vector_2: 14\n"
     ]
    }
   ],
   "source": [
    "dot_product_result = np.dot(vector1, vector2)\n",
    "print(f\"Dot Product of Vector_1 and Vector_2: {dot_product_result}\")"
   ]
  },
  {
   "cell_type": "markdown",
   "metadata": {},
   "source": [
    "### **Vector-Scalar Multiplication**\n"
   ]
  },
  {
   "cell_type": "code",
   "execution_count": null,
   "metadata": {},
   "outputs": [
    {
     "name": "stdout",
     "output_type": "stream",
     "text": [
      "Scalar: 0.5\n",
      "Scalar * Vector_1: [0.5 1.  1.5]\n"
     ]
    }
   ],
   "source": [
    "scalar = 0.5\n",
    "print(f\"Scalar: {scalar}\")\n",
    "\n",
    "scalar_multiplication_result = scalar * vector1\n",
    "print(f\"Scalar * Vector_1: {scalar_multiplication_result}\")"
   ]
  },
  {
   "cell_type": "markdown",
   "metadata": {},
   "source": [
    "---\n",
    "---"
   ]
  },
  {
   "cell_type": "markdown",
   "metadata": {},
   "source": [
    "## **Vector Norms**"
   ]
  },
  {
   "cell_type": "markdown",
   "metadata": {},
   "source": [
    "### **Table of Contents**\n",
    "\n",
    "- L1 Norm (Manhattan Norm)\n",
    "- L2 Norm (Euclidean Norm)\n",
    "- L`n` Norm (Generalized Norm)\n",
    "- Max Norm (Infinity Norm)"
   ]
  },
  {
   "cell_type": "code",
   "execution_count": null,
   "metadata": {},
   "outputs": [],
   "source": [
    "import numpy as np"
   ]
  },
  {
   "cell_type": "markdown",
   "metadata": {},
   "source": [
    "### **Defining Vector**"
   ]
  },
  {
   "cell_type": "code",
   "execution_count": null,
   "metadata": {},
   "outputs": [
    {
     "name": "stdout",
     "output_type": "stream",
     "text": [
      "[1 2 3]\n"
     ]
    }
   ],
   "source": [
    "vector = np.array([1, 2, 3])\n",
    "print(vector)"
   ]
  },
  {
   "cell_type": "markdown",
   "metadata": {},
   "source": [
    "### **L1 Norm (Manhattan Norm)**"
   ]
  },
  {
   "cell_type": "markdown",
   "metadata": {},
   "source": [
    "- **Formula**:\n",
    "  $$\n",
    "  \\|X\\|_1 = \\sum_{i=1}^n |x_i|\n",
    "  $$\n",
    "- **Description**: Sum of the absolute values of the vector components.\n",
    "- **Use Case**: Used in regularization (Lasso regression) and sparse feature selection."
   ]
  },
  {
   "cell_type": "code",
   "execution_count": null,
   "metadata": {},
   "outputs": [
    {
     "name": "stdout",
     "output_type": "stream",
     "text": [
      "L1 Norm (Manhattan norm) of Vector: 6.0\n"
     ]
    }
   ],
   "source": [
    "# L1 Norm (Manhattan norm)\n",
    "l1_norm = np.linalg.norm(vector, ord=1)\n",
    "print(f\"L1 Norm (Manhattan norm) of Vector: {l1_norm}\")"
   ]
  },
  {
   "cell_type": "markdown",
   "metadata": {},
   "source": [
    "---"
   ]
  },
  {
   "cell_type": "markdown",
   "metadata": {},
   "source": [
    "\n",
    "### **L2 Norm (Euclidean Norm)**"
   ]
  },
  {
   "cell_type": "markdown",
   "metadata": {},
   "source": [
    "- **Formula**:\n",
    "  $$\n",
    "  \\|X\\|_2 = \\sqrt{\\sum_{i=1}^n x_i^2}\n",
    "  $$\n",
    "- **Description**: Square root of the sum of squared vector components. Represents the Euclidean distance.\n",
    "- **Use Case**: Used in regularization (Ridge regression), distance metrics, and normalization."
   ]
  },
  {
   "cell_type": "code",
   "execution_count": null,
   "metadata": {},
   "outputs": [
    {
     "name": "stdout",
     "output_type": "stream",
     "text": [
      "L2 Norm (Euclidean norm) of Vector: 3.7416573867739413\n"
     ]
    }
   ],
   "source": [
    "# L2 Norm (Euclidean norm)\n",
    "l2_norm = np.linalg.norm(vector)\n",
    "print(f\"L2 Norm (Euclidean norm) of Vector: {l2_norm}\")"
   ]
  },
  {
   "cell_type": "markdown",
   "metadata": {},
   "source": [
    "---"
   ]
  },
  {
   "cell_type": "markdown",
   "metadata": {},
   "source": [
    "\n",
    "### **L`n` Norm (Generalized Norm)**\n"
   ]
  },
  {
   "cell_type": "markdown",
   "metadata": {},
   "source": [
    "- **Formula**:\n",
    "  $$\n",
    "  \\|X\\|_n = \\left( \\sum_{i=1}^n |x_i|^n \\right)^{1/n}\n",
    "  $$\n",
    "- **Description**: Generalization of L1 and L2 norms for any positive integer `n`.\n",
    "- **Use Case**: Used in specialized optimization problems and distance metrics."
   ]
  },
  {
   "cell_type": "code",
   "execution_count": null,
   "metadata": {},
   "outputs": [
    {
     "name": "stdout",
     "output_type": "stream",
     "text": [
      "L5 Norm of Vector: 3.077384885394063\n"
     ]
    }
   ],
   "source": [
    "n = 5\n",
    "ln_norm = np.linalg.norm(vector, ord=n)\n",
    "print(f\"L{n} Norm of Vector: {ln_norm}\")"
   ]
  },
  {
   "cell_type": "markdown",
   "metadata": {},
   "source": [
    "---"
   ]
  },
  {
   "cell_type": "markdown",
   "metadata": {},
   "source": [
    "\n",
    "### **Max Norm (Infinity Norm)**\n"
   ]
  },
  {
   "cell_type": "markdown",
   "metadata": {},
   "source": [
    "\n",
    "- **Formula**:\n",
    "  $$\n",
    "  \\|X\\|_\\infty = \\max(|x_1|, |x_2|, \\dots, |x_n|)\n",
    "  $$\n",
    "- **Description**: Maximum absolute value among the vector components.\n",
    "- **Use Case**: Used in optimization and to bound the magnitude of vectors.\n"
   ]
  },
  {
   "cell_type": "code",
   "execution_count": null,
   "metadata": {},
   "outputs": [
    {
     "name": "stdout",
     "output_type": "stream",
     "text": [
      "Infinity Norm (Maximum absolute value) of Vector: 3.0\n"
     ]
    }
   ],
   "source": [
    "# Infinity Norm (Maximum absolute value)\n",
    "inf_norm = np.linalg.norm(vector, ord=np.inf)\n",
    "print(f\"Infinity Norm (Maximum absolute value) of Vector: {inf_norm}\")"
   ]
  },
  {
   "cell_type": "markdown",
   "metadata": {},
   "source": [
    "---"
   ]
  }
 ],
 "metadata": {
  "kernelspec": {
   "display_name": "Python 3",
   "language": "python",
   "name": "python3"
  },
  "language_info": {
   "codemirror_mode": {
    "name": "ipython",
    "version": 3
   },
   "file_extension": ".py",
   "mimetype": "text/x-python",
   "name": "python",
   "nbconvert_exporter": "python",
   "pygments_lexer": "ipython3",
   "version": "3.12.4"
  }
 },
 "nbformat": 4,
 "nbformat_minor": 2
}
